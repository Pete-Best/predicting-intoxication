{
 "cells": [
  {
   "cell_type": "markdown",
   "metadata": {},
   "source": [
    "# Modeling: Part 1\n"
   ]
  },
  {
   "cell_type": "code",
   "execution_count": 13,
   "metadata": {},
   "outputs": [],
   "source": [
    "# data processing\n",
    "import pandas as pd\n",
    "import numpy as np\n",
    "from datetime import datetime\n",
    "from scipy import stats\n",
    "from sklearn.model_selection import train_test_split\n",
    "from sklearn.preprocessing import OneHotEncoder\n",
    "\n",
    "# data visualization\n",
    "import seaborn as sns\n",
    "from matplotlib import pyplot as plt\n",
    "from matplotlib import style\n",
    "\n",
    "# algorithms\n",
    "from sklearn import linear_model\n",
    "from sklearn.ensemble import GradientBoostingClassifier\n",
    "from sklearn.neighbors import KNeighborsClassifier\n",
    "from sklearn.linear_model import LogisticRegression\n",
    "from sklearn.ensemble import RandomForestClassifier\n",
    "from sklearn.linear_model import Perceptron\n",
    "from sklearn.linear_model import SGDClassifier\n",
    "from sklearn.tree import DecisionTreeClassifier\n",
    "from sklearn.neighbors import KNeighborsClassifier\n",
    "from sklearn.svm import SVC, LinearSVC\n",
    "from sklearn.naive_bayes import GaussianNB\n",
    "from sklearn.svm import SVC\n",
    "\n",
    "# training\n",
    "from sklearn.model_selection import train_test_split, cross_validate\n",
    "from sklearn.model_selection import TimeSeriesSplit\n",
    "\n",
    "# evaluation\n",
    "from sklearn.metrics import classification_report\n",
    "#from sklearn.metrics import accuracy_score, precision_recall_fscore_support, classification_report, roc_auc_score, plot_roc_curve\n",
    "from sklearn.metrics import confusion_matrix\n",
    "\n",
    "from sklearn.ensemble import RandomForestRegressor\n",
    "from sklearn.metrics import mean_squared_error, mean_absolute_error, explained_variance_score\n",
    "from sklearn.model_selection import GridSearchCV\n"
   ]
  },
  {
   "cell_type": "code",
   "execution_count": 14,
   "metadata": {},
   "outputs": [],
   "source": [
    "import numpy as np\n",
    "import pandas as pd\n",
    "import matplotlib.pyplot as plt\n",
    "import seaborn as sns\n",
    "from sklearn.preprocessing import StandardScaler\n",
    "from sklearn.metrics import accuracy_score, precision_recall_fscore_support, classification_report"
   ]
  },
  {
   "cell_type": "code",
   "execution_count": 46,
   "metadata": {},
   "outputs": [],
   "source": [
    "# half sec\n",
    "#df = pd.read_pickle('/Users/lolajohnston/Documents/GitHub/ML_FINAL CHECK/half_sec_final.pkl')"
   ]
  },
  {
   "cell_type": "code",
   "execution_count": 96,
   "metadata": {},
   "outputs": [],
   "source": [
    "# ten sec\n",
    "df = pd.read_pickle('/Users/lolajohnston/Documents/GitHub/ML_project/ten_sec.pkl')\n",
    "df.reset_index(inplace = True, drop = True)\n",
    "df['time'] = df['time'].astype(float)\n",
    "# we need to order by time to make splitting easier\n",
    "df.sort_values(by = ['time'], inplace = True)"
   ]
  },
  {
   "cell_type": "code",
   "execution_count": 97,
   "metadata": {},
   "outputs": [],
   "source": [
    "# prepare target\n",
    "df['TAC_Reading_binary'] = np.array([1 if tac >= 0.08 else 0 for tac in df['TAC_Reading'].values])"
   ]
  },
  {
   "cell_type": "code",
   "execution_count": 100,
   "metadata": {},
   "outputs": [
    {
     "name": "stdout",
     "output_type": "stream",
     "text": [
      "there are 26124 observations in the training data\n",
      "phase 1 train_fold_1 will have 17412 observations\n",
      "phase 1 train_fold_2 will have 17412 observations\n",
      "phase 1 train_fold_3 will have 17424 observations\n",
      "phase 1 test_fold_1 will have 8712 observations\n",
      "phase 1 test_fold_2 will have 8712 observations\n",
      "phase 1 test_fold_3 will have 8700 observations\n"
     ]
    }
   ],
   "source": [
    "\n",
    "\n",
    "# store indices for each split\n",
    "train_1_indices = np.arange(8712, len(df))\n",
    "test_1_indices = np.arange(0, 8712)\n",
    "train_2_indices = np.concatenate((np.arange(0, 8712), np.arange(8712*2, len(df))))\n",
    "test_2_indices = np.arange(8712, 8712*2)\n",
    "train_3_indices = np.arange(0, 8712*2)\n",
    "test_3_indices = np.arange(8712*2, len(df))\n",
    "\n",
    "# how many training observations in each fold?\n",
    "print('there are', len(df), 'observations in the training data')\n",
    "print('phase 1 train_fold_1 will have', len(train_1_indices), 'observations')\n",
    "print('phase 1 train_fold_2 will have', len(train_2_indices), 'observations')\n",
    "print('phase 1 train_fold_3 will have', len(train_3_indices), 'observations')\n",
    "print('phase 1 test_fold_1 will have', len(test_1_indices), 'observations')\n",
    "print('phase 1 test_fold_2 will have', len(test_2_indices), 'observations')\n",
    "print('phase 1 test_fold_3 will have', len(test_3_indices), 'observations')\n"
   ]
  },
  {
   "cell_type": "code",
   "execution_count": 101,
   "metadata": {},
   "outputs": [
    {
     "data": {
      "text/plain": [
       "\"\\n# store indices for each split\\ntrain_1_indices = np.arange(177836, len(df))\\ntest_1_indices = np.arange(0, 177836)\\ntrain_2_indices = np.concatenate((np.arange(0, 177836), np.arange(177836*2, len(df))))\\ntest_2_indices = np.arange(177836, 177836*2)\\ntrain_3_indices = np.arange(0, 177836*2)\\ntest_3_indices = np.arange(177836*2, len(df))\\n\\n# how many training observations in each fold?\\nprint('there are', len(df), 'observations in the training data')\\nprint('phase 1 train_fold_1 will have', len(train_1_indices), 'observations')\\nprint('phase 1 train_fold_2 will have', len(train_2_indices), 'observations')\\nprint('phase 1 train_fold_3 will have', len(train_3_indices), 'observations')\\nprint('phase 1 test_fold_1 will have', len(test_1_indices), 'observations')\\nprint('phase 1 test_fold_2 will have', len(test_2_indices), 'observations')\\nprint('phase 1 test_fold_3 will have', len(test_3_indices), 'observations')\\n\\n\""
      ]
     },
     "execution_count": 101,
     "metadata": {},
     "output_type": "execute_result"
    }
   ],
   "source": [
    "'''\n",
    "# store indices for each split\n",
    "train_1_indices = np.arange(177836, len(df))\n",
    "test_1_indices = np.arange(0, 177836)\n",
    "train_2_indices = np.concatenate((np.arange(0, 177836), np.arange(177836*2, len(df))))\n",
    "test_2_indices = np.arange(177836, 177836*2)\n",
    "train_3_indices = np.arange(0, 177836*2)\n",
    "test_3_indices = np.arange(177836*2, len(df))\n",
    "\n",
    "# how many training observations in each fold?\n",
    "print('there are', len(df), 'observations in the training data')\n",
    "print('phase 1 train_fold_1 will have', len(train_1_indices), 'observations')\n",
    "print('phase 1 train_fold_2 will have', len(train_2_indices), 'observations')\n",
    "print('phase 1 train_fold_3 will have', len(train_3_indices), 'observations')\n",
    "print('phase 1 test_fold_1 will have', len(test_1_indices), 'observations')\n",
    "print('phase 1 test_fold_2 will have', len(test_2_indices), 'observations')\n",
    "print('phase 1 test_fold_3 will have', len(test_3_indices), 'observations')\n",
    "\n",
    "'''"
   ]
  },
  {
   "cell_type": "code",
   "execution_count": 305,
   "metadata": {},
   "outputs": [
    {
     "data": {
      "text/plain": [
       "177836"
      ]
     },
     "execution_count": 305,
     "metadata": {},
     "output_type": "execute_result"
    }
   ],
   "source": [
    "#len(df)*0.33348644924207627\n",
    "177836"
   ]
  },
  {
   "cell_type": "code",
   "execution_count": 102,
   "metadata": {},
   "outputs": [],
   "source": [
    "def standardize_inputs(X_train, X_test):\n",
    "    '''\n",
    "    Standardize a train-test split using mean and standard deviation estimates from training data.\n",
    "    Returns a tuple of standardized training and test matrices.\n",
    "    '''\n",
    "    scale = StandardScaler()\n",
    "    scale.fit(X_train)\n",
    "    X_train_scaled = scale.transform(X_train)\n",
    "    X_test_scaled = scale.transform(X_test)\n",
    "    return(X_train_scaled, X_test_scaled)\n",
    "\n",
    "def data_for_modeling(train_indices, test_indices, standardize = True, multi_input = False, multi_output = False, data = df):\n",
    "    '''\n",
    "    Get the training and test arrays for predictors and target to feed into your model.\n",
    "    Objects returned in a tuple in the following order: (X_train_objects, ..., X_test_objects, ..., y_train_objects, ..., y_test_objects)\n",
    "    Standardizes X appropriately, unless standardize = False, in which case X is not standardized.\n",
    "    If multi_input = True, multiple X objects are returned (to be used in wide and deep network).\n",
    "    If multi_output = True, multiple y objects are returned (to be used in multi-task network).\n",
    "    Does not support both multi_input and multi_output.\n",
    "    '''\n",
    "    # prepare target\n",
    "    y_train = df.iloc[train_indices]['TAC_Reading_binary'].values\n",
    "    y_test = df.iloc[test_indices]['TAC_Reading_binary'].values\n",
    "    if multi_output:\n",
    "        y_train_classification = df.iloc[train_indices]['TAC_Reading_binary'].values\n",
    "        y_train_regression = df.iloc[train_indices]['TAC_Reading'].values\n",
    "        y_test_classification = df.iloc[test_indices]['TAC_Reading_binary'].values\n",
    "        y_test_regression = df.iloc[test_indices]['TAC_Reading'].values\n",
    "    \n",
    "    # prepare predictors\n",
    "    X_train = df.iloc[train_indices].drop(['time', 'pid', 'TAC_Reading', 'TAC_Reading_binary'], axis = 1)\n",
    "    X_test = df.iloc[test_indices].drop(['time', 'pid', 'TAC_Reading', 'TAC_Reading_binary'], axis = 1)\n",
    "    if multi_input:\n",
    "        X_train_wide = X_train.drop(['x', 'y', 'z'], axis = 1)\n",
    "        X_test_wide = X_test.drop(['x', 'y', 'z'], axis = 1)    \n",
    "        X_train_deep = X_train.loc[:, ['x', 'y', 'z']]\n",
    "        X_test_deep = X_test.loc[:, ['x', 'y', 'z']]\n",
    "    \n",
    "    # standardization\n",
    "    if standardize:\n",
    "        if multi_input:\n",
    "            X_train_wide_scaled, X_test_wide_scaled = standardize_inputs(X_train_wide, X_test_wide)\n",
    "            X_train_deep_scaled, X_test_deep_scaled = standardize_inputs(X_train_deep, X_test_deep)\n",
    "        else:\n",
    "            X_train_scaled, X_test_scaled = standardize_inputs(X_train, X_test)\n",
    "\n",
    "    # returns\n",
    "    if multi_input:\n",
    "        if standardize:\n",
    "            return(X_train_wide_scaled, X_train_deep_scaled, X_test_wide_scaled, X_test_deep_scaled, y_train, y_test)\n",
    "        else:\n",
    "            return(X_train_wide, X_train_deep, X_test_wide, X_test_deep, y_train, y_test)\n",
    "    elif multi_output:\n",
    "        if standardize:\n",
    "            return(X_train_scaled, X_test_scaled, y_train_classification, y_train_regression, y_test_classification, y_train_regression)\n",
    "        else:\n",
    "            return(X_train, X_test, y_train_classification, y_train_regression, y_test_classification, y_test_regression)\n",
    "    else:\n",
    "        if standardize:\n",
    "            return(X_train_scaled, X_test_scaled, y_train, y_test)\n",
    "        else:\n",
    "            return(X_train, X_test, y_train, y_test)"
   ]
  },
  {
   "cell_type": "code",
   "execution_count": 103,
   "metadata": {},
   "outputs": [],
   "source": [
    "# example how you would get data for the first cross-validation iteration/fold\n",
    "#X_train, X_test, y_train, y_test = data_for_modeling(train_1_indices, test_1_indices)\n",
    "# to get the data for the next fold you would just rerun, and change train_1, test_1_indices to train_2_indices, test_2_indices\n",
    "\n",
    "# if your model doesn't require standardization (e.g. decision trees/random forests) you can turn it off\n",
    "#X_train, X_test, y_train, y_test = data_for_modeling(train_1_indices, test_1_indices, standardize = False)"
   ]
  },
  {
   "cell_type": "code",
   "execution_count": 104,
   "metadata": {},
   "outputs": [],
   "source": [
    "X_train_p1f1, X_test_p1f1, y_train_p1f1, y_test_p1f1 = data_for_modeling(train_1_indices, test_1_indices)"
   ]
  },
  {
   "cell_type": "code",
   "execution_count": 105,
   "metadata": {},
   "outputs": [],
   "source": [
    "X_train_p1f2, X_test_p1f2, y_train_p1f2, y_test_p1f2 = data_for_modeling(train_2_indices, test_2_indices)"
   ]
  },
  {
   "cell_type": "code",
   "execution_count": 106,
   "metadata": {},
   "outputs": [],
   "source": [
    "X_train_p1f3, X_test_p1f3, y_train_p1f3, y_test_p1f3 = data_for_modeling(train_3_indices, test_3_indices)"
   ]
  },
  {
   "cell_type": "markdown",
   "metadata": {},
   "source": [
    "# Data Processing"
   ]
  },
  {
   "cell_type": "markdown",
   "metadata": {},
   "source": [
    "We will be extracting ~25% of our data for a test set. Our data is indexed by time and different periods of time reflect very different phenomenon (notice graph below). So to make our test set more representative of the entire time period, we will create it using 3 equal-sized chunks of 2240 rows taken at time 7.4, 7.7, and 8.0 (in 1e8+1.493e12 scale)."
   ]
  },
  {
   "cell_type": "code",
   "execution_count": 32,
   "metadata": {},
   "outputs": [
    {
     "data": {
      "text/plain": [
       "<matplotlib.axes._subplots.AxesSubplot at 0x10a103250>"
      ]
     },
     "execution_count": 32,
     "metadata": {},
     "output_type": "execute_result"
    },
    {
     "data": {
      "image/png": "[encoded data removed]",
      "text/plain": [
       "<Figure size 432x288 with 1 Axes>"
      ]
     },
     "metadata": {
      "needs_background": "light"
     },
     "output_type": "display_data"
    }
   ],
   "source": [
    "sns.lineplot(x = 'time', y = 'TAC_Reading', data = df)"
   ]
  },
  {
   "cell_type": "markdown",
   "metadata": {},
   "source": [
    "# MODELING\n"
   ]
  },
  {
   "cell_type": "code",
   "execution_count": 33,
   "metadata": {},
   "outputs": [],
   "source": [
    "#df_test.to_pickle('./df_test.pkl')\n",
    "#df_train.to_pickle('./df_train.pkl')\n",
    "#df_test_unbalanced.to_pickle('./df_test_unbalanced.pkl')\n",
    "#df_train_unbalanced.to_pickle('./df_train_unbalanced.pkl')\n"
   ]
  },
  {
   "cell_type": "code",
   "execution_count": 37,
   "metadata": {},
   "outputs": [
    {
     "data": {
      "text/plain": [
       "\"\\ndf_train.reset_index(inplace = True, drop = True)\\ndf_train['time'] = df_train['time'].astype(float)\\n# we need to order by time to make splitting easier\\ndf_train.sort_values(by = ['time'], inplace = True)\""
      ]
     },
     "execution_count": 37,
     "metadata": {},
     "output_type": "execute_result"
    }
   ],
   "source": [
    "'''\n",
    "df_train.reset_index(inplace = True, drop = True)\n",
    "df_train['time'] = df_train['time'].astype(float)\n",
    "# we need to order by time to make splitting easier\n",
    "df_train.sort_values(by = ['time'], inplace = True)'''"
   ]
  },
  {
   "cell_type": "code",
   "execution_count": 38,
   "metadata": {},
   "outputs": [
    {
     "data": {
      "text/plain": [
       "\"\\n# prepare target\\ny_raw = df_train['TAC_Reading'].values.reshape(-1,1)\\ny_train = np.array([1 if tac >= 0.08 else 0 for tac in y_raw])\\ny_time = df_train['time'].values\\n\\n# onehot encode pid\\nencoder = OneHotEncoder(sparse = False)\\npid = df_train['pid'].values.reshape(-1, 1)\\npid_encoded = pd.DataFrame(encoder.fit_transform(pid))\\n\\n# prepare predictors\\nX_train = df_train.drop(['time', 'pid', 'TAC_Reading','drunk','day','converted_time'], axis = 1)\\nX_accel_only = df_train.loc[:,['x', 'y', 'z']]\\n\\ntime = pd.DataFrame(df_train['time'].values.reshape(-1, 1))\\nX_time_pid = pd.concat([time, pid_encoded], axis = 1)\""
      ]
     },
     "execution_count": 38,
     "metadata": {},
     "output_type": "execute_result"
    }
   ],
   "source": [
    "'''\n",
    "# prepare target\n",
    "y_raw = df_train['TAC_Reading'].values.reshape(-1,1)\n",
    "y_train = np.array([1 if tac >= 0.08 else 0 for tac in y_raw])\n",
    "y_time = df_train['time'].values\n",
    "\n",
    "# onehot encode pid\n",
    "encoder = OneHotEncoder(sparse = False)\n",
    "pid = df_train['pid'].values.reshape(-1, 1)\n",
    "pid_encoded = pd.DataFrame(encoder.fit_transform(pid))\n",
    "\n",
    "# prepare predictors\n",
    "X_train = df_train.drop(['time', 'pid', 'TAC_Reading','drunk','day','converted_time'], axis = 1)\n",
    "X_accel_only = df_train.loc[:,['x', 'y', 'z']]\n",
    "\n",
    "time = pd.DataFrame(df_train['time'].values.reshape(-1, 1))\n",
    "X_time_pid = pd.concat([time, pid_encoded], axis = 1)'''"
   ]
  },
  {
   "cell_type": "code",
   "execution_count": 38,
   "metadata": {},
   "outputs": [],
   "source": [
    "eval_col = ['model', 'fold', 'accuracy', 'precision (drunk)','precision (sober)', 'recall (drunk)', 'recall (sober)','support (drunk)', 'support (sober)']"
   ]
  },
  {
   "cell_type": "code",
   "execution_count": 39,
   "metadata": {},
   "outputs": [],
   "source": [
    "\n",
    "total_eval = pd.DataFrame(columns = eval_col)"
   ]
  },
  {
   "cell_type": "markdown",
   "metadata": {},
   "source": [
    "# KNN "
   ]
  },
  {
   "cell_type": "code",
   "execution_count": 53,
   "metadata": {},
   "outputs": [],
   "source": [
    "from sklearn.neighbors import KNeighborsClassifier\n",
    "from sklearn import metrics\n"
   ]
  },
  {
   "cell_type": "code",
   "execution_count": 54,
   "metadata": {},
   "outputs": [],
   "source": [
    "# model details\n",
    "model_name = \"KNeighborsClassifier\"\n",
    "\n",
    "# fold details\n",
    "fold = 1\n",
    "\n",
    "# set k range\n",
    "k_range = range(5,15)\n",
    "\n",
    "scores = {}\n",
    "scores_list = []\n",
    "\n",
    "for k in k_range:\n",
    "    knn = KNeighborsClassifier(n_neighbors=k)\n",
    "    knn.fit(X_train_p1f1,y_train_p1f1)\n",
    "    y_pred=knn.predict(X_test_p1f1)\n",
    "    scores[k] = metrics.accuracy_score(y_test_p1f1,y_pred)\n",
    "    scores_list.append(metrics.accuracy_score(y_test_p1f1,y_pred))\n",
    "    \n"
   ]
  },
  {
   "cell_type": "code",
   "execution_count": 55,
   "metadata": {},
   "outputs": [
    {
     "data": {
      "text/plain": [
       "Text(0, 0.5, 'Testing Accuracy')"
      ]
     },
     "execution_count": 55,
     "metadata": {},
     "output_type": "execute_result"
    },
    {
     "data": {
      "image/png": "[encoded data removed]",
      "text/plain": [
       "<Figure size 432x288 with 1 Axes>"
      ]
     },
     "metadata": {
      "needs_background": "light"
     },
     "output_type": "display_data"
    }
   ],
   "source": [
    "plt.plot(k_range,scores_list)\n",
    "plt.xlabel(\"Value of K for knn\")\n",
    "plt.ylabel('Testing Accuracy')"
   ]
  },
  {
   "cell_type": "code",
   "execution_count": 56,
   "metadata": {},
   "outputs": [],
   "source": [
    "# add classification report to evaluation data frame\n",
    "\n",
    "report = classification_report(y_test_p1f1, y_pred, output_dict = True)\n",
    "\n",
    "eval_df = pd.DataFrame(report).transpose()\n",
    "\n",
    "to_acc = eval_df['precision'].iloc[2]\n",
    "dr_pr = eval_df['precision'].iloc[1]\n",
    "so_pr = eval_df['precision'].iloc[0]\n",
    "dr_re = eval_df['recall'].iloc[1]\n",
    "so_re = eval_df['recall'].iloc[0]\n",
    "dr_su = eval_df['support'].iloc[1]\n",
    "so_su = eval_df['support'].iloc[0]\n",
    "    \n",
    "eval_row = np.array([model_name, fold, to_acc, dr_pr, so_pr, dr_re, so_re, dr_su, so_su])"
   ]
  },
  {
   "cell_type": "code",
   "execution_count": 57,
   "metadata": {},
   "outputs": [],
   "source": [
    "run1 = eval_row"
   ]
  },
  {
   "cell_type": "code",
   "execution_count": 58,
   "metadata": {},
   "outputs": [
    {
     "data": {
      "text/plain": [
       "array(['KNeighborsClassifier', '1', '0.5744949494949495',\n",
       "       '0.5409787735849056', '0.5958646616541353', '0.4604767879548306',\n",
       "       '0.6706156124391792', '3985.0', '4727.0'], dtype='<U20')"
      ]
     },
     "execution_count": 58,
     "metadata": {},
     "output_type": "execute_result"
    }
   ],
   "source": [
    "run1"
   ]
  },
  {
   "cell_type": "code",
   "execution_count": 64,
   "metadata": {},
   "outputs": [
    {
     "data": {
      "image/png": "[encoded data removed]",
      "text/plain": [
       "<Figure size 288x288 with 2 Axes>"
      ]
     },
     "metadata": {
      "needs_background": "light"
     },
     "output_type": "display_data"
    }
   ],
   "source": [
    "\n",
    "cm = confusion_matrix(y_test_p1f1, y_pred)\n",
    "plt.figure(figsize=(4,4))\n",
    "sns.heatmap(cm,annot=True, fmt = 'g', linewidths=.8, square = True, cmap=\"Greens\");\n",
    "plt.ylabel('Actual label');\n",
    "plt.xlabel('Predicted label');\n",
    "all_sample_title = 'knn fold 1'\n",
    "plt.title(all_sample_title, size = 15)\n",
    "\n",
    "# fix for mpl bug that cuts off top/bottom of seaborn viz\n",
    "b, t = plt.ylim() # discover the values for bottom and top\n",
    "b += 0.5 # Add 0.5 to the bottom\n",
    "t -= 0.5 # Subtract 0.5 from the top\n",
    "plt.ylim(b, t) # update the ylim(bottom, top) values\n",
    "plt.show() # ta-da!"
   ]
  },
  {
   "cell_type": "code",
   "execution_count": 65,
   "metadata": {},
   "outputs": [],
   "source": [
    "# Phase 1 - fold 2\n",
    "\n",
    "# model details\n",
    "model_name = \"KNeighborsClassifier\"\n",
    "\n",
    "# fold details\n",
    "fold = 2\n",
    "\n",
    "# set k range\n",
    "k_range = range(5,15)\n",
    "\n",
    "scores_2 = {}\n",
    "scores_list_2 = []\n",
    "\n",
    "for k in k_range:\n",
    "    knn = KNeighborsClassifier(n_neighbors=k)\n",
    "    knn.fit(X_train_p1f2,y_train_p1f2)\n",
    "    y_pred=knn.predict(X_test_p1f2)\n",
    "    scores_2[k] = metrics.accuracy_score(y_test_p1f2,y_pred)\n",
    "    scores_list_2.append(metrics.accuracy_score(y_test_p1f2,y_pred))\n",
    "    "
   ]
  },
  {
   "cell_type": "code",
   "execution_count": 67,
   "metadata": {},
   "outputs": [
    {
     "data": {
      "text/plain": [
       "Text(0, 0.5, 'Testing Accuracy')"
      ]
     },
     "execution_count": 67,
     "metadata": {},
     "output_type": "execute_result"
    },
    {
     "data": {
      "image/png": "[encoded data removed]",
      "text/plain": [
       "<Figure size 432x288 with 1 Axes>"
      ]
     },
     "metadata": {
      "needs_background": "light"
     },
     "output_type": "display_data"
    }
   ],
   "source": [
    "plt.plot(k_range,scores_list_2)\n",
    "plt.xlabel(\"Value of K for knn\")\n",
    "plt.ylabel('Testing Accuracy')"
   ]
  },
  {
   "cell_type": "code",
   "execution_count": 68,
   "metadata": {},
   "outputs": [],
   "source": [
    "# add classification report to evaluation data frame\n",
    "\n",
    "report = classification_report(y_test_p1f2, y_pred, output_dict = True)\n",
    "\n",
    "eval_df = pd.DataFrame(report).transpose()\n",
    "\n",
    "to_acc = eval_df['precision'].iloc[2]\n",
    "dr_pr = eval_df['precision'].iloc[1]\n",
    "so_pr = eval_df['precision'].iloc[0]\n",
    "dr_re = eval_df['recall'].iloc[1]\n",
    "so_re = eval_df['recall'].iloc[0]\n",
    "dr_su = eval_df['support'].iloc[1]\n",
    "so_su = eval_df['support'].iloc[0]\n",
    "    \n",
    "eval_row = np.array([model_name, fold, to_acc, dr_pr, so_pr, dr_re, so_re, dr_su, so_su])\n",
    "    \n"
   ]
  },
  {
   "cell_type": "code",
   "execution_count": 69,
   "metadata": {},
   "outputs": [],
   "source": [
    "run2 = eval_row"
   ]
  },
  {
   "cell_type": "code",
   "execution_count": 70,
   "metadata": {},
   "outputs": [],
   "source": [
    "# Phase 1 - fold 3\n",
    "\n",
    "# model details\n",
    "model_name = \"KNeighborsClassifier\"\n",
    "\n",
    "# fold details\n",
    "fold = 3\n",
    "\n",
    "# set k range\n",
    "k_range = range(5,15)\n",
    "\n",
    "scores_3 = {}\n",
    "scores_list_3 = []\n",
    "\n",
    "for k in k_range:\n",
    "    knn = KNeighborsClassifier(n_neighbors=k)\n",
    "    knn.fit(X_train_p1f3,y_train_p1f3)\n",
    "    y_pred=knn.predict(X_test_p1f3)\n",
    "    scores_3[k] = metrics.accuracy_score(y_test_p1f3,y_pred)\n",
    "    scores_list_3.append(metrics.accuracy_score(y_test_p1f3,y_pred))\n",
    "    \n"
   ]
  },
  {
   "cell_type": "code",
   "execution_count": 71,
   "metadata": {},
   "outputs": [
    {
     "data": {
      "text/plain": [
       "Text(0, 0.5, 'Testing Accuracy')"
      ]
     },
     "execution_count": 71,
     "metadata": {},
     "output_type": "execute_result"
    },
    {
     "data": {
      "image/png": "[encoded data removed]",
      "text/plain": [
       "<Figure size 432x288 with 1 Axes>"
      ]
     },
     "metadata": {
      "needs_background": "light"
     },
     "output_type": "display_data"
    }
   ],
   "source": [
    "\n",
    "plt.plot(k_range,scores_list_3)\n",
    "plt.xlabel(\"Value of K for knn\")\n",
    "plt.ylabel('Testing Accuracy')"
   ]
  },
  {
   "cell_type": "code",
   "execution_count": 72,
   "metadata": {},
   "outputs": [
    {
     "name": "stderr",
     "output_type": "stream",
     "text": [
      "/opt/anaconda3/lib/python3.7/site-packages/sklearn/metrics/classification.py:1439: UndefinedMetricWarning: Recall and F-score are ill-defined and being set to 0.0 in labels with no true samples.\n",
      "  'recall', 'true', average, warn_for)\n"
     ]
    }
   ],
   "source": [
    "# add classification report to evaluation data frame\n",
    "\n",
    "report = classification_report(y_test_p1f3, y_pred, output_dict = True)\n",
    "\n",
    "eval_df = pd.DataFrame(report).transpose()\n",
    "\n",
    "to_acc = eval_df['precision'].iloc[2]\n",
    "dr_pr = eval_df['precision'].iloc[1]\n",
    "so_pr = eval_df['precision'].iloc[0]\n",
    "dr_re = eval_df['recall'].iloc[1]\n",
    "so_re = eval_df['recall'].iloc[0]\n",
    "dr_su = eval_df['support'].iloc[1]\n",
    "so_su = eval_df['support'].iloc[0]\n",
    "    \n",
    "eval_row = np.array([model_name, fold, to_acc, dr_pr, so_pr, dr_re, so_re, dr_su, so_su])\n",
    "    "
   ]
  },
  {
   "cell_type": "code",
   "execution_count": 73,
   "metadata": {},
   "outputs": [],
   "source": [
    "run3 = eval_row"
   ]
  },
  {
   "cell_type": "code",
   "execution_count": 74,
   "metadata": {},
   "outputs": [
    {
     "data": {
      "text/plain": [
       "array(['KNeighborsClassifier', '3', '0.9250574712643678', '0.0', '1.0',\n",
       "       '0.0', '0.9250574712643678', '0.0', '8700.0'], dtype='<U20')"
      ]
     },
     "execution_count": 74,
     "metadata": {},
     "output_type": "execute_result"
    }
   ],
   "source": [
    "run3"
   ]
  },
  {
   "cell_type": "markdown",
   "metadata": {},
   "source": [
    "# LOGISTIC REGRESSION"
   ]
  },
  {
   "cell_type": "code",
   "execution_count": 75,
   "metadata": {},
   "outputs": [],
   "source": [
    "from sklearn.preprocessing import StandardScaler\n",
    "\n",
    "from sklearn.linear_model import LogisticRegression\n",
    "\n",
    "from sklearn.model_selection import train_test_split\n",
    "from sklearn.linear_model import LinearRegression\n",
    "from sklearn.metrics import mean_squared_error \n",
    "from sklearn.metrics import explained_variance_score\n"
   ]
  },
  {
   "cell_type": "code",
   "execution_count": 76,
   "metadata": {},
   "outputs": [],
   "source": [
    "log_reg = LogisticRegression()"
   ]
  },
  {
   "cell_type": "code",
   "execution_count": 77,
   "metadata": {},
   "outputs": [
    {
     "name": "stderr",
     "output_type": "stream",
     "text": [
      "/opt/anaconda3/lib/python3.7/site-packages/sklearn/linear_model/logistic.py:432: FutureWarning: Default solver will be changed to 'lbfgs' in 0.22. Specify a solver to silence this warning.\n",
      "  FutureWarning)\n"
     ]
    }
   ],
   "source": [
    "# Phase 1 - Fold 1\n",
    "\n",
    "# model name\n",
    "\n",
    "model_name = 'LogisticRegression()'\n",
    "fold = 1\n",
    "\n",
    "# fit model\n",
    "log_reg.fit(X_train_p1f1, y_train_p1f1)\n",
    "# predict\n",
    "pred = log_reg.predict(X_test_p1f1)\n",
    "# score\n",
    "log_reg_score = log_reg.score(X_test_p1f1, y_test_p1f1) \n"
   ]
  },
  {
   "cell_type": "code",
   "execution_count": 78,
   "metadata": {},
   "outputs": [],
   "source": [
    "\n",
    "report = classification_report(y_test_p1f1, pred, output_dict = True)\n",
    "\n",
    "eval_df = pd.DataFrame(report).transpose()\n",
    "\n",
    "to_acc = eval_df['precision'].iloc[2]\n",
    "dr_pr = eval_df['precision'].iloc[1]\n",
    "so_pr = eval_df['precision'].iloc[0]\n",
    "dr_re = eval_df['recall'].iloc[1]\n",
    "so_re = eval_df['recall'].iloc[0]\n",
    "dr_su = eval_df['support'].iloc[1]\n",
    "so_su = eval_df['support'].iloc[0]\n",
    "    \n",
    "eval_row = np.array([model_name, fold, to_acc, dr_pr, so_pr, dr_re, so_re, dr_su, so_su])\n",
    "   "
   ]
  },
  {
   "cell_type": "code",
   "execution_count": 79,
   "metadata": {},
   "outputs": [],
   "source": [
    "run4 = eval_row"
   ]
  },
  {
   "cell_type": "code",
   "execution_count": 80,
   "metadata": {},
   "outputs": [
    {
     "data": {
      "text/plain": [
       "array(['LogisticRegression()', '1', '0.5883838383838383',\n",
       "       '0.5700245700245701', '0.5973051338904998', '0.4075282308657466',\n",
       "       '0.740850433678866', '3985.0', '4727.0'], dtype='<U20')"
      ]
     },
     "execution_count": 80,
     "metadata": {},
     "output_type": "execute_result"
    }
   ],
   "source": [
    "run4"
   ]
  },
  {
   "cell_type": "code",
   "execution_count": 81,
   "metadata": {},
   "outputs": [
    {
     "name": "stdout",
     "output_type": "stream",
     "text": [
      "              precision    recall  f1-score   support\n",
      "\n",
      "           0       0.60      0.74      0.66      4727\n",
      "           1       0.57      0.41      0.48      3985\n",
      "\n",
      "    accuracy                           0.59      8712\n",
      "   macro avg       0.58      0.57      0.57      8712\n",
      "weighted avg       0.58      0.59      0.58      8712\n",
      "\n"
     ]
    }
   ],
   "source": [
    "# Phase 1 - Fold 1 Classification Report\n",
    "log_reg_classreport_p1f1 = (classification_report(y_test_p1f1, pred))\n",
    "print(log_reg_classreport_p1f1)"
   ]
  },
  {
   "cell_type": "code",
   "execution_count": 82,
   "metadata": {},
   "outputs": [
    {
     "name": "stderr",
     "output_type": "stream",
     "text": [
      "/opt/anaconda3/lib/python3.7/site-packages/sklearn/linear_model/logistic.py:432: FutureWarning: Default solver will be changed to 'lbfgs' in 0.22. Specify a solver to silence this warning.\n",
      "  FutureWarning)\n"
     ]
    }
   ],
   "source": [
    "# Phase 1 - Fold 2\n",
    "\n",
    "# model details\n",
    "model_name = 'LogisticRegression()'\n",
    "fold = 2\n",
    "\n",
    "# fit model\n",
    "log_reg.fit(X_train_p1f2, y_train_p1f2)\n",
    "# predict\n",
    "pred = log_reg.predict(X_test_p1f2)\n",
    "# score\n",
    "log_reg_score = log_reg.score(X_test_p1f2, y_test_p1f2) \n"
   ]
  },
  {
   "cell_type": "code",
   "execution_count": 83,
   "metadata": {},
   "outputs": [],
   "source": [
    "\n",
    "report = classification_report(y_test_p1f2, pred, output_dict = True)\n",
    "\n",
    "eval_df = pd.DataFrame(report).transpose()\n",
    "\n",
    "to_acc = eval_df['precision'].iloc[2]\n",
    "dr_pr = eval_df['precision'].iloc[1]\n",
    "so_pr = eval_df['precision'].iloc[0]\n",
    "dr_re = eval_df['recall'].iloc[1]\n",
    "so_re = eval_df['recall'].iloc[0]\n",
    "dr_su = eval_df['support'].iloc[1]\n",
    "so_su = eval_df['support'].iloc[0]\n",
    "    \n",
    "eval_row = np.array([model_name, fold, to_acc, dr_pr, so_pr, dr_re, so_re, dr_su, so_su])\n",
    "   "
   ]
  },
  {
   "cell_type": "code",
   "execution_count": 84,
   "metadata": {},
   "outputs": [
    {
     "name": "stdout",
     "output_type": "stream",
     "text": [
      "['LogisticRegression()' '2' '0.7339302112029384' '0.5254604550379198'\n",
      " '0.7899796096708418' '0.4021558872305141' '0.8609523809523809' '2412.0'\n",
      " '6300.0']\n"
     ]
    }
   ],
   "source": [
    "run5 = eval_row\n",
    "print(run5)"
   ]
  },
  {
   "cell_type": "code",
   "execution_count": 85,
   "metadata": {},
   "outputs": [
    {
     "name": "stdout",
     "output_type": "stream",
     "text": [
      "              precision    recall  f1-score   support\n",
      "\n",
      "           0       0.79      0.86      0.82      6300\n",
      "           1       0.53      0.40      0.46      2412\n",
      "\n",
      "    accuracy                           0.73      8712\n",
      "   macro avg       0.66      0.63      0.64      8712\n",
      "weighted avg       0.72      0.73      0.72      8712\n",
      "\n"
     ]
    }
   ],
   "source": [
    "# Phase 1 - Fold 2 Classification Report\n",
    "log_reg_classreport_p1f2 = (classification_report(y_test_p1f2, pred))\n",
    "print(log_reg_classreport_p1f2)"
   ]
  },
  {
   "cell_type": "code",
   "execution_count": 86,
   "metadata": {},
   "outputs": [
    {
     "name": "stderr",
     "output_type": "stream",
     "text": [
      "/opt/anaconda3/lib/python3.7/site-packages/sklearn/linear_model/logistic.py:432: FutureWarning: Default solver will be changed to 'lbfgs' in 0.22. Specify a solver to silence this warning.\n",
      "  FutureWarning)\n"
     ]
    }
   ],
   "source": [
    "# Phase 1 - Fold 3\n",
    "\n",
    "# model details\n",
    "model_name = 'LogisticRegression()'\n",
    "fold = 3\n",
    "\n",
    "# fit model\n",
    "log_reg.fit(X_train_p1f3, y_train_p1f3)\n",
    "# predict\n",
    "pred = log_reg.predict(X_test_p1f3)\n",
    "# score\n",
    "log_reg_score = log_reg.score(X_test_p1f3, y_test_p1f3) \n"
   ]
  },
  {
   "cell_type": "code",
   "execution_count": 87,
   "metadata": {},
   "outputs": [
    {
     "name": "stderr",
     "output_type": "stream",
     "text": [
      "/opt/anaconda3/lib/python3.7/site-packages/sklearn/metrics/classification.py:1439: UndefinedMetricWarning: Recall and F-score are ill-defined and being set to 0.0 in labels with no true samples.\n",
      "  'recall', 'true', average, warn_for)\n"
     ]
    }
   ],
   "source": [
    "\n",
    "report = classification_report(y_test_p1f3, pred, output_dict = True)\n",
    "\n",
    "eval_df = pd.DataFrame(report).transpose()\n",
    "\n",
    "to_acc = eval_df['precision'].iloc[2]\n",
    "dr_pr = eval_df['precision'].iloc[1]\n",
    "so_pr = eval_df['precision'].iloc[0]\n",
    "dr_re = eval_df['recall'].iloc[1]\n",
    "so_re = eval_df['recall'].iloc[0]\n",
    "dr_su = eval_df['support'].iloc[1]\n",
    "so_su = eval_df['support'].iloc[0]\n",
    "    \n",
    "eval_row = np.array([model_name, fold, to_acc, dr_pr, so_pr, dr_re, so_re, dr_su, so_su])\n",
    "   "
   ]
  },
  {
   "cell_type": "code",
   "execution_count": 88,
   "metadata": {},
   "outputs": [
    {
     "name": "stdout",
     "output_type": "stream",
     "text": [
      "['LogisticRegression()' '3' '0.9560919540229885' '0.0' '1.0' '0.0'\n",
      " '0.9560919540229885' '0.0' '8700.0']\n"
     ]
    }
   ],
   "source": [
    "run6 = eval_row\n",
    "print(run6)"
   ]
  },
  {
   "cell_type": "code",
   "execution_count": 89,
   "metadata": {},
   "outputs": [
    {
     "name": "stdout",
     "output_type": "stream",
     "text": [
      "              precision    recall  f1-score   support\n",
      "\n",
      "           0       1.00      0.96      0.98      8700\n",
      "           1       0.00      0.00      0.00         0\n",
      "\n",
      "    accuracy                           0.96      8700\n",
      "   macro avg       0.50      0.48      0.49      8700\n",
      "weighted avg       1.00      0.96      0.98      8700\n",
      "\n"
     ]
    }
   ],
   "source": [
    "# Phase 1 - Fold 3 Classification Report\n",
    "log_reg_classreport_p1f3 = (classification_report(y_test_p1f3, pred))\n",
    "print(log_reg_classreport_p1f3)"
   ]
  },
  {
   "cell_type": "markdown",
   "metadata": {},
   "source": [
    "# RANDOM FOREST CLASSIFIER"
   ]
  },
  {
   "cell_type": "code",
   "execution_count": 90,
   "metadata": {},
   "outputs": [],
   "source": [
    "rfc = RandomForestClassifier()"
   ]
  },
  {
   "cell_type": "code",
   "execution_count": 91,
   "metadata": {},
   "outputs": [
    {
     "name": "stderr",
     "output_type": "stream",
     "text": [
      "/opt/anaconda3/lib/python3.7/site-packages/sklearn/ensemble/forest.py:245: FutureWarning: The default value of n_estimators will change from 10 in version 0.20 to 100 in 0.22.\n",
      "  \"10 in version 0.20 to 100 in 0.22.\", FutureWarning)\n"
     ]
    }
   ],
   "source": [
    "# Phase 1 - Fold 1\n",
    "\n",
    "# model details\n",
    "model_name = 'RandomForestClassifier()'\n",
    "fold = 1\n",
    "\n",
    "# fit model\n",
    "rfc.fit(X_train_p1f1, y_train_p1f1)\n",
    "# predict\n",
    "pred = rfc.predict(X_test_p1f1)\n",
    "# score\n",
    "rfc_score = rfc.score(X_test_p1f1, y_test_p1f1) # score of predictions"
   ]
  },
  {
   "cell_type": "code",
   "execution_count": 92,
   "metadata": {},
   "outputs": [],
   "source": [
    "\n",
    "report = classification_report(y_test_p1f1, pred, output_dict = True)\n",
    "\n",
    "eval_df = pd.DataFrame(report).transpose()\n",
    "\n",
    "to_acc = eval_df['precision'].iloc[2]\n",
    "dr_pr = eval_df['precision'].iloc[1]\n",
    "so_pr = eval_df['precision'].iloc[0]\n",
    "dr_re = eval_df['recall'].iloc[1]\n",
    "so_re = eval_df['recall'].iloc[0]\n",
    "dr_su = eval_df['support'].iloc[1]\n",
    "so_su = eval_df['support'].iloc[0]\n",
    "    \n",
    "eval_row = np.array([model_name, fold, to_acc, dr_pr, so_pr, dr_re, so_re, dr_su, so_su])\n",
    "   "
   ]
  },
  {
   "cell_type": "code",
   "execution_count": 93,
   "metadata": {},
   "outputs": [],
   "source": [
    "run7 = eval_row"
   ]
  },
  {
   "cell_type": "code",
   "execution_count": 94,
   "metadata": {},
   "outputs": [
    {
     "data": {
      "text/plain": [
       "array(['RandomForestClassifier()', '1', '0.5957300275482094',\n",
       "       '0.5896244676732482', '0.5983031489639419', '0.3821831869510665',\n",
       "       '0.7757562936323249', '3985.0', '4727.0'], dtype='<U24')"
      ]
     },
     "execution_count": 94,
     "metadata": {},
     "output_type": "execute_result"
    }
   ],
   "source": [
    "run7"
   ]
  },
  {
   "cell_type": "code",
   "execution_count": 95,
   "metadata": {},
   "outputs": [
    {
     "name": "stdout",
     "output_type": "stream",
     "text": [
      "              precision    recall  f1-score   support\n",
      "\n",
      "           0       0.60      0.78      0.68      4727\n",
      "           1       0.59      0.38      0.46      3985\n",
      "\n",
      "    accuracy                           0.60      8712\n",
      "   macro avg       0.59      0.58      0.57      8712\n",
      "weighted avg       0.59      0.60      0.58      8712\n",
      "\n"
     ]
    }
   ],
   "source": [
    "# Phase 1 - Fold 1 Classification Report\n",
    "rfc_classreport_p1f1 = (classification_report(y_test_p1f1, pred))\n",
    "print(rfc_classreport_p1f1)"
   ]
  },
  {
   "cell_type": "code",
   "execution_count": 96,
   "metadata": {},
   "outputs": [],
   "source": [
    "# Phase 1 - Fold 2\n",
    "\n",
    "# model details\n",
    "model_name = 'RandomForestClassifier()'\n",
    "fold = 2\n",
    "# fit model\n",
    "rfc.fit(X_train_p1f2, y_train_p1f2)\n",
    "# predict\n",
    "pred = rfc.predict(X_test_p1f2)\n",
    "# score\n",
    "rfc_score = rfc.score(X_test_p1f2, y_test_p1f2) # score of predictions"
   ]
  },
  {
   "cell_type": "code",
   "execution_count": 97,
   "metadata": {},
   "outputs": [],
   "source": [
    "\n",
    "report = classification_report(y_test_p1f2, pred, output_dict = True)\n",
    "\n",
    "eval_df = pd.DataFrame(report).transpose()\n",
    "\n",
    "to_acc = eval_df['precision'].iloc[2]\n",
    "dr_pr = eval_df['precision'].iloc[1]\n",
    "so_pr = eval_df['precision'].iloc[0]\n",
    "dr_re = eval_df['recall'].iloc[1]\n",
    "so_re = eval_df['recall'].iloc[0]\n",
    "dr_su = eval_df['support'].iloc[1]\n",
    "so_su = eval_df['support'].iloc[0]\n",
    "    \n",
    "eval_row = np.array([model_name, fold, to_acc, dr_pr, so_pr, dr_re, so_re, dr_su, so_su])\n",
    "   "
   ]
  },
  {
   "cell_type": "code",
   "execution_count": 98,
   "metadata": {},
   "outputs": [
    {
     "name": "stdout",
     "output_type": "stream",
     "text": [
      "['RandomForestClassifier()' '2' '0.7463269054178145' '0.5744837758112095'\n",
      " '0.7780043501903209' '0.32296849087893864' '0.9084126984126984' '2412.0'\n",
      " '6300.0']\n"
     ]
    }
   ],
   "source": [
    "run8 = eval_row\n",
    "print(run8)"
   ]
  },
  {
   "cell_type": "code",
   "execution_count": 99,
   "metadata": {},
   "outputs": [
    {
     "name": "stdout",
     "output_type": "stream",
     "text": [
      "              precision    recall  f1-score   support\n",
      "\n",
      "           0       0.78      0.91      0.84      6300\n",
      "           1       0.57      0.32      0.41      2412\n",
      "\n",
      "    accuracy                           0.75      8712\n",
      "   macro avg       0.68      0.62      0.63      8712\n",
      "weighted avg       0.72      0.75      0.72      8712\n",
      "\n"
     ]
    }
   ],
   "source": [
    "# Phase 1 - Fold 2 Classification Report\n",
    "rfc_classreport_p1f2 = (classification_report(y_test_p1f2, pred))\n",
    "print(rfc_classreport_p1f2)"
   ]
  },
  {
   "cell_type": "code",
   "execution_count": 100,
   "metadata": {},
   "outputs": [],
   "source": [
    "# Phase 1 - Fold 3\n",
    "# model details\n",
    "model_name = 'RandomForestClassifier()'\n",
    "fold = 3\n",
    "# fit model\n",
    "rfc.fit(X_train_p1f3, y_train_p1f3)\n",
    "# predict\n",
    "pred = rfc.predict(X_test_p1f3)\n",
    "# score\n",
    "rfc_score = rfc.score(X_test_p1f3, y_test_p1f3) # score of predictions"
   ]
  },
  {
   "cell_type": "code",
   "execution_count": 101,
   "metadata": {},
   "outputs": [
    {
     "name": "stderr",
     "output_type": "stream",
     "text": [
      "/opt/anaconda3/lib/python3.7/site-packages/sklearn/metrics/classification.py:1439: UndefinedMetricWarning: Recall and F-score are ill-defined and being set to 0.0 in labels with no true samples.\n",
      "  'recall', 'true', average, warn_for)\n"
     ]
    }
   ],
   "source": [
    "\n",
    "report = classification_report(y_test_p1f3, pred, output_dict = True)\n",
    "\n",
    "eval_df = pd.DataFrame(report).transpose()\n",
    "\n",
    "to_acc = eval_df['precision'].iloc[2]\n",
    "dr_pr = eval_df['precision'].iloc[1]\n",
    "so_pr = eval_df['precision'].iloc[0]\n",
    "dr_re = eval_df['recall'].iloc[1]\n",
    "so_re = eval_df['recall'].iloc[0]\n",
    "dr_su = eval_df['support'].iloc[1]\n",
    "so_su = eval_df['support'].iloc[0]\n",
    "    \n",
    "eval_row = np.array([model_name, fold, to_acc, dr_pr, so_pr, dr_re, so_re, dr_su, so_su])\n",
    "   "
   ]
  },
  {
   "cell_type": "code",
   "execution_count": 102,
   "metadata": {},
   "outputs": [
    {
     "name": "stdout",
     "output_type": "stream",
     "text": [
      "['RandomForestClassifier()' '3' '0.9539080459770115' '0.0' '1.0' '0.0'\n",
      " '0.9539080459770115' '0.0' '8700.0']\n"
     ]
    }
   ],
   "source": [
    "run9 = eval_row\n",
    "print(run9)"
   ]
  },
  {
   "cell_type": "code",
   "execution_count": 103,
   "metadata": {},
   "outputs": [
    {
     "name": "stdout",
     "output_type": "stream",
     "text": [
      "              precision    recall  f1-score   support\n",
      "\n",
      "           0       1.00      0.95      0.98      8700\n",
      "           1       0.00      0.00      0.00         0\n",
      "\n",
      "    accuracy                           0.95      8700\n",
      "   macro avg       0.50      0.48      0.49      8700\n",
      "weighted avg       1.00      0.95      0.98      8700\n",
      "\n"
     ]
    }
   ],
   "source": [
    "# Phase 1 - Fold 3 Classification Report\n",
    "rfc_classreport_p1f3 = (classification_report(y_test_p1f3, pred))\n",
    "print(rfc_classreport_p1f3)"
   ]
  },
  {
   "cell_type": "markdown",
   "metadata": {},
   "source": [
    "# RANDOM FOREST - ADABOOST\n",
    " - ADA BOOST"
   ]
  },
  {
   "cell_type": "code",
   "execution_count": 104,
   "metadata": {},
   "outputs": [],
   "source": [
    "from sklearn.ensemble import AdaBoostClassifier\n",
    "from sklearn.ensemble import RandomForestClassifier\n",
    "from sklearn.metrics import accuracy_score\n",
    "from sklearn.metrics import average_precision_score\n",
    "from sklearn.metrics import precision_recall_curve\n",
    "from sklearn import preprocessing,metrics \n",
    "from sklearn.metrics import roc_auc_score\n",
    "from sklearn.metrics import classification_report"
   ]
  },
  {
   "cell_type": "code",
   "execution_count": 105,
   "metadata": {},
   "outputs": [],
   "source": [
    "# normal Random Forest (no grid search) with AdaBoostClassifier()\n",
    "\n",
    "# create Random Forest model \n",
    "rf_abc= AdaBoostClassifier()"
   ]
  },
  {
   "cell_type": "code",
   "execution_count": 106,
   "metadata": {},
   "outputs": [],
   "source": [
    "# Phase 1 - Fold 1\n",
    "# model details\n",
    "model_name = 'AdaBoostClassifier()'\n",
    "fold = 1\n",
    "# fit model\n",
    "rf_abc.fit(X_train_p1f1, y_train_p1f1)\n",
    "# predict\n",
    "pred = rf_abc.predict(X_test_p1f1)\n",
    "# score\n",
    "rf_abc_score = rf_abc.score(X_test_p1f1, y_test_p1f1) # score of predictions\n"
   ]
  },
  {
   "cell_type": "code",
   "execution_count": 107,
   "metadata": {},
   "outputs": [],
   "source": [
    "report = classification_report(y_test_p1f1, pred, output_dict = True)\n",
    "\n",
    "eval_df = pd.DataFrame(report).transpose()\n",
    "\n",
    "to_acc = eval_df['precision'].iloc[2]\n",
    "dr_pr = eval_df['precision'].iloc[1]\n",
    "so_pr = eval_df['precision'].iloc[0]\n",
    "dr_re = eval_df['recall'].iloc[1]\n",
    "so_re = eval_df['recall'].iloc[0]\n",
    "dr_su = eval_df['support'].iloc[1]\n",
    "so_su = eval_df['support'].iloc[0]\n",
    "    \n",
    "eval_row = np.array([model_name, fold, to_acc, dr_pr, so_pr, dr_re, so_re, dr_su, so_su])\n",
    "   "
   ]
  },
  {
   "cell_type": "code",
   "execution_count": 108,
   "metadata": {},
   "outputs": [
    {
     "name": "stdout",
     "output_type": "stream",
     "text": [
      "['AdaBoostClassifier()' '1' '0.5952708907254362' '0.576271186440678'\n",
      " '0.605295458530598' '0.4351317440401506' '0.7302729003596361' '3985.0'\n",
      " '4727.0']\n"
     ]
    }
   ],
   "source": [
    "run10 = eval_row\n",
    "print(run10)"
   ]
  },
  {
   "cell_type": "code",
   "execution_count": 109,
   "metadata": {},
   "outputs": [
    {
     "name": "stdout",
     "output_type": "stream",
     "text": [
      "              precision    recall  f1-score   support\n",
      "\n",
      "           0       0.61      0.73      0.66      4727\n",
      "           1       0.58      0.44      0.50      3985\n",
      "\n",
      "    accuracy                           0.60      8712\n",
      "   macro avg       0.59      0.58      0.58      8712\n",
      "weighted avg       0.59      0.60      0.59      8712\n",
      "\n"
     ]
    }
   ],
   "source": [
    "# Phase 1 - Fold 1 Classification Report\n",
    "rf_abc_classreport_p1f1 = (classification_report(y_test_p1f1, pred))\n",
    "print(rf_abc_classreport_p1f1)"
   ]
  },
  {
   "cell_type": "code",
   "execution_count": 110,
   "metadata": {},
   "outputs": [],
   "source": [
    "# Phase 1 - Fold 2\n",
    "\n",
    "# model details\n",
    "model_name = 'AdaBoostClassifier()'\n",
    "fold = 2\n",
    "# fit model\n",
    "rf_abc.fit(X_train_p1f2, y_train_p1f2)\n",
    "# predict\n",
    "pred = rf_abc.predict(X_test_p1f2)\n",
    "# score\n",
    "rf_abc_score = rf_abc.score(X_test_p1f2, y_test_p1f2) # score of predictions\n"
   ]
  },
  {
   "cell_type": "code",
   "execution_count": 111,
   "metadata": {},
   "outputs": [],
   "source": [
    "report = classification_report(y_test_p1f2, pred, output_dict = True)\n",
    "\n",
    "eval_df = pd.DataFrame(report).transpose()\n",
    "\n",
    "to_acc = eval_df['precision'].iloc[2]\n",
    "dr_pr = eval_df['precision'].iloc[1]\n",
    "so_pr = eval_df['precision'].iloc[0]\n",
    "dr_re = eval_df['recall'].iloc[1]\n",
    "so_re = eval_df['recall'].iloc[0]\n",
    "dr_su = eval_df['support'].iloc[1]\n",
    "so_su = eval_df['support'].iloc[0]\n",
    "    \n",
    "eval_row = np.array([model_name, fold, to_acc, dr_pr, so_pr, dr_re, so_re, dr_su, so_su])\n",
    "   "
   ]
  },
  {
   "cell_type": "code",
   "execution_count": 112,
   "metadata": {},
   "outputs": [
    {
     "name": "stdout",
     "output_type": "stream",
     "text": [
      "['AdaBoostClassifier()' '2' '0.7428833792470156' '0.5438328236493374'\n",
      " '0.8007407407407408' '0.4423714759535655' '0.8579365079365079' '2412.0'\n",
      " '6300.0']\n"
     ]
    }
   ],
   "source": [
    "run11 = eval_row\n",
    "print(run11)"
   ]
  },
  {
   "cell_type": "code",
   "execution_count": 113,
   "metadata": {},
   "outputs": [
    {
     "name": "stdout",
     "output_type": "stream",
     "text": [
      "              precision    recall  f1-score   support\n",
      "\n",
      "           0       0.80      0.86      0.83      6300\n",
      "           1       0.54      0.44      0.49      2412\n",
      "\n",
      "    accuracy                           0.74      8712\n",
      "   macro avg       0.67      0.65      0.66      8712\n",
      "weighted avg       0.73      0.74      0.73      8712\n",
      "\n"
     ]
    }
   ],
   "source": [
    "# Phase 1 - Fold 2 Classification Report\n",
    "rf_abc_classreport_p1f2 = (classification_report(y_test_p1f2, pred))\n",
    "print(rf_abc_classreport_p1f2)"
   ]
  },
  {
   "cell_type": "code",
   "execution_count": 114,
   "metadata": {},
   "outputs": [],
   "source": [
    "# Phase 1 - Fold 3\n",
    "model_name = 'AdaBoostClassifier()'\n",
    "fold = 3\n",
    "# fit model\n",
    "rf_abc.fit(X_train_p1f3, y_train_p1f3)\n",
    "# predict\n",
    "pred = rf_abc.predict(X_test_p1f3)\n",
    "# score\n",
    "rf_abc_score = rf_abc.score(X_test_p1f3, y_test_p1f3) # score of predictions"
   ]
  },
  {
   "cell_type": "code",
   "execution_count": 115,
   "metadata": {},
   "outputs": [
    {
     "name": "stderr",
     "output_type": "stream",
     "text": [
      "/opt/anaconda3/lib/python3.7/site-packages/sklearn/metrics/classification.py:1439: UndefinedMetricWarning: Recall and F-score are ill-defined and being set to 0.0 in labels with no true samples.\n",
      "  'recall', 'true', average, warn_for)\n"
     ]
    }
   ],
   "source": [
    "report = classification_report(y_test_p1f3, pred, output_dict = True)\n",
    "\n",
    "eval_df = pd.DataFrame(report).transpose()\n",
    "\n",
    "to_acc = eval_df['precision'].iloc[2]\n",
    "dr_pr = eval_df['precision'].iloc[1]\n",
    "so_pr = eval_df['precision'].iloc[0]\n",
    "dr_re = eval_df['recall'].iloc[1]\n",
    "so_re = eval_df['recall'].iloc[0]\n",
    "dr_su = eval_df['support'].iloc[1]\n",
    "so_su = eval_df['support'].iloc[0]\n",
    "    \n",
    "eval_row = np.array([model_name, fold, to_acc, dr_pr, so_pr, dr_re, so_re, dr_su, so_su])\n",
    "   "
   ]
  },
  {
   "cell_type": "code",
   "execution_count": 116,
   "metadata": {},
   "outputs": [
    {
     "name": "stdout",
     "output_type": "stream",
     "text": [
      "['AdaBoostClassifier()' '3' '0.9341379310344827' '0.0' '1.0' '0.0'\n",
      " '0.9341379310344827' '0.0' '8700.0']\n"
     ]
    }
   ],
   "source": [
    "run12 = eval_row\n",
    "print(run12)"
   ]
  },
  {
   "cell_type": "code",
   "execution_count": 117,
   "metadata": {},
   "outputs": [
    {
     "name": "stdout",
     "output_type": "stream",
     "text": [
      "              precision    recall  f1-score   support\n",
      "\n",
      "           0       1.00      0.93      0.97      8700\n",
      "           1       0.00      0.00      0.00         0\n",
      "\n",
      "    accuracy                           0.93      8700\n",
      "   macro avg       0.50      0.47      0.48      8700\n",
      "weighted avg       1.00      0.93      0.97      8700\n",
      "\n"
     ]
    }
   ],
   "source": [
    "# Phase 1 - Fold 3 Classification Report\n",
    "rf_abc_classreport_p1f3 = (classification_report(y_test_p1f3, pred))\n",
    "print(rf_abc_classreport_p1f3)"
   ]
  },
  {
   "cell_type": "markdown",
   "metadata": {},
   "source": [
    "# SUPPORT VECTOR MACHINES"
   ]
  },
  {
   "cell_type": "code",
   "execution_count": 118,
   "metadata": {},
   "outputs": [],
   "source": [
    "from sklearn.svm import SVC\n",
    "\n",
    "svc = SVC()"
   ]
  },
  {
   "cell_type": "code",
   "execution_count": 119,
   "metadata": {},
   "outputs": [],
   "source": [
    "# Phase 1 - Fold 1\n",
    "model_name = 'SVC()'\n",
    "fold = 1\n",
    "# fit model\n",
    "svc.fit(X_train_p1f1, y_train_p1f1)\n",
    "# predict\n",
    "pred = svc.predict(X_test_p1f1)\n",
    "# score\n",
    "svc_score = svc.score(X_test_p1f1, y_test_p1f1) # score of predictions\n"
   ]
  },
  {
   "cell_type": "code",
   "execution_count": 123,
   "metadata": {},
   "outputs": [],
   "source": [
    "report = classification_report(y_test_p1f1, pred, output_dict = True)\n",
    "\n",
    "eval_df = pd.DataFrame(report).transpose()\n",
    "\n",
    "to_acc = eval_df['precision'].iloc[2]\n",
    "dr_pr = eval_df['precision'].iloc[1]\n",
    "so_pr = eval_df['precision'].iloc[0]\n",
    "dr_re = eval_df['recall'].iloc[1]\n",
    "so_re = eval_df['recall'].iloc[0]\n",
    "dr_su = eval_df['support'].iloc[1]\n",
    "so_su = eval_df['support'].iloc[0]\n",
    "    \n",
    "eval_row = np.array([model_name, fold, to_acc, dr_pr, so_pr, dr_re, so_re, dr_su, so_su])\n",
    "   "
   ]
  },
  {
   "cell_type": "code",
   "execution_count": 124,
   "metadata": {},
   "outputs": [
    {
     "name": "stdout",
     "output_type": "stream",
     "text": [
      "['SVC()' '1' '0.5960743801652892' '0.5755512321660181' '0.607320540156361'\n",
      " '0.4454203262233375' '0.7230801777025597' '3985.0' '4727.0']\n"
     ]
    }
   ],
   "source": [
    "run13 = eval_row\n",
    "print(run13)"
   ]
  },
  {
   "cell_type": "code",
   "execution_count": 125,
   "metadata": {},
   "outputs": [
    {
     "name": "stdout",
     "output_type": "stream",
     "text": [
      "              precision    recall  f1-score   support\n",
      "\n",
      "           0       0.61      0.72      0.66      4727\n",
      "           1       0.58      0.45      0.50      3985\n",
      "\n",
      "    accuracy                           0.60      8712\n",
      "   macro avg       0.59      0.58      0.58      8712\n",
      "weighted avg       0.59      0.60      0.59      8712\n",
      "\n"
     ]
    }
   ],
   "source": [
    "# Phase 1 - Fold 1 Classification Report\n",
    "svc_classreport_p1f1 = (classification_report(y_test_p1f1, pred))\n",
    "print(svc_classreport_p1f1)"
   ]
  },
  {
   "cell_type": "code",
   "execution_count": 126,
   "metadata": {},
   "outputs": [],
   "source": [
    "# Phase 1 - Fold 2\n",
    "model_name = 'SVC()'\n",
    "fold = 2\n",
    "# fit model\n",
    "svc.fit(X_train_p1f2, y_train_p1f2)\n",
    "# predict\n",
    "pred = svc.predict(X_test_p1f2)\n",
    "# score\n",
    "svc_score = svc.score(X_test_p1f2, y_test_p1f2) # score of predictions"
   ]
  },
  {
   "cell_type": "code",
   "execution_count": 127,
   "metadata": {},
   "outputs": [],
   "source": [
    "report = classification_report(y_test_p1f2, pred, output_dict = True)\n",
    "\n",
    "eval_df = pd.DataFrame(report).transpose()\n",
    "\n",
    "to_acc = eval_df['precision'].iloc[2]\n",
    "dr_pr = eval_df['precision'].iloc[1]\n",
    "so_pr = eval_df['precision'].iloc[0]\n",
    "dr_re = eval_df['recall'].iloc[1]\n",
    "so_re = eval_df['recall'].iloc[0]\n",
    "dr_su = eval_df['support'].iloc[1]\n",
    "so_su = eval_df['support'].iloc[0]\n",
    "    \n",
    "eval_row = np.array([model_name, fold, to_acc, dr_pr, so_pr, dr_re, so_re, dr_su, so_su])\n",
    "   "
   ]
  },
  {
   "cell_type": "code",
   "execution_count": 128,
   "metadata": {},
   "outputs": [
    {
     "name": "stdout",
     "output_type": "stream",
     "text": [
      "['SVC()' '2' '0.754247015610652' '0.5746556473829201' '0.8015079019863709'\n",
      " '0.4324212271973466' '0.8774603174603175' '2412.0' '6300.0']\n"
     ]
    }
   ],
   "source": [
    "run14 = eval_row\n",
    "print(run14)"
   ]
  },
  {
   "cell_type": "code",
   "execution_count": 129,
   "metadata": {},
   "outputs": [
    {
     "name": "stdout",
     "output_type": "stream",
     "text": [
      "              precision    recall  f1-score   support\n",
      "\n",
      "           0       0.80      0.88      0.84      6300\n",
      "           1       0.57      0.43      0.49      2412\n",
      "\n",
      "    accuracy                           0.75      8712\n",
      "   macro avg       0.69      0.65      0.67      8712\n",
      "weighted avg       0.74      0.75      0.74      8712\n",
      "\n"
     ]
    }
   ],
   "source": [
    "# Phase 1 - Fold 2 Classification Report\n",
    "svc_classreport_p1f2 = (classification_report(y_test_p1f2, pred))\n",
    "print(svc_classreport_p1f2)"
   ]
  },
  {
   "cell_type": "code",
   "execution_count": 130,
   "metadata": {},
   "outputs": [],
   "source": [
    "# Phase 1 - Fold 3\n",
    "model_name = 'SVC()'\n",
    "fold = 3\n",
    "# fit model\n",
    "svc.fit(X_train_p1f3, y_train_p1f3)\n",
    "# predict\n",
    "pred = svc.predict(X_test_p1f3)\n",
    "# score\n",
    "svc_score = svc.score(X_test_p1f3, y_test_p1f3) # score of predictions"
   ]
  },
  {
   "cell_type": "code",
   "execution_count": 131,
   "metadata": {},
   "outputs": [
    {
     "name": "stderr",
     "output_type": "stream",
     "text": [
      "/opt/anaconda3/lib/python3.7/site-packages/sklearn/metrics/classification.py:1439: UndefinedMetricWarning: Recall and F-score are ill-defined and being set to 0.0 in labels with no true samples.\n",
      "  'recall', 'true', average, warn_for)\n"
     ]
    }
   ],
   "source": [
    "report = classification_report(y_test_p1f3, pred, output_dict = True)\n",
    "\n",
    "eval_df = pd.DataFrame(report).transpose()\n",
    "\n",
    "to_acc = eval_df['precision'].iloc[2]\n",
    "dr_pr = eval_df['precision'].iloc[1]\n",
    "so_pr = eval_df['precision'].iloc[0]\n",
    "dr_re = eval_df['recall'].iloc[1]\n",
    "so_re = eval_df['recall'].iloc[0]\n",
    "dr_su = eval_df['support'].iloc[1]\n",
    "so_su = eval_df['support'].iloc[0]\n",
    "    \n",
    "eval_row = np.array([model_name, fold, to_acc, dr_pr, so_pr, dr_re, so_re, dr_su, so_su])\n",
    "   "
   ]
  },
  {
   "cell_type": "code",
   "execution_count": 132,
   "metadata": {},
   "outputs": [
    {
     "name": "stdout",
     "output_type": "stream",
     "text": [
      "['SVC()' '3' '0.9335632183908046' '0.0' '1.0' '0.0' '0.9335632183908046'\n",
      " '0.0' '8700.0']\n"
     ]
    }
   ],
   "source": [
    "run15 = eval_row\n",
    "print(run15)"
   ]
  },
  {
   "cell_type": "code",
   "execution_count": 133,
   "metadata": {},
   "outputs": [
    {
     "name": "stdout",
     "output_type": "stream",
     "text": [
      "              precision    recall  f1-score   support\n",
      "\n",
      "           0       1.00      0.93      0.97      8700\n",
      "           1       0.00      0.00      0.00         0\n",
      "\n",
      "    accuracy                           0.93      8700\n",
      "   macro avg       0.50      0.47      0.48      8700\n",
      "weighted avg       1.00      0.93      0.97      8700\n",
      "\n"
     ]
    }
   ],
   "source": [
    "# Phase 1 - Fold 3 Classification Report\n",
    "svc_classreport_p1f3 = (classification_report(y_test_p1f3, pred))\n",
    "print(svc_classreport_p1f3)"
   ]
  },
  {
   "cell_type": "markdown",
   "metadata": {},
   "source": [
    "# NAIVE BAYES\n",
    "\n",
    "- GaussianNB\n"
   ]
  },
  {
   "cell_type": "code",
   "execution_count": 134,
   "metadata": {},
   "outputs": [],
   "source": [
    "gnb = GaussianNB()\n"
   ]
  },
  {
   "cell_type": "code",
   "execution_count": 135,
   "metadata": {},
   "outputs": [],
   "source": [
    "# Phase 1 - Fold 1\n",
    "model_name = 'GaussianNB()'\n",
    "fold = 1\n",
    "# fit model\n",
    "gnb.fit(X_train_p1f1, y_train_p1f1)\n",
    "# predict\n",
    "pred = gnb.predict(X_test_p1f1)\n",
    "# score\n",
    "gnb_score = gnb.score(X_test_p1f1, y_test_p1f1) # score of predictions\n"
   ]
  },
  {
   "cell_type": "code",
   "execution_count": 136,
   "metadata": {},
   "outputs": [],
   "source": [
    "report = classification_report(y_test_p1f1, pred, output_dict = True)\n",
    "\n",
    "eval_df = pd.DataFrame(report).transpose()\n",
    "\n",
    "to_acc = eval_df['precision'].iloc[2]\n",
    "dr_pr = eval_df['precision'].iloc[1]\n",
    "so_pr = eval_df['precision'].iloc[0]\n",
    "dr_re = eval_df['recall'].iloc[1]\n",
    "so_re = eval_df['recall'].iloc[0]\n",
    "dr_su = eval_df['support'].iloc[1]\n",
    "so_su = eval_df['support'].iloc[0]\n",
    "    \n",
    "eval_row = np.array([model_name, fold, to_acc, dr_pr, so_pr, dr_re, so_re, dr_su, so_su])\n",
    "   "
   ]
  },
  {
   "cell_type": "code",
   "execution_count": 137,
   "metadata": {},
   "outputs": [
    {
     "name": "stdout",
     "output_type": "stream",
     "text": [
      "['GaussianNB()' '1' '0.59400826446281' '0.551779935275081'\n",
      " '0.6356589147286822' '0.5989962358845671' '0.5898032578802623' '3985.0'\n",
      " '4727.0']\n"
     ]
    }
   ],
   "source": [
    "run16 = eval_row\n",
    "print(run16)"
   ]
  },
  {
   "cell_type": "code",
   "execution_count": 138,
   "metadata": {},
   "outputs": [
    {
     "name": "stdout",
     "output_type": "stream",
     "text": [
      "              precision    recall  f1-score   support\n",
      "\n",
      "           0       0.64      0.59      0.61      4727\n",
      "           1       0.55      0.60      0.57      3985\n",
      "\n",
      "    accuracy                           0.59      8712\n",
      "   macro avg       0.59      0.59      0.59      8712\n",
      "weighted avg       0.60      0.59      0.59      8712\n",
      "\n"
     ]
    }
   ],
   "source": [
    "# Phase 1 - Fold 1 Classification Report\n",
    "gnb_classreport_p1f1 = (classification_report(y_test_p1f1, pred))\n",
    "print(gnb_classreport_p1f1)"
   ]
  },
  {
   "cell_type": "code",
   "execution_count": 139,
   "metadata": {},
   "outputs": [],
   "source": [
    "# Phase 1 - Fold 2\n",
    "model_name = 'GaussianNB()'\n",
    "fold = 2\n",
    "# fit model\n",
    "gnb.fit(X_train_p1f2, y_train_p1f2)\n",
    "# predict\n",
    "pred = gnb.predict(X_test_p1f2)\n",
    "# score\n",
    "gnb_score = gnb.score(X_test_p1f2, y_test_p1f2) # score of predictions\n"
   ]
  },
  {
   "cell_type": "code",
   "execution_count": 140,
   "metadata": {},
   "outputs": [],
   "source": [
    "report = classification_report(y_test_p1f2, pred, output_dict = True)\n",
    "\n",
    "eval_df = pd.DataFrame(report).transpose()\n",
    "\n",
    "to_acc = eval_df['precision'].iloc[2]\n",
    "dr_pr = eval_df['precision'].iloc[1]\n",
    "so_pr = eval_df['precision'].iloc[0]\n",
    "dr_re = eval_df['recall'].iloc[1]\n",
    "so_re = eval_df['recall'].iloc[0]\n",
    "dr_su = eval_df['support'].iloc[1]\n",
    "so_su = eval_df['support'].iloc[0]\n",
    "    \n",
    "eval_row = np.array([model_name, fold, to_acc, dr_pr, so_pr, dr_re, so_re, dr_su, so_su])\n",
    "   "
   ]
  },
  {
   "cell_type": "code",
   "execution_count": 141,
   "metadata": {},
   "outputs": [
    {
     "name": "stdout",
     "output_type": "stream",
     "text": [
      "['GaussianNB()' '2' '0.7532139577594124' '0.5374713958810069'\n",
      " '0.8978144171779141' '0.7790215588723052' '0.7433333333333333' '2412.0'\n",
      " '6300.0']\n"
     ]
    }
   ],
   "source": [
    "run17 = eval_row\n",
    "print(run17)"
   ]
  },
  {
   "cell_type": "code",
   "execution_count": 142,
   "metadata": {},
   "outputs": [
    {
     "name": "stdout",
     "output_type": "stream",
     "text": [
      "              precision    recall  f1-score   support\n",
      "\n",
      "           0       0.90      0.74      0.81      6300\n",
      "           1       0.54      0.78      0.64      2412\n",
      "\n",
      "    accuracy                           0.75      8712\n",
      "   macro avg       0.72      0.76      0.72      8712\n",
      "weighted avg       0.80      0.75      0.76      8712\n",
      "\n"
     ]
    }
   ],
   "source": [
    "# Phase 1 - Fold 2 Classification Report\n",
    "gnb_classreport_p1f2 = (classification_report(y_test_p1f2, pred))\n",
    "print(gnb_classreport_p1f2)"
   ]
  },
  {
   "cell_type": "code",
   "execution_count": 143,
   "metadata": {},
   "outputs": [],
   "source": [
    "# Phase 1 - Fold 3\n",
    "model_name = 'GaussianNB()'\n",
    "fold = 3\n",
    "# fit model\n",
    "gnb.fit(X_train_p1f3, y_train_p1f3)\n",
    "# predict\n",
    "pred = gnb.predict(X_test_p1f3)\n",
    "# score\n",
    "gnb_score = gnb.score(X_test_p1f3, y_test_p1f3) # score of predictions\n"
   ]
  },
  {
   "cell_type": "code",
   "execution_count": 144,
   "metadata": {},
   "outputs": [
    {
     "name": "stderr",
     "output_type": "stream",
     "text": [
      "/opt/anaconda3/lib/python3.7/site-packages/sklearn/metrics/classification.py:1439: UndefinedMetricWarning: Recall and F-score are ill-defined and being set to 0.0 in labels with no true samples.\n",
      "  'recall', 'true', average, warn_for)\n"
     ]
    }
   ],
   "source": [
    "report = classification_report(y_test_p1f3, pred, output_dict = True)\n",
    "\n",
    "eval_df = pd.DataFrame(report).transpose()\n",
    "\n",
    "to_acc = eval_df['precision'].iloc[2]\n",
    "dr_pr = eval_df['precision'].iloc[1]\n",
    "so_pr = eval_df['precision'].iloc[0]\n",
    "dr_re = eval_df['recall'].iloc[1]\n",
    "so_re = eval_df['recall'].iloc[0]\n",
    "dr_su = eval_df['support'].iloc[1]\n",
    "so_su = eval_df['support'].iloc[0]\n",
    "    \n",
    "eval_row = np.array([model_name, fold, to_acc, dr_pr, so_pr, dr_re, so_re, dr_su, so_su])\n",
    "   "
   ]
  },
  {
   "cell_type": "code",
   "execution_count": 145,
   "metadata": {},
   "outputs": [
    {
     "name": "stdout",
     "output_type": "stream",
     "text": [
      "['GaussianNB()' '3' '0.9352873563218391' '0.0' '1.0' '0.0'\n",
      " '0.9352873563218391' '0.0' '8700.0']\n"
     ]
    }
   ],
   "source": [
    "run18 = eval_row\n",
    "print(run18)"
   ]
  },
  {
   "cell_type": "code",
   "execution_count": 146,
   "metadata": {},
   "outputs": [
    {
     "name": "stdout",
     "output_type": "stream",
     "text": [
      "              precision    recall  f1-score   support\n",
      "\n",
      "           0       1.00      0.94      0.97      8700\n",
      "           1       0.00      0.00      0.00         0\n",
      "\n",
      "    accuracy                           0.94      8700\n",
      "   macro avg       0.50      0.47      0.48      8700\n",
      "weighted avg       1.00      0.94      0.97      8700\n",
      "\n"
     ]
    }
   ],
   "source": [
    "# Phase 1 - Fold 3 Classification Report\n",
    "gnb_classreport_p1f3 = (classification_report(y_test_p1f3, pred))\n",
    "print(gnb_classreport_p1f3)"
   ]
  },
  {
   "cell_type": "markdown",
   "metadata": {},
   "source": [
    "# GRADIENT BOOST"
   ]
  },
  {
   "cell_type": "code",
   "execution_count": 148,
   "metadata": {},
   "outputs": [],
   "source": [
    "gbc = GradientBoostingClassifier()"
   ]
  },
  {
   "cell_type": "code",
   "execution_count": 149,
   "metadata": {},
   "outputs": [],
   "source": [
    "# Phase 1 - Fold 1\n",
    "model_name = 'GradientBoostingClassifier()'\n",
    "fold = 1\n",
    "# fit model\n",
    "gbc.fit(X_train_p1f1, y_train_p1f1)\n",
    "# predict\n",
    "pred = gbc.predict(X_test_p1f1)\n",
    "# score\n",
    "gbc_score = gbc.score(X_test_p1f1, y_test_p1f1) # score of predictions\n"
   ]
  },
  {
   "cell_type": "code",
   "execution_count": 150,
   "metadata": {},
   "outputs": [],
   "source": [
    "report = classification_report(y_test_p1f1, pred, output_dict = True)\n",
    "\n",
    "eval_df = pd.DataFrame(report).transpose()\n",
    "\n",
    "to_acc = eval_df['precision'].iloc[2]\n",
    "dr_pr = eval_df['precision'].iloc[1]\n",
    "so_pr = eval_df['precision'].iloc[0]\n",
    "dr_re = eval_df['recall'].iloc[1]\n",
    "so_re = eval_df['recall'].iloc[0]\n",
    "dr_su = eval_df['support'].iloc[1]\n",
    "so_su = eval_df['support'].iloc[0]\n",
    "    \n",
    "eval_row = np.array([model_name, fold, to_acc, dr_pr, so_pr, dr_re, so_re, dr_su, so_su])\n",
    "   "
   ]
  },
  {
   "cell_type": "code",
   "execution_count": 151,
   "metadata": {},
   "outputs": [
    {
     "name": "stdout",
     "output_type": "stream",
     "text": [
      "['GradientBoostingClassifier()' '1' '0.6014692378328742'\n",
      " '0.5869786368260427' '0.6088842616692695' '0.4343789209535759'\n",
      " '0.7423312883435583' '3985.0' '4727.0']\n"
     ]
    }
   ],
   "source": [
    "run19 = eval_row\n",
    "print(run19)"
   ]
  },
  {
   "cell_type": "code",
   "execution_count": 152,
   "metadata": {},
   "outputs": [
    {
     "name": "stdout",
     "output_type": "stream",
     "text": [
      "              precision    recall  f1-score   support\n",
      "\n",
      "           0       0.61      0.74      0.67      4727\n",
      "           1       0.59      0.43      0.50      3985\n",
      "\n",
      "    accuracy                           0.60      8712\n",
      "   macro avg       0.60      0.59      0.58      8712\n",
      "weighted avg       0.60      0.60      0.59      8712\n",
      "\n"
     ]
    }
   ],
   "source": [
    "# Phase 1 - Fold 1 Classification Report\n",
    "gbc_classreport_p1f1 = (classification_report(y_test_p1f1, pred))\n",
    "print(gbc_classreport_p1f1)"
   ]
  },
  {
   "cell_type": "code",
   "execution_count": 153,
   "metadata": {},
   "outputs": [],
   "source": [
    "# Phase 1 - Fold 2\n",
    "model_name = 'GradientBoostingClassifier()'\n",
    "fold = 2\n",
    "# fit model\n",
    "gbc.fit(X_train_p1f2, y_train_p1f2)\n",
    "# predict\n",
    "pred = gbc.predict(X_test_p1f2)\n",
    "# score\n",
    "gbc_score = gbc.score(X_test_p1f2, y_test_p1f2) # score of predictions\n"
   ]
  },
  {
   "cell_type": "code",
   "execution_count": 154,
   "metadata": {},
   "outputs": [],
   "source": [
    "report = classification_report(y_test_p1f2, pred, output_dict = True)\n",
    "\n",
    "eval_df = pd.DataFrame(report).transpose()\n",
    "\n",
    "to_acc = eval_df['precision'].iloc[2]\n",
    "dr_pr = eval_df['precision'].iloc[1]\n",
    "so_pr = eval_df['precision'].iloc[0]\n",
    "dr_re = eval_df['recall'].iloc[1]\n",
    "so_re = eval_df['recall'].iloc[0]\n",
    "dr_su = eval_df['support'].iloc[1]\n",
    "so_su = eval_df['support'].iloc[0]\n",
    "    \n",
    "eval_row = np.array([model_name, fold, to_acc, dr_pr, so_pr, dr_re, so_re, dr_su, so_su])\n",
    "   "
   ]
  },
  {
   "cell_type": "code",
   "execution_count": 155,
   "metadata": {},
   "outputs": [
    {
     "name": "stdout",
     "output_type": "stream",
     "text": [
      "['GradientBoostingClassifier()' '2' '0.7449494949494949'\n",
      " '0.5542857142857143' '0.7928756104567652' '0.4021558872305141'\n",
      " '0.8761904761904762' '2412.0' '6300.0']\n"
     ]
    }
   ],
   "source": [
    "run20 = eval_row\n",
    "print(run20)"
   ]
  },
  {
   "cell_type": "code",
   "execution_count": 156,
   "metadata": {},
   "outputs": [
    {
     "name": "stdout",
     "output_type": "stream",
     "text": [
      "              precision    recall  f1-score   support\n",
      "\n",
      "           0       0.79      0.88      0.83      6300\n",
      "           1       0.55      0.40      0.47      2412\n",
      "\n",
      "    accuracy                           0.74      8712\n",
      "   macro avg       0.67      0.64      0.65      8712\n",
      "weighted avg       0.73      0.74      0.73      8712\n",
      "\n"
     ]
    }
   ],
   "source": [
    "# Phase 1 - Fold 2 Classification Report\n",
    "gbc_classreport_p1f2 = (classification_report(y_test_p1f2, pred))\n",
    "print(gbc_classreport_p1f2)"
   ]
  },
  {
   "cell_type": "code",
   "execution_count": 157,
   "metadata": {},
   "outputs": [],
   "source": [
    "# Phase 1 - Fold 3\n",
    "model_name = 'GradientBoostingClassifier()'\n",
    "fold = 3\n",
    "# fit model\n",
    "gbc.fit(X_train_p1f3, y_train_p1f3)\n",
    "# predict\n",
    "pred = gbc.predict(X_test_p1f3)\n",
    "# score\n",
    "gbc_score = gbc.score(X_test_p1f3, y_test_p1f3) # score of predictions\n"
   ]
  },
  {
   "cell_type": "code",
   "execution_count": 158,
   "metadata": {},
   "outputs": [
    {
     "name": "stderr",
     "output_type": "stream",
     "text": [
      "/opt/anaconda3/lib/python3.7/site-packages/sklearn/metrics/classification.py:1439: UndefinedMetricWarning: Recall and F-score are ill-defined and being set to 0.0 in labels with no true samples.\n",
      "  'recall', 'true', average, warn_for)\n"
     ]
    }
   ],
   "source": [
    "report = classification_report(y_test_p1f3, pred, output_dict = True)\n",
    "\n",
    "eval_df = pd.DataFrame(report).transpose()\n",
    "\n",
    "to_acc = eval_df['precision'].iloc[2]\n",
    "dr_pr = eval_df['precision'].iloc[1]\n",
    "so_pr = eval_df['precision'].iloc[0]\n",
    "dr_re = eval_df['recall'].iloc[1]\n",
    "so_re = eval_df['recall'].iloc[0]\n",
    "dr_su = eval_df['support'].iloc[1]\n",
    "so_su = eval_df['support'].iloc[0]\n",
    "    \n",
    "eval_row = np.array([model_name, fold, to_acc, dr_pr, so_pr, dr_re, so_re, dr_su, so_su])\n",
    "   "
   ]
  },
  {
   "cell_type": "code",
   "execution_count": 159,
   "metadata": {},
   "outputs": [
    {
     "name": "stdout",
     "output_type": "stream",
     "text": [
      "['GradientBoostingClassifier()' '3' '0.9519540229885057' '0.0' '1.0' '0.0'\n",
      " '0.9519540229885057' '0.0' '8700.0']\n"
     ]
    }
   ],
   "source": [
    "run21 = eval_row\n",
    "print(run21)"
   ]
  },
  {
   "cell_type": "code",
   "execution_count": 160,
   "metadata": {},
   "outputs": [
    {
     "name": "stdout",
     "output_type": "stream",
     "text": [
      "              precision    recall  f1-score   support\n",
      "\n",
      "           0       1.00      0.95      0.98      8700\n",
      "           1       0.00      0.00      0.00         0\n",
      "\n",
      "    accuracy                           0.95      8700\n",
      "   macro avg       0.50      0.48      0.49      8700\n",
      "weighted avg       1.00      0.95      0.98      8700\n",
      "\n"
     ]
    }
   ],
   "source": [
    "# Phase 1 - Fold 3 Classification Report\n",
    "gbc_classreport_p1f3 = (classification_report(y_test_p1f3, pred))\n",
    "print(gbc_classreport_p1f3)"
   ]
  },
  {
   "cell_type": "code",
   "execution_count": 162,
   "metadata": {},
   "outputs": [
    {
     "data": {
      "text/html": [
       "<div>\n",
       "<style scoped>\n",
       "    .dataframe tbody tr th:only-of-type {\n",
       "        vertical-align: middle;\n",
       "    }\n",
       "\n",
       "    .dataframe tbody tr th {\n",
       "        vertical-align: top;\n",
       "    }\n",
       "\n",
       "    .dataframe thead th {\n",
       "        text-align: right;\n",
       "    }\n",
       "</style>\n",
       "<table border=\"1\" class=\"dataframe\">\n",
       "  <thead>\n",
       "    <tr style=\"text-align: right;\">\n",
       "      <th></th>\n",
       "      <th>model</th>\n",
       "      <th>fold</th>\n",
       "      <th>accuracy</th>\n",
       "      <th>precision (drunk)</th>\n",
       "      <th>precision (sober)</th>\n",
       "      <th>recall (drunk)</th>\n",
       "      <th>recall (sober)</th>\n",
       "      <th>support (drunk)</th>\n",
       "      <th>support (sober)</th>\n",
       "    </tr>\n",
       "  </thead>\n",
       "  <tbody>\n",
       "  </tbody>\n",
       "</table>\n",
       "</div>"
      ],
      "text/plain": [
       "Empty DataFrame\n",
       "Columns: [model, fold, accuracy, precision (drunk), precision (sober), recall (drunk), recall (sober), support (drunk), support (sober)]\n",
       "Index: []"
      ]
     },
     "execution_count": 162,
     "metadata": {},
     "output_type": "execute_result"
    }
   ],
   "source": [
    "total_eval"
   ]
  },
  {
   "cell_type": "code",
   "execution_count": 163,
   "metadata": {},
   "outputs": [],
   "source": [
    "total_results = total_eval.append(pd.DataFrame([run1, run2, run3, run4, run5, run6, run7, run8, run9, run10,\n",
    "                               run11,run12,run13,run14,run15,run16,run17,run18,run19,run20,run21],columns = eval_col))"
   ]
  },
  {
   "cell_type": "code",
   "execution_count": 164,
   "metadata": {},
   "outputs": [],
   "source": [
    "total_results['accuracy'] = total_results['accuracy'].astype(float).round(6)\n",
    "total_results['precision (drunk)'] = total_results['precision (drunk)'].astype(float).round(6)\n",
    "total_results['precision (sober)'] = total_results['precision (sober)'].astype(float).round(6)\n",
    "total_results['recall (drunk)'] = total_results['recall (drunk)'].astype(float).round(6)\n",
    "total_results['recall (sober)'] = total_results['recall (sober)'].astype(float).round(6)\n"
   ]
  },
  {
   "cell_type": "code",
   "execution_count": 165,
   "metadata": {},
   "outputs": [],
   "source": [
    "total_results.to_pickle('./results.pkl')"
   ]
  },
  {
   "cell_type": "code",
   "execution_count": 5,
   "metadata": {},
   "outputs": [],
   "source": [
    "test = pd.read_pickle('/Users/lolajohnston/Documents/GitHub/ML_project-master/results.pkl')\n"
   ]
  },
  {
   "cell_type": "code",
   "execution_count": 118,
   "metadata": {},
   "outputs": [
    {
     "name": "stderr",
     "output_type": "stream",
     "text": [
      "/opt/anaconda3/lib/python3.7/site-packages/ipykernel_launcher.py:1: FutureWarning: set_value is deprecated and will be removed in a future release. Please use .at[] or .iat[] accessors instead\n",
      "  \"\"\"Entry point for launching an IPython kernel.\n",
      "/opt/anaconda3/lib/python3.7/site-packages/ipykernel_launcher.py:2: FutureWarning: set_value is deprecated and will be removed in a future release. Please use .at[] or .iat[] accessors instead\n",
      "  \n",
      "/opt/anaconda3/lib/python3.7/site-packages/ipykernel_launcher.py:3: FutureWarning: set_value is deprecated and will be removed in a future release. Please use .at[] or .iat[] accessors instead\n",
      "  This is separate from the ipykernel package so we can avoid doing imports until\n",
      "/opt/anaconda3/lib/python3.7/site-packages/ipykernel_launcher.py:4: FutureWarning: set_value is deprecated and will be removed in a future release. Please use .at[] or .iat[] accessors instead\n",
      "  after removing the cwd from sys.path.\n",
      "/opt/anaconda3/lib/python3.7/site-packages/ipykernel_launcher.py:5: FutureWarning: set_value is deprecated and will be removed in a future release. Please use .at[] or .iat[] accessors instead\n",
      "  \"\"\"\n",
      "/opt/anaconda3/lib/python3.7/site-packages/ipykernel_launcher.py:6: FutureWarning: set_value is deprecated and will be removed in a future release. Please use .at[] or .iat[] accessors instead\n",
      "  \n",
      "/opt/anaconda3/lib/python3.7/site-packages/ipykernel_launcher.py:7: FutureWarning: set_value is deprecated and will be removed in a future release. Please use .at[] or .iat[] accessors instead\n",
      "  import sys\n"
     ]
    },
    {
     "data": {
      "text/html": [
       "<div>\n",
       "<style scoped>\n",
       "    .dataframe tbody tr th:only-of-type {\n",
       "        vertical-align: middle;\n",
       "    }\n",
       "\n",
       "    .dataframe tbody tr th {\n",
       "        vertical-align: top;\n",
       "    }\n",
       "\n",
       "    .dataframe thead th {\n",
       "        text-align: right;\n",
       "    }\n",
       "</style>\n",
       "<table border=\"1\" class=\"dataframe\">\n",
       "  <thead>\n",
       "    <tr style=\"text-align: right;\">\n",
       "      <th></th>\n",
       "      <th>model</th>\n",
       "      <th>fold</th>\n",
       "      <th>accuracy</th>\n",
       "      <th>precision (drunk)</th>\n",
       "      <th>precision (sober)</th>\n",
       "      <th>recall (drunk)</th>\n",
       "      <th>recall (sober)</th>\n",
       "      <th>support (drunk)</th>\n",
       "      <th>support (sober)</th>\n",
       "    </tr>\n",
       "  </thead>\n",
       "  <tbody>\n",
       "    <tr>\n",
       "      <td>0</td>\n",
       "      <td>KNeighborsClassifier</td>\n",
       "      <td>1</td>\n",
       "      <td>0.574495</td>\n",
       "      <td>0.540979</td>\n",
       "      <td>0.595865</td>\n",
       "      <td>0.460477</td>\n",
       "      <td>0.670616</td>\n",
       "      <td>3985.0</td>\n",
       "      <td>4727.0</td>\n",
       "    </tr>\n",
       "    <tr>\n",
       "      <td>1</td>\n",
       "      <td>KNeighborsClassifier</td>\n",
       "      <td>2</td>\n",
       "      <td>0.725666</td>\n",
       "      <td>0.505561</td>\n",
       "      <td>0.790318</td>\n",
       "      <td>0.414594</td>\n",
       "      <td>0.844762</td>\n",
       "      <td>2412.0</td>\n",
       "      <td>6300.0</td>\n",
       "    </tr>\n",
       "    <tr>\n",
       "      <td>2</td>\n",
       "      <td>KNeighborsClassifier</td>\n",
       "      <td>3</td>\n",
       "      <td>0.925057</td>\n",
       "      <td>0.000000</td>\n",
       "      <td>1.000000</td>\n",
       "      <td>1.000000</td>\n",
       "      <td>0.925057</td>\n",
       "      <td>0.0</td>\n",
       "      <td>8700.0</td>\n",
       "    </tr>\n",
       "    <tr>\n",
       "      <td>3</td>\n",
       "      <td>LogisticRegression()</td>\n",
       "      <td>1</td>\n",
       "      <td>0.588384</td>\n",
       "      <td>0.570025</td>\n",
       "      <td>0.597305</td>\n",
       "      <td>0.407528</td>\n",
       "      <td>0.740850</td>\n",
       "      <td>3985.0</td>\n",
       "      <td>4727.0</td>\n",
       "    </tr>\n",
       "    <tr>\n",
       "      <td>4</td>\n",
       "      <td>LogisticRegression()</td>\n",
       "      <td>2</td>\n",
       "      <td>0.733930</td>\n",
       "      <td>0.525460</td>\n",
       "      <td>0.789980</td>\n",
       "      <td>0.402156</td>\n",
       "      <td>0.860952</td>\n",
       "      <td>2412.0</td>\n",
       "      <td>6300.0</td>\n",
       "    </tr>\n",
       "    <tr>\n",
       "      <td>5</td>\n",
       "      <td>LogisticRegression()</td>\n",
       "      <td>3</td>\n",
       "      <td>0.956092</td>\n",
       "      <td>0.000000</td>\n",
       "      <td>1.000000</td>\n",
       "      <td>1.000000</td>\n",
       "      <td>0.956092</td>\n",
       "      <td>0.0</td>\n",
       "      <td>8700.0</td>\n",
       "    </tr>\n",
       "    <tr>\n",
       "      <td>6</td>\n",
       "      <td>RandomForestClassifier()</td>\n",
       "      <td>1</td>\n",
       "      <td>0.595730</td>\n",
       "      <td>0.589624</td>\n",
       "      <td>0.598303</td>\n",
       "      <td>0.382183</td>\n",
       "      <td>0.775756</td>\n",
       "      <td>3985.0</td>\n",
       "      <td>4727.0</td>\n",
       "    </tr>\n",
       "    <tr>\n",
       "      <td>7</td>\n",
       "      <td>RandomForestClassifier()</td>\n",
       "      <td>2</td>\n",
       "      <td>0.746327</td>\n",
       "      <td>0.574484</td>\n",
       "      <td>0.778004</td>\n",
       "      <td>0.322968</td>\n",
       "      <td>0.908413</td>\n",
       "      <td>2412.0</td>\n",
       "      <td>6300.0</td>\n",
       "    </tr>\n",
       "    <tr>\n",
       "      <td>8</td>\n",
       "      <td>RandomForestClassifier()</td>\n",
       "      <td>3</td>\n",
       "      <td>0.953908</td>\n",
       "      <td>0.000000</td>\n",
       "      <td>1.000000</td>\n",
       "      <td>1.000000</td>\n",
       "      <td>0.953908</td>\n",
       "      <td>0.0</td>\n",
       "      <td>8700.0</td>\n",
       "    </tr>\n",
       "    <tr>\n",
       "      <td>9</td>\n",
       "      <td>AdaBoostClassifier()</td>\n",
       "      <td>1</td>\n",
       "      <td>0.595271</td>\n",
       "      <td>0.576271</td>\n",
       "      <td>0.605295</td>\n",
       "      <td>0.435132</td>\n",
       "      <td>0.730273</td>\n",
       "      <td>3985.0</td>\n",
       "      <td>4727.0</td>\n",
       "    </tr>\n",
       "    <tr>\n",
       "      <td>10</td>\n",
       "      <td>AdaBoostClassifier()</td>\n",
       "      <td>2</td>\n",
       "      <td>0.742883</td>\n",
       "      <td>0.543833</td>\n",
       "      <td>0.800741</td>\n",
       "      <td>0.442371</td>\n",
       "      <td>0.857937</td>\n",
       "      <td>2412.0</td>\n",
       "      <td>6300.0</td>\n",
       "    </tr>\n",
       "    <tr>\n",
       "      <td>11</td>\n",
       "      <td>AdaBoostClassifier()</td>\n",
       "      <td>3</td>\n",
       "      <td>0.934138</td>\n",
       "      <td>0.000000</td>\n",
       "      <td>1.000000</td>\n",
       "      <td>1.000000</td>\n",
       "      <td>0.934138</td>\n",
       "      <td>0.0</td>\n",
       "      <td>8700.0</td>\n",
       "    </tr>\n",
       "    <tr>\n",
       "      <td>12</td>\n",
       "      <td>SVC()</td>\n",
       "      <td>1</td>\n",
       "      <td>0.596074</td>\n",
       "      <td>0.575551</td>\n",
       "      <td>0.607321</td>\n",
       "      <td>0.445420</td>\n",
       "      <td>0.723080</td>\n",
       "      <td>3985.0</td>\n",
       "      <td>4727.0</td>\n",
       "    </tr>\n",
       "    <tr>\n",
       "      <td>13</td>\n",
       "      <td>SVC()</td>\n",
       "      <td>2</td>\n",
       "      <td>0.754247</td>\n",
       "      <td>0.574656</td>\n",
       "      <td>0.801508</td>\n",
       "      <td>0.432421</td>\n",
       "      <td>0.877460</td>\n",
       "      <td>2412.0</td>\n",
       "      <td>6300.0</td>\n",
       "    </tr>\n",
       "    <tr>\n",
       "      <td>14</td>\n",
       "      <td>SVC()</td>\n",
       "      <td>3</td>\n",
       "      <td>0.933563</td>\n",
       "      <td>0.000000</td>\n",
       "      <td>1.000000</td>\n",
       "      <td>1.000000</td>\n",
       "      <td>0.933563</td>\n",
       "      <td>0.0</td>\n",
       "      <td>8700.0</td>\n",
       "    </tr>\n",
       "    <tr>\n",
       "      <td>15</td>\n",
       "      <td>GaussianNB()</td>\n",
       "      <td>1</td>\n",
       "      <td>0.594008</td>\n",
       "      <td>0.551780</td>\n",
       "      <td>0.635659</td>\n",
       "      <td>0.598996</td>\n",
       "      <td>0.589803</td>\n",
       "      <td>3985.0</td>\n",
       "      <td>4727.0</td>\n",
       "    </tr>\n",
       "    <tr>\n",
       "      <td>16</td>\n",
       "      <td>GaussianNB()</td>\n",
       "      <td>2</td>\n",
       "      <td>0.753214</td>\n",
       "      <td>0.537471</td>\n",
       "      <td>0.897814</td>\n",
       "      <td>0.779022</td>\n",
       "      <td>0.743333</td>\n",
       "      <td>2412.0</td>\n",
       "      <td>6300.0</td>\n",
       "    </tr>\n",
       "    <tr>\n",
       "      <td>17</td>\n",
       "      <td>GaussianNB()</td>\n",
       "      <td>3</td>\n",
       "      <td>0.935287</td>\n",
       "      <td>0.000000</td>\n",
       "      <td>1.000000</td>\n",
       "      <td>1.000000</td>\n",
       "      <td>0.935287</td>\n",
       "      <td>0.0</td>\n",
       "      <td>8700.0</td>\n",
       "    </tr>\n",
       "    <tr>\n",
       "      <td>18</td>\n",
       "      <td>GradientBoostingClassifier()</td>\n",
       "      <td>1</td>\n",
       "      <td>0.601469</td>\n",
       "      <td>0.586979</td>\n",
       "      <td>0.608884</td>\n",
       "      <td>0.434379</td>\n",
       "      <td>0.742331</td>\n",
       "      <td>3985.0</td>\n",
       "      <td>4727.0</td>\n",
       "    </tr>\n",
       "    <tr>\n",
       "      <td>19</td>\n",
       "      <td>GradientBoostingClassifier()</td>\n",
       "      <td>2</td>\n",
       "      <td>0.744949</td>\n",
       "      <td>0.554286</td>\n",
       "      <td>0.792876</td>\n",
       "      <td>0.402156</td>\n",
       "      <td>0.876190</td>\n",
       "      <td>2412.0</td>\n",
       "      <td>6300.0</td>\n",
       "    </tr>\n",
       "    <tr>\n",
       "      <td>20</td>\n",
       "      <td>GradientBoostingClassifier()</td>\n",
       "      <td>3</td>\n",
       "      <td>0.951954</td>\n",
       "      <td>0.000000</td>\n",
       "      <td>1.000000</td>\n",
       "      <td>1.000000</td>\n",
       "      <td>0.951954</td>\n",
       "      <td>0.0</td>\n",
       "      <td>8700.0</td>\n",
       "    </tr>\n",
       "  </tbody>\n",
       "</table>\n",
       "</div>"
      ],
      "text/plain": [
       "                           model fold  accuracy  precision (drunk)  \\\n",
       "0           KNeighborsClassifier    1  0.574495           0.540979   \n",
       "1           KNeighborsClassifier    2  0.725666           0.505561   \n",
       "2           KNeighborsClassifier    3  0.925057           0.000000   \n",
       "3           LogisticRegression()    1  0.588384           0.570025   \n",
       "4           LogisticRegression()    2  0.733930           0.525460   \n",
       "5           LogisticRegression()    3  0.956092           0.000000   \n",
       "6       RandomForestClassifier()    1  0.595730           0.589624   \n",
       "7       RandomForestClassifier()    2  0.746327           0.574484   \n",
       "8       RandomForestClassifier()    3  0.953908           0.000000   \n",
       "9           AdaBoostClassifier()    1  0.595271           0.576271   \n",
       "10          AdaBoostClassifier()    2  0.742883           0.543833   \n",
       "11          AdaBoostClassifier()    3  0.934138           0.000000   \n",
       "12                         SVC()    1  0.596074           0.575551   \n",
       "13                         SVC()    2  0.754247           0.574656   \n",
       "14                         SVC()    3  0.933563           0.000000   \n",
       "15                  GaussianNB()    1  0.594008           0.551780   \n",
       "16                  GaussianNB()    2  0.753214           0.537471   \n",
       "17                  GaussianNB()    3  0.935287           0.000000   \n",
       "18  GradientBoostingClassifier()    1  0.601469           0.586979   \n",
       "19  GradientBoostingClassifier()    2  0.744949           0.554286   \n",
       "20  GradientBoostingClassifier()    3  0.951954           0.000000   \n",
       "\n",
       "    precision (sober)  recall (drunk)  recall (sober) support (drunk)  \\\n",
       "0            0.595865        0.460477        0.670616          3985.0   \n",
       "1            0.790318        0.414594        0.844762          2412.0   \n",
       "2            1.000000        1.000000        0.925057             0.0   \n",
       "3            0.597305        0.407528        0.740850          3985.0   \n",
       "4            0.789980        0.402156        0.860952          2412.0   \n",
       "5            1.000000        1.000000        0.956092             0.0   \n",
       "6            0.598303        0.382183        0.775756          3985.0   \n",
       "7            0.778004        0.322968        0.908413          2412.0   \n",
       "8            1.000000        1.000000        0.953908             0.0   \n",
       "9            0.605295        0.435132        0.730273          3985.0   \n",
       "10           0.800741        0.442371        0.857937          2412.0   \n",
       "11           1.000000        1.000000        0.934138             0.0   \n",
       "12           0.607321        0.445420        0.723080          3985.0   \n",
       "13           0.801508        0.432421        0.877460          2412.0   \n",
       "14           1.000000        1.000000        0.933563             0.0   \n",
       "15           0.635659        0.598996        0.589803          3985.0   \n",
       "16           0.897814        0.779022        0.743333          2412.0   \n",
       "17           1.000000        1.000000        0.935287             0.0   \n",
       "18           0.608884        0.434379        0.742331          3985.0   \n",
       "19           0.792876        0.402156        0.876190          2412.0   \n",
       "20           1.000000        1.000000        0.951954             0.0   \n",
       "\n",
       "   support (sober)  \n",
       "0           4727.0  \n",
       "1           6300.0  \n",
       "2           8700.0  \n",
       "3           4727.0  \n",
       "4           6300.0  \n",
       "5           8700.0  \n",
       "6           4727.0  \n",
       "7           6300.0  \n",
       "8           8700.0  \n",
       "9           4727.0  \n",
       "10          6300.0  \n",
       "11          8700.0  \n",
       "12          4727.0  \n",
       "13          6300.0  \n",
       "14          8700.0  \n",
       "15          4727.0  \n",
       "16          6300.0  \n",
       "17          8700.0  \n",
       "18          4727.0  \n",
       "19          6300.0  \n",
       "20          8700.0  "
      ]
     },
     "execution_count": 118,
     "metadata": {},
     "output_type": "execute_result"
    }
   ],
   "source": [
    "test.set_value(2, 'recall (drunk)', 1)\n",
    "test.set_value(5, 'recall (drunk)', 1)\n",
    "test.set_value(8, 'recall (drunk)', 1)\n",
    "test.set_value(11, 'recall (drunk)', 1)\n",
    "test.set_value(14, 'recall (drunk)', 1)\n",
    "test.set_value(17, 'recall (drunk)', 1)\n",
    "test.set_value(20, 'recall (drunk)', 1)"
   ]
  },
  {
   "cell_type": "code",
   "execution_count": 122,
   "metadata": {},
   "outputs": [],
   "source": [
    "results_table = test.drop(['fold','support (sober)','support (drunk)'], axis = 1)"
   ]
  },
  {
   "cell_type": "code",
   "execution_count": 123,
   "metadata": {},
   "outputs": [
    {
     "data": {
      "text/html": [
       "<div>\n",
       "<style scoped>\n",
       "    .dataframe tbody tr th:only-of-type {\n",
       "        vertical-align: middle;\n",
       "    }\n",
       "\n",
       "    .dataframe tbody tr th {\n",
       "        vertical-align: top;\n",
       "    }\n",
       "\n",
       "    .dataframe thead th {\n",
       "        text-align: right;\n",
       "    }\n",
       "</style>\n",
       "<table border=\"1\" class=\"dataframe\">\n",
       "  <thead>\n",
       "    <tr style=\"text-align: right;\">\n",
       "      <th></th>\n",
       "      <th>model</th>\n",
       "      <th>accuracy</th>\n",
       "      <th>precision (drunk)</th>\n",
       "      <th>precision (sober)</th>\n",
       "      <th>recall (drunk)</th>\n",
       "      <th>recall (sober)</th>\n",
       "    </tr>\n",
       "  </thead>\n",
       "  <tbody>\n",
       "    <tr>\n",
       "      <td>0</td>\n",
       "      <td>AdaBoostClassifier()</td>\n",
       "      <td>0.757431</td>\n",
       "      <td>0.373368</td>\n",
       "      <td>0.802012</td>\n",
       "      <td>0.625834</td>\n",
       "      <td>0.840783</td>\n",
       "    </tr>\n",
       "    <tr>\n",
       "      <td>1</td>\n",
       "      <td>GaussianNB()</td>\n",
       "      <td>0.760836</td>\n",
       "      <td>0.363084</td>\n",
       "      <td>0.844491</td>\n",
       "      <td>0.792673</td>\n",
       "      <td>0.756141</td>\n",
       "    </tr>\n",
       "    <tr>\n",
       "      <td>2</td>\n",
       "      <td>GradientBoostingClassifier()</td>\n",
       "      <td>0.766124</td>\n",
       "      <td>0.380422</td>\n",
       "      <td>0.800587</td>\n",
       "      <td>0.612178</td>\n",
       "      <td>0.856825</td>\n",
       "    </tr>\n",
       "    <tr>\n",
       "      <td>3</td>\n",
       "      <td>KNeighborsClassifier</td>\n",
       "      <td>0.741739</td>\n",
       "      <td>0.348847</td>\n",
       "      <td>0.795394</td>\n",
       "      <td>0.625024</td>\n",
       "      <td>0.813478</td>\n",
       "    </tr>\n",
       "    <tr>\n",
       "      <td>4</td>\n",
       "      <td>LogisticRegression()</td>\n",
       "      <td>0.759469</td>\n",
       "      <td>0.365162</td>\n",
       "      <td>0.795762</td>\n",
       "      <td>0.603228</td>\n",
       "      <td>0.852631</td>\n",
       "    </tr>\n",
       "    <tr>\n",
       "      <td>5</td>\n",
       "      <td>RandomForestClassifier()</td>\n",
       "      <td>0.765322</td>\n",
       "      <td>0.388036</td>\n",
       "      <td>0.792102</td>\n",
       "      <td>0.568384</td>\n",
       "      <td>0.879359</td>\n",
       "    </tr>\n",
       "    <tr>\n",
       "      <td>6</td>\n",
       "      <td>SVC()</td>\n",
       "      <td>0.761295</td>\n",
       "      <td>0.383402</td>\n",
       "      <td>0.802943</td>\n",
       "      <td>0.625947</td>\n",
       "      <td>0.844701</td>\n",
       "    </tr>\n",
       "  </tbody>\n",
       "</table>\n",
       "</div>"
      ],
      "text/plain": [
       "                          model  accuracy  precision (drunk)  \\\n",
       "0          AdaBoostClassifier()  0.757431           0.373368   \n",
       "1                  GaussianNB()  0.760836           0.363084   \n",
       "2  GradientBoostingClassifier()  0.766124           0.380422   \n",
       "3          KNeighborsClassifier  0.741739           0.348847   \n",
       "4          LogisticRegression()  0.759469           0.365162   \n",
       "5      RandomForestClassifier()  0.765322           0.388036   \n",
       "6                         SVC()  0.761295           0.383402   \n",
       "\n",
       "   precision (sober)  recall (drunk)  recall (sober)  \n",
       "0           0.802012        0.625834        0.840783  \n",
       "1           0.844491        0.792673        0.756141  \n",
       "2           0.800587        0.612178        0.856825  \n",
       "3           0.795394        0.625024        0.813478  \n",
       "4           0.795762        0.603228        0.852631  \n",
       "5           0.792102        0.568384        0.879359  \n",
       "6           0.802943        0.625947        0.844701  "
      ]
     },
     "execution_count": 123,
     "metadata": {},
     "output_type": "execute_result"
    }
   ],
   "source": [
    "results_table.groupby('model', as_index = False).agg(np.mean)"
   ]
  },
  {
   "cell_type": "code",
   "execution_count": 124,
   "metadata": {},
   "outputs": [],
   "source": [
    "results_table.to_pickle('./results_table.pkl')"
   ]
  },
  {
   "cell_type": "code",
   "execution_count": null,
   "metadata": {},
   "outputs": [],
   "source": []
  },
  {
   "cell_type": "markdown",
   "metadata": {},
   "source": [
    "# TUNED RANDOM FOREST - 10 SEC"
   ]
  },
  {
   "cell_type": "code",
   "execution_count": 24,
   "metadata": {},
   "outputs": [],
   "source": [
    "forest = RandomForestClassifier()"
   ]
  },
  {
   "cell_type": "code",
   "execution_count": 107,
   "metadata": {},
   "outputs": [
    {
     "name": "stdout",
     "output_type": "stream",
     "text": [
      "Fitting 3 folds for each of 4 candidates, totalling 12 fits\n"
     ]
    },
    {
     "name": "stderr",
     "output_type": "stream",
     "text": [
      "[Parallel(n_jobs=-1)]: Using backend LokyBackend with 4 concurrent workers.\n",
      "[Parallel(n_jobs=-1)]: Done  12 out of  12 | elapsed:    6.0s finished\n"
     ]
    }
   ],
   "source": [
    "model_name = 'RandomForestClassifier'\n",
    "fold = '1 - tuned'\n",
    "\n",
    "n_estimators = [10, 20]\n",
    "max_depth = [10, 15]\n",
    "min_samples_split = [5]\n",
    "min_samples_leaf = [10] \n",
    "\n",
    "hyperF = dict(n_estimators = n_estimators, max_depth = max_depth,\n",
    "              min_samples_split = min_samples_split, \n",
    "             min_samples_leaf = min_samples_leaf)\n",
    "\n",
    "gridF = GridSearchCV(forest, hyperF, cv = 3, verbose = 1, \n",
    "                      n_jobs = -1)\n",
    "bestF = gridF.fit(X_train_p1f1, y_train_p1f1)"
   ]
  },
  {
   "cell_type": "code",
   "execution_count": 108,
   "metadata": {},
   "outputs": [],
   "source": [
    "y_pred= bestF.predict(X_test_p1f1)"
   ]
  },
  {
   "cell_type": "code",
   "execution_count": 109,
   "metadata": {},
   "outputs": [],
   "source": [
    "\n",
    "report = classification_report(y_test_p1f1, y_pred, output_dict = True)\n",
    "\n",
    "eval_df = pd.DataFrame(report).transpose()\n",
    "\n",
    "to_acc = eval_df['precision'].iloc[2]\n",
    "dr_pr = eval_df['precision'].iloc[1]\n",
    "so_pr = eval_df['precision'].iloc[0]\n",
    "dr_re = eval_df['recall'].iloc[1]\n",
    "so_re = eval_df['recall'].iloc[0]\n",
    "dr_su = eval_df['support'].iloc[1]\n",
    "so_su = eval_df['support'].iloc[0]\n",
    "    \n",
    "eval_row = np.array([model_name, fold, to_acc, dr_pr, so_pr, dr_re, so_re, dr_su, so_su])\n",
    "   "
   ]
  },
  {
   "cell_type": "code",
   "execution_count": 110,
   "metadata": {},
   "outputs": [
    {
     "name": "stdout",
     "output_type": "stream",
     "text": [
      "['RandomForestClassifier' '1 - tuned' '0.6179981634527089'\n",
      " '0.6114692908042076' '0.6213356461405031' '0.4521957340025094'\n",
      " '0.757774486989634' '3985.0' '4727.0']\n"
     ]
    }
   ],
   "source": [
    "forest_1_HALF = eval_row\n",
    "print(forest_1_HALF)"
   ]
  },
  {
   "cell_type": "code",
   "execution_count": 29,
   "metadata": {},
   "outputs": [
    {
     "name": "stdout",
     "output_type": "stream",
     "text": [
      "Fitting 3 folds for each of 2 candidates, totalling 6 fits\n"
     ]
    },
    {
     "name": "stderr",
     "output_type": "stream",
     "text": [
      "[Parallel(n_jobs=-1)]: Using backend LokyBackend with 4 concurrent workers.\n",
      "[Parallel(n_jobs=-1)]: Done   6 out of   6 | elapsed:    3.3s remaining:    0.0s\n",
      "[Parallel(n_jobs=-1)]: Done   6 out of   6 | elapsed:    3.3s finished\n"
     ]
    }
   ],
   "source": [
    "# forest2\n",
    "model_name = 'RandomForestClassifier'\n",
    "fold = '2 - tuned'\n",
    "\n",
    "\n",
    "n_estimators = [10, 20]\n",
    "max_depth = [15]\n",
    "min_samples_split = [2]\n",
    "min_samples_leaf = [5] \n",
    "\n",
    "hyperF = dict(n_estimators = n_estimators, max_depth = max_depth,  \n",
    "              min_samples_split = min_samples_split, \n",
    "             min_samples_leaf = min_samples_leaf)\n",
    "\n",
    "gridF = GridSearchCV(forest, hyperF, cv = 3, verbose = 1, \n",
    "                      n_jobs = -1)\n",
    "bestF = gridF.fit(X_train_p1f2, y_train_p1f2)"
   ]
  },
  {
   "cell_type": "code",
   "execution_count": 30,
   "metadata": {},
   "outputs": [],
   "source": [
    "y_pred= bestF.predict(X_test_p1f2)"
   ]
  },
  {
   "cell_type": "code",
   "execution_count": 31,
   "metadata": {},
   "outputs": [],
   "source": [
    "\n",
    "report = classification_report(y_test_p1f2, y_pred, output_dict = True)\n",
    "\n",
    "eval_df = pd.DataFrame(report).transpose()\n",
    "\n",
    "to_acc = eval_df['precision'].iloc[2]\n",
    "dr_pr = eval_df['precision'].iloc[1]\n",
    "so_pr = eval_df['precision'].iloc[0]\n",
    "dr_re = eval_df['recall'].iloc[1]\n",
    "so_re = eval_df['recall'].iloc[0]\n",
    "dr_su = eval_df['support'].iloc[1]\n",
    "so_su = eval_df['support'].iloc[0]\n",
    "    \n",
    "eval_row = np.array([model_name, fold, to_acc, dr_pr, so_pr, dr_re, so_re, dr_su, so_su])\n",
    "   "
   ]
  },
  {
   "cell_type": "code",
   "execution_count": 32,
   "metadata": {},
   "outputs": [
    {
     "name": "stdout",
     "output_type": "stream",
     "text": [
      "['RandomForestClassifier' '2 - tuned' '0.7622819100091828'\n",
      " '0.6160653505786249' '0.7919370426618805' '0.3752072968490879'\n",
      " '0.9104761904761904' '2412.0' '6300.0']\n"
     ]
    }
   ],
   "source": [
    "forest_2 = eval_row\n",
    "print(forest_2)"
   ]
  },
  {
   "cell_type": "code",
   "execution_count": 33,
   "metadata": {},
   "outputs": [
    {
     "name": "stdout",
     "output_type": "stream",
     "text": [
      "Fitting 3 folds for each of 2 candidates, totalling 6 fits\n"
     ]
    },
    {
     "name": "stderr",
     "output_type": "stream",
     "text": [
      "[Parallel(n_jobs=-1)]: Using backend LokyBackend with 4 concurrent workers.\n",
      "[Parallel(n_jobs=-1)]: Done   6 out of   6 | elapsed:    3.1s remaining:    0.0s\n",
      "[Parallel(n_jobs=-1)]: Done   6 out of   6 | elapsed:    3.1s finished\n"
     ]
    }
   ],
   "source": [
    "# forest3\n",
    "\n",
    "\n",
    "model_name = 'RandomForestClassifier'\n",
    "fold = '3 - tuned'\n",
    "\n",
    "\n",
    "n_estimators = [10, 20]\n",
    "max_depth = [15]\n",
    "min_samples_split = [2]\n",
    "min_samples_leaf = [5] \n",
    "\n",
    "hyperF = dict(n_estimators = n_estimators, max_depth = max_depth,  \n",
    "              min_samples_split = min_samples_split, \n",
    "             min_samples_leaf = min_samples_leaf)\n",
    "\n",
    "gridF = GridSearchCV(forest, hyperF, cv = 3, verbose = 1, \n",
    "                      n_jobs = -1)\n",
    "bestF = gridF.fit(X_train_p1f3, y_train_p1f3)"
   ]
  },
  {
   "cell_type": "code",
   "execution_count": 34,
   "metadata": {},
   "outputs": [],
   "source": [
    "y_pred= bestF.predict(X_test_p1f3)"
   ]
  },
  {
   "cell_type": "code",
   "execution_count": 35,
   "metadata": {},
   "outputs": [
    {
     "name": "stderr",
     "output_type": "stream",
     "text": [
      "/opt/anaconda3/lib/python3.7/site-packages/sklearn/metrics/classification.py:1439: UndefinedMetricWarning: Recall and F-score are ill-defined and being set to 0.0 in labels with no true samples.\n",
      "  'recall', 'true', average, warn_for)\n"
     ]
    }
   ],
   "source": [
    "\n",
    "report = classification_report(y_test_p1f3, y_pred, output_dict = True)\n",
    "\n",
    "eval_df = pd.DataFrame(report).transpose()\n",
    "\n",
    "to_acc = eval_df['precision'].iloc[2]\n",
    "dr_pr = eval_df['precision'].iloc[1]\n",
    "so_pr = eval_df['precision'].iloc[0]\n",
    "dr_re = eval_df['recall'].iloc[1]\n",
    "so_re = eval_df['recall'].iloc[0]\n",
    "dr_su = eval_df['support'].iloc[1]\n",
    "so_su = eval_df['support'].iloc[0]\n",
    "    \n",
    "eval_row = np.array([model_name, fold, to_acc, dr_pr, so_pr, dr_re, so_re, dr_su, so_su])\n",
    "   "
   ]
  },
  {
   "cell_type": "code",
   "execution_count": 36,
   "metadata": {},
   "outputs": [
    {
     "name": "stdout",
     "output_type": "stream",
     "text": [
      "['RandomForestClassifier' '3 - tuned' '0.9562068965517241' '0.0' '1.0'\n",
      " '0.0' '0.9562068965517241' '0.0' '8700.0']\n"
     ]
    }
   ],
   "source": [
    "forest_3 = eval_row\n",
    "print(forest_3)"
   ]
  },
  {
   "cell_type": "code",
   "execution_count": 40,
   "metadata": {},
   "outputs": [],
   "source": [
    "forest_eval = pd.DataFrame(columns = eval_col)"
   ]
  },
  {
   "cell_type": "code",
   "execution_count": 41,
   "metadata": {},
   "outputs": [],
   "source": [
    "forest_eval = forest_eval.append(pd.DataFrame([forest_1, forest_2, forest_3],columns = eval_col))"
   ]
  },
  {
   "cell_type": "code",
   "execution_count": 42,
   "metadata": {},
   "outputs": [],
   "source": [
    "forest_eval['accuracy'] = forest_eval['accuracy'].astype(float).round(6)\n",
    "forest_eval['precision (drunk)'] = forest_eval['precision (drunk)'].astype(float).round(6)\n",
    "forest_eval['precision (sober)'] = forest_eval['precision (sober)'].astype(float).round(6)\n",
    "forest_eval['recall (drunk)'] = forest_eval['recall (drunk)'].astype(float).round(6)\n",
    "forest_eval['recall (sober)'] = forest_eval['recall (sober)'].astype(float).round(6)\n"
   ]
  },
  {
   "cell_type": "code",
   "execution_count": 86,
   "metadata": {},
   "outputs": [
    {
     "data": {
      "text/html": [
       "<div>\n",
       "<style scoped>\n",
       "    .dataframe tbody tr th:only-of-type {\n",
       "        vertical-align: middle;\n",
       "    }\n",
       "\n",
       "    .dataframe tbody tr th {\n",
       "        vertical-align: top;\n",
       "    }\n",
       "\n",
       "    .dataframe thead th {\n",
       "        text-align: right;\n",
       "    }\n",
       "</style>\n",
       "<table border=\"1\" class=\"dataframe\">\n",
       "  <thead>\n",
       "    <tr style=\"text-align: right;\">\n",
       "      <th></th>\n",
       "      <th>model</th>\n",
       "      <th>fold</th>\n",
       "      <th>accuracy</th>\n",
       "      <th>precision (drunk)</th>\n",
       "      <th>precision (sober)</th>\n",
       "      <th>recall (drunk)</th>\n",
       "      <th>recall (sober)</th>\n",
       "      <th>support (drunk)</th>\n",
       "      <th>support (sober)</th>\n",
       "    </tr>\n",
       "  </thead>\n",
       "  <tbody>\n",
       "    <tr>\n",
       "      <td>0</td>\n",
       "      <td>RandomForestClassifier</td>\n",
       "      <td>1 - tuned</td>\n",
       "      <td>0.612948</td>\n",
       "      <td>0.605218</td>\n",
       "      <td>0.616830</td>\n",
       "      <td>0.442409</td>\n",
       "      <td>0.756717</td>\n",
       "      <td>3985.0</td>\n",
       "      <td>4727.0</td>\n",
       "    </tr>\n",
       "    <tr>\n",
       "      <td>1</td>\n",
       "      <td>RandomForestClassifier</td>\n",
       "      <td>2 - tuned</td>\n",
       "      <td>0.762282</td>\n",
       "      <td>0.616065</td>\n",
       "      <td>0.791937</td>\n",
       "      <td>0.375207</td>\n",
       "      <td>0.910476</td>\n",
       "      <td>2412.0</td>\n",
       "      <td>6300.0</td>\n",
       "    </tr>\n",
       "    <tr>\n",
       "      <td>2</td>\n",
       "      <td>RandomForestClassifier</td>\n",
       "      <td>3 - tuned</td>\n",
       "      <td>0.956207</td>\n",
       "      <td>0.000000</td>\n",
       "      <td>1.000000</td>\n",
       "      <td>0.000000</td>\n",
       "      <td>0.956207</td>\n",
       "      <td>0.0</td>\n",
       "      <td>8700.0</td>\n",
       "    </tr>\n",
       "  </tbody>\n",
       "</table>\n",
       "</div>"
      ],
      "text/plain": [
       "                    model       fold  accuracy  precision (drunk)  \\\n",
       "0  RandomForestClassifier  1 - tuned  0.612948           0.605218   \n",
       "1  RandomForestClassifier  2 - tuned  0.762282           0.616065   \n",
       "2  RandomForestClassifier  3 - tuned  0.956207           0.000000   \n",
       "\n",
       "   precision (sober)  recall (drunk)  recall (sober) support (drunk)  \\\n",
       "0           0.616830        0.442409        0.756717          3985.0   \n",
       "1           0.791937        0.375207        0.910476          2412.0   \n",
       "2           1.000000        0.000000        0.956207             0.0   \n",
       "\n",
       "  support (sober)  \n",
       "0          4727.0  \n",
       "1          6300.0  \n",
       "2          8700.0  "
      ]
     },
     "execution_count": 86,
     "metadata": {},
     "output_type": "execute_result"
    }
   ],
   "source": [
    "forest_eval"
   ]
  },
  {
   "cell_type": "code",
   "execution_count": 87,
   "metadata": {},
   "outputs": [
    {
     "name": "stderr",
     "output_type": "stream",
     "text": [
      "/opt/anaconda3/lib/python3.7/site-packages/ipykernel_launcher.py:1: FutureWarning: set_value is deprecated and will be removed in a future release. Please use .at[] or .iat[] accessors instead\n",
      "  \"\"\"Entry point for launching an IPython kernel.\n"
     ]
    },
    {
     "data": {
      "text/html": [
       "<div>\n",
       "<style scoped>\n",
       "    .dataframe tbody tr th:only-of-type {\n",
       "        vertical-align: middle;\n",
       "    }\n",
       "\n",
       "    .dataframe tbody tr th {\n",
       "        vertical-align: top;\n",
       "    }\n",
       "\n",
       "    .dataframe thead th {\n",
       "        text-align: right;\n",
       "    }\n",
       "</style>\n",
       "<table border=\"1\" class=\"dataframe\">\n",
       "  <thead>\n",
       "    <tr style=\"text-align: right;\">\n",
       "      <th></th>\n",
       "      <th>model</th>\n",
       "      <th>fold</th>\n",
       "      <th>accuracy</th>\n",
       "      <th>precision (drunk)</th>\n",
       "      <th>precision (sober)</th>\n",
       "      <th>recall (drunk)</th>\n",
       "      <th>recall (sober)</th>\n",
       "      <th>support (drunk)</th>\n",
       "      <th>support (sober)</th>\n",
       "    </tr>\n",
       "  </thead>\n",
       "  <tbody>\n",
       "    <tr>\n",
       "      <td>0</td>\n",
       "      <td>RandomForestClassifier</td>\n",
       "      <td>1 - tuned</td>\n",
       "      <td>0.612948</td>\n",
       "      <td>0.605218</td>\n",
       "      <td>0.616830</td>\n",
       "      <td>0.442409</td>\n",
       "      <td>0.756717</td>\n",
       "      <td>3985.0</td>\n",
       "      <td>4727.0</td>\n",
       "    </tr>\n",
       "    <tr>\n",
       "      <td>1</td>\n",
       "      <td>RandomForestClassifier</td>\n",
       "      <td>2 - tuned</td>\n",
       "      <td>0.762282</td>\n",
       "      <td>0.616065</td>\n",
       "      <td>0.791937</td>\n",
       "      <td>0.375207</td>\n",
       "      <td>0.910476</td>\n",
       "      <td>2412.0</td>\n",
       "      <td>6300.0</td>\n",
       "    </tr>\n",
       "    <tr>\n",
       "      <td>2</td>\n",
       "      <td>RandomForestClassifier</td>\n",
       "      <td>3 - tuned</td>\n",
       "      <td>0.956207</td>\n",
       "      <td>0.000000</td>\n",
       "      <td>1.000000</td>\n",
       "      <td>1.000000</td>\n",
       "      <td>0.956207</td>\n",
       "      <td>0.0</td>\n",
       "      <td>8700.0</td>\n",
       "    </tr>\n",
       "  </tbody>\n",
       "</table>\n",
       "</div>"
      ],
      "text/plain": [
       "                    model       fold  accuracy  precision (drunk)  \\\n",
       "0  RandomForestClassifier  1 - tuned  0.612948           0.605218   \n",
       "1  RandomForestClassifier  2 - tuned  0.762282           0.616065   \n",
       "2  RandomForestClassifier  3 - tuned  0.956207           0.000000   \n",
       "\n",
       "   precision (sober)  recall (drunk)  recall (sober) support (drunk)  \\\n",
       "0           0.616830        0.442409        0.756717          3985.0   \n",
       "1           0.791937        0.375207        0.910476          2412.0   \n",
       "2           1.000000        1.000000        0.956207             0.0   \n",
       "\n",
       "  support (sober)  \n",
       "0          4727.0  \n",
       "1          6300.0  \n",
       "2          8700.0  "
      ]
     },
     "execution_count": 87,
     "metadata": {},
     "output_type": "execute_result"
    }
   ],
   "source": [
    "forest_eval.set_value(2,'recall (drunk)',1)"
   ]
  },
  {
   "cell_type": "code",
   "execution_count": 90,
   "metadata": {},
   "outputs": [],
   "source": [
    "checkone = forest_eval.groupby('model', as_index = False).agg(np.mean)"
   ]
  },
  {
   "cell_type": "code",
   "execution_count": null,
   "metadata": {},
   "outputs": [],
   "source": [
    "#forest_eval.to_pickle('./forest_results.pkl')"
   ]
  },
  {
   "cell_type": "code",
   "execution_count": 7,
   "metadata": {
    "jupyter": {
     "source_hidden": true
    }
   },
   "outputs": [],
   "source": [
    "#tuned_forest_10 = pd.read_pickle('/Users/lolajohnston/Documents/GitHub/ML_project-master/forest_results.pkl')\n"
   ]
  },
  {
   "cell_type": "code",
   "execution_count": 89,
   "metadata": {
    "collapsed": true,
    "jupyter": {
     "outputs_hidden": true
    }
   },
   "outputs": [
    {
     "data": {
      "text/html": [
       "<div>\n",
       "<style scoped>\n",
       "    .dataframe tbody tr th:only-of-type {\n",
       "        vertical-align: middle;\n",
       "    }\n",
       "\n",
       "    .dataframe tbody tr th {\n",
       "        vertical-align: top;\n",
       "    }\n",
       "\n",
       "    .dataframe thead th {\n",
       "        text-align: right;\n",
       "    }\n",
       "</style>\n",
       "<table border=\"1\" class=\"dataframe\">\n",
       "  <thead>\n",
       "    <tr style=\"text-align: right;\">\n",
       "      <th></th>\n",
       "      <th>model</th>\n",
       "      <th>accuracy</th>\n",
       "      <th>precision (drunk)</th>\n",
       "      <th>precision (sober)</th>\n",
       "      <th>recall (drunk)</th>\n",
       "      <th>recall (sober)</th>\n",
       "    </tr>\n",
       "  </thead>\n",
       "  <tbody>\n",
       "    <tr>\n",
       "      <td>0</td>\n",
       "      <td>RandomForestClassifier</td>\n",
       "      <td>0.773896</td>\n",
       "      <td>0.395047</td>\n",
       "      <td>0.80619</td>\n",
       "      <td>0.629484</td>\n",
       "      <td>0.859633</td>\n",
       "    </tr>\n",
       "  </tbody>\n",
       "</table>\n",
       "</div>"
      ],
      "text/plain": [
       "                    model  accuracy  precision (drunk)  precision (sober)  \\\n",
       "0  RandomForestClassifier  0.773896           0.395047            0.80619   \n",
       "\n",
       "   recall (drunk)  recall (sober)  \n",
       "0        0.629484        0.859633  "
      ]
     },
     "execution_count": 89,
     "metadata": {},
     "output_type": "execute_result"
    }
   ],
   "source": [
    "tuned_forest_10.groupby('model', as_index = False).agg(np.mean)"
   ]
  },
  {
   "cell_type": "markdown",
   "metadata": {},
   "source": [
    "# TUNED RANDOM FOREST - 1/2 SEC"
   ]
  },
  {
   "cell_type": "code",
   "execution_count": 57,
   "metadata": {},
   "outputs": [
    {
     "name": "stdout",
     "output_type": "stream",
     "text": [
      "Fitting 3 folds for each of 4 candidates, totalling 12 fits\n"
     ]
    },
    {
     "name": "stderr",
     "output_type": "stream",
     "text": [
      "[Parallel(n_jobs=-1)]: Using backend LokyBackend with 4 concurrent workers.\n",
      "[Parallel(n_jobs=-1)]: Done  12 out of  12 | elapsed:  2.1min finished\n"
     ]
    }
   ],
   "source": [
    "model_name = 'RandomForestClassifier'\n",
    "fold = '1 - tuned HALF'\n",
    "\n",
    "n_estimators = [10, 20]\n",
    "max_depth = [10, 15]\n",
    "min_samples_split = [5]\n",
    "min_samples_leaf = [10] \n",
    "\n",
    "hyperF = dict(n_estimators = n_estimators, max_depth = max_depth,\n",
    "              min_samples_split = min_samples_split, \n",
    "             min_samples_leaf = min_samples_leaf)\n",
    "\n",
    "gridF = GridSearchCV(forest, hyperF, cv = 3, verbose = 1, \n",
    "                      n_jobs = -1)\n",
    "bestF = gridF.fit(X_train_p1f1, y_train_p1f1)"
   ]
  },
  {
   "cell_type": "code",
   "execution_count": 61,
   "metadata": {},
   "outputs": [],
   "source": [
    "y_pred= bestF.predict(X_test_p1f1)"
   ]
  },
  {
   "cell_type": "code",
   "execution_count": 62,
   "metadata": {},
   "outputs": [
    {
     "name": "stdout",
     "output_type": "stream",
     "text": [
      "['RandomForestClassifier' '1 - tuned HALF' '0.6060808835106503'\n",
      " '0.6016268941439009' '0.6081050134947248' '0.41095553615990754'\n",
      " '0.7705852480593642' '81347.0' '96489.0']\n"
     ]
    }
   ],
   "source": [
    "forest_tuned_half1 = eval_row\n",
    "print(forest_tuned_half1)"
   ]
  },
  {
   "cell_type": "code",
   "execution_count": 65,
   "metadata": {},
   "outputs": [
    {
     "name": "stdout",
     "output_type": "stream",
     "text": [
      "Fitting 3 folds for each of 4 candidates, totalling 12 fits\n"
     ]
    },
    {
     "name": "stderr",
     "output_type": "stream",
     "text": [
      "[Parallel(n_jobs=-1)]: Using backend LokyBackend with 4 concurrent workers.\n",
      "[Parallel(n_jobs=-1)]: Done  12 out of  12 | elapsed:  1.7min finished\n"
     ]
    }
   ],
   "source": [
    "model_name = 'RandomForestClassifier'\n",
    "fold = '2 - tuned HALF'\n",
    "\n",
    "n_estimators = [10, 20]\n",
    "max_depth = [10, 15]\n",
    "min_samples_split = [5]\n",
    "min_samples_leaf = [10] \n",
    "\n",
    "hyperF = dict(n_estimators = n_estimators, max_depth = max_depth,\n",
    "              min_samples_split = min_samples_split, \n",
    "             min_samples_leaf = min_samples_leaf)\n",
    "\n",
    "gridF = GridSearchCV(forest, hyperF, cv = 3, verbose = 1, \n",
    "                      n_jobs = -1)\n",
    "bestF = gridF.fit(X_train_p1f2, y_train_p1f2)"
   ]
  },
  {
   "cell_type": "code",
   "execution_count": 69,
   "metadata": {},
   "outputs": [],
   "source": [
    "pred= bestF.predict(X_test_p1f2)"
   ]
  },
  {
   "cell_type": "code",
   "execution_count": 70,
   "metadata": {},
   "outputs": [],
   "source": [
    "\n",
    "report = classification_report(y_test_p1f2, pred, output_dict = True)\n",
    "\n",
    "eval_df = pd.DataFrame(report).transpose()\n",
    "\n",
    "to_acc = eval_df['precision'].iloc[2]\n",
    "dr_pr = eval_df['precision'].iloc[1]\n",
    "so_pr = eval_df['precision'].iloc[0]\n",
    "dr_re = eval_df['recall'].iloc[1]\n",
    "so_re = eval_df['recall'].iloc[0]\n",
    "dr_su = eval_df['support'].iloc[1]\n",
    "so_su = eval_df['support'].iloc[0]\n",
    "    \n",
    "eval_row = np.array([model_name, fold, to_acc, dr_pr, so_pr, dr_re, so_re, dr_su, so_su])\n",
    "   "
   ]
  },
  {
   "cell_type": "code",
   "execution_count": 71,
   "metadata": {},
   "outputs": [
    {
     "name": "stdout",
     "output_type": "stream",
     "text": [
      "['RandomForestClassifier' '2 - tuned HALF' '0.7772666951573359'\n",
      " '0.6374129980236588' '0.8114299308019003' '0.45227111065948583'\n",
      " '0.9015867092691497' '49205.0' '128631.0']\n"
     ]
    }
   ],
   "source": [
    "forest_tuned_half2 = eval_row\n",
    "print(forest_tuned_half2)"
   ]
  },
  {
   "cell_type": "code",
   "execution_count": 72,
   "metadata": {},
   "outputs": [
    {
     "name": "stdout",
     "output_type": "stream",
     "text": [
      "Fitting 3 folds for each of 2 candidates, totalling 6 fits\n"
     ]
    },
    {
     "name": "stderr",
     "output_type": "stream",
     "text": [
      "[Parallel(n_jobs=-1)]: Using backend LokyBackend with 4 concurrent workers.\n",
      "[Parallel(n_jobs=-1)]: Done   6 out of   6 | elapsed:  1.0min remaining:    0.0s\n",
      "[Parallel(n_jobs=-1)]: Done   6 out of   6 | elapsed:  1.0min finished\n"
     ]
    }
   ],
   "source": [
    "model_name = 'RandomForestClassifier'\n",
    "fold = '3 - tuned HALF'\n",
    "\n",
    "\n",
    "n_estimators = [10, 20]\n",
    "max_depth = [15]\n",
    "min_samples_split = [2]\n",
    "min_samples_leaf = [5] \n",
    "\n",
    "hyperF = dict(n_estimators = n_estimators, max_depth = max_depth,  \n",
    "              min_samples_split = min_samples_split, \n",
    "             min_samples_leaf = min_samples_leaf)\n",
    "\n",
    "gridF = GridSearchCV(forest, hyperF, cv = 3, verbose = 1, \n",
    "                      n_jobs = -1)\n",
    "bestF = gridF.fit(X_train_p1f3, y_train_p1f3)"
   ]
  },
  {
   "cell_type": "code",
   "execution_count": 74,
   "metadata": {},
   "outputs": [],
   "source": [
    "y_pred= bestF.predict(X_test_p1f3)"
   ]
  },
  {
   "cell_type": "code",
   "execution_count": 75,
   "metadata": {},
   "outputs": [
    {
     "name": "stderr",
     "output_type": "stream",
     "text": [
      "/opt/anaconda3/lib/python3.7/site-packages/sklearn/metrics/classification.py:1439: UndefinedMetricWarning: Recall and F-score are ill-defined and being set to 0.0 in labels with no true samples.\n",
      "  'recall', 'true', average, warn_for)\n"
     ]
    }
   ],
   "source": [
    "\n",
    "report = classification_report(y_test_p1f3, y_pred, output_dict = True)\n",
    "\n",
    "eval_df = pd.DataFrame(report).transpose()\n",
    "\n",
    "to_acc = eval_df['precision'].iloc[2]\n",
    "dr_pr = eval_df['precision'].iloc[1]\n",
    "so_pr = eval_df['precision'].iloc[0]\n",
    "dr_re = eval_df['recall'].iloc[1]\n",
    "so_re = eval_df['recall'].iloc[0]\n",
    "dr_su = eval_df['support'].iloc[1]\n",
    "so_su = eval_df['support'].iloc[0]\n",
    "    \n",
    "eval_row = np.array([model_name, fold, to_acc, dr_pr, so_pr, dr_re, so_re, dr_su, so_su])\n",
    "   "
   ]
  },
  {
   "cell_type": "code",
   "execution_count": 76,
   "metadata": {},
   "outputs": [
    {
     "name": "stdout",
     "output_type": "stream",
     "text": [
      "['RandomForestClassifier' '3 - tuned HALF' '0.9380775143164427' '0.0'\n",
      " '1.0' '0.0' '0.9380775143164427' '0.0' '177593.0']\n"
     ]
    }
   ],
   "source": [
    "forest_tuned_half3 = eval_row\n",
    "print(forest_tuned_half3)"
   ]
  },
  {
   "cell_type": "code",
   "execution_count": 77,
   "metadata": {},
   "outputs": [],
   "source": [
    "forest_tuned_half = pd.DataFrame(columns = eval_col)"
   ]
  },
  {
   "cell_type": "code",
   "execution_count": 79,
   "metadata": {},
   "outputs": [],
   "source": [
    "forest_tuned_half = forest_tuned_half.append(pd.DataFrame([forest_tuned_half1, forest_tuned_half2,forest_tuned_half3],columns = eval_col))"
   ]
  },
  {
   "cell_type": "code",
   "execution_count": 80,
   "metadata": {},
   "outputs": [
    {
     "data": {
      "text/html": [
       "<div>\n",
       "<style scoped>\n",
       "    .dataframe tbody tr th:only-of-type {\n",
       "        vertical-align: middle;\n",
       "    }\n",
       "\n",
       "    .dataframe tbody tr th {\n",
       "        vertical-align: top;\n",
       "    }\n",
       "\n",
       "    .dataframe thead th {\n",
       "        text-align: right;\n",
       "    }\n",
       "</style>\n",
       "<table border=\"1\" class=\"dataframe\">\n",
       "  <thead>\n",
       "    <tr style=\"text-align: right;\">\n",
       "      <th></th>\n",
       "      <th>model</th>\n",
       "      <th>fold</th>\n",
       "      <th>accuracy</th>\n",
       "      <th>precision (drunk)</th>\n",
       "      <th>precision (sober)</th>\n",
       "      <th>recall (drunk)</th>\n",
       "      <th>recall (sober)</th>\n",
       "      <th>support (drunk)</th>\n",
       "      <th>support (sober)</th>\n",
       "    </tr>\n",
       "  </thead>\n",
       "  <tbody>\n",
       "    <tr>\n",
       "      <td>0</td>\n",
       "      <td>RandomForestClassifier</td>\n",
       "      <td>1 - tuned HALF</td>\n",
       "      <td>0.6060808835106503</td>\n",
       "      <td>0.6016268941439009</td>\n",
       "      <td>0.6081050134947248</td>\n",
       "      <td>0.41095553615990754</td>\n",
       "      <td>0.7705852480593642</td>\n",
       "      <td>81347.0</td>\n",
       "      <td>96489.0</td>\n",
       "    </tr>\n",
       "    <tr>\n",
       "      <td>1</td>\n",
       "      <td>RandomForestClassifier</td>\n",
       "      <td>2 - tuned HALF</td>\n",
       "      <td>0.7772666951573359</td>\n",
       "      <td>0.6374129980236588</td>\n",
       "      <td>0.8114299308019003</td>\n",
       "      <td>0.45227111065948583</td>\n",
       "      <td>0.9015867092691497</td>\n",
       "      <td>49205.0</td>\n",
       "      <td>128631.0</td>\n",
       "    </tr>\n",
       "    <tr>\n",
       "      <td>2</td>\n",
       "      <td>RandomForestClassifier</td>\n",
       "      <td>3 - tuned HALF</td>\n",
       "      <td>0.9380775143164427</td>\n",
       "      <td>0.0</td>\n",
       "      <td>1.0</td>\n",
       "      <td>0.0</td>\n",
       "      <td>0.9380775143164427</td>\n",
       "      <td>0.0</td>\n",
       "      <td>177593.0</td>\n",
       "    </tr>\n",
       "  </tbody>\n",
       "</table>\n",
       "</div>"
      ],
      "text/plain": [
       "                    model            fold            accuracy  \\\n",
       "0  RandomForestClassifier  1 - tuned HALF  0.6060808835106503   \n",
       "1  RandomForestClassifier  2 - tuned HALF  0.7772666951573359   \n",
       "2  RandomForestClassifier  3 - tuned HALF  0.9380775143164427   \n",
       "\n",
       "    precision (drunk)   precision (sober)       recall (drunk)  \\\n",
       "0  0.6016268941439009  0.6081050134947248  0.41095553615990754   \n",
       "1  0.6374129980236588  0.8114299308019003  0.45227111065948583   \n",
       "2                 0.0                 1.0                  0.0   \n",
       "\n",
       "       recall (sober) support (drunk) support (sober)  \n",
       "0  0.7705852480593642         81347.0         96489.0  \n",
       "1  0.9015867092691497         49205.0        128631.0  \n",
       "2  0.9380775143164427             0.0        177593.0  "
      ]
     },
     "execution_count": 80,
     "metadata": {},
     "output_type": "execute_result"
    }
   ],
   "source": [
    "forest_tuned_half"
   ]
  },
  {
   "cell_type": "code",
   "execution_count": 82,
   "metadata": {},
   "outputs": [
    {
     "name": "stderr",
     "output_type": "stream",
     "text": [
      "/opt/anaconda3/lib/python3.7/site-packages/ipykernel_launcher.py:1: FutureWarning: set_value is deprecated and will be removed in a future release. Please use .at[] or .iat[] accessors instead\n",
      "  \"\"\"Entry point for launching an IPython kernel.\n"
     ]
    },
    {
     "data": {
      "text/html": [
       "<div>\n",
       "<style scoped>\n",
       "    .dataframe tbody tr th:only-of-type {\n",
       "        vertical-align: middle;\n",
       "    }\n",
       "\n",
       "    .dataframe tbody tr th {\n",
       "        vertical-align: top;\n",
       "    }\n",
       "\n",
       "    .dataframe thead th {\n",
       "        text-align: right;\n",
       "    }\n",
       "</style>\n",
       "<table border=\"1\" class=\"dataframe\">\n",
       "  <thead>\n",
       "    <tr style=\"text-align: right;\">\n",
       "      <th></th>\n",
       "      <th>model</th>\n",
       "      <th>fold</th>\n",
       "      <th>accuracy</th>\n",
       "      <th>precision (drunk)</th>\n",
       "      <th>precision (sober)</th>\n",
       "      <th>recall (drunk)</th>\n",
       "      <th>recall (sober)</th>\n",
       "      <th>support (drunk)</th>\n",
       "      <th>support (sober)</th>\n",
       "    </tr>\n",
       "  </thead>\n",
       "  <tbody>\n",
       "    <tr>\n",
       "      <td>0</td>\n",
       "      <td>RandomForestClassifier</td>\n",
       "      <td>1 - tuned HALF</td>\n",
       "      <td>0.6060808835106503</td>\n",
       "      <td>0.6016268941439009</td>\n",
       "      <td>0.6081050134947248</td>\n",
       "      <td>0.41095553615990754</td>\n",
       "      <td>0.7705852480593642</td>\n",
       "      <td>81347.0</td>\n",
       "      <td>96489.0</td>\n",
       "    </tr>\n",
       "    <tr>\n",
       "      <td>1</td>\n",
       "      <td>RandomForestClassifier</td>\n",
       "      <td>2 - tuned HALF</td>\n",
       "      <td>0.7772666951573359</td>\n",
       "      <td>0.6374129980236588</td>\n",
       "      <td>0.8114299308019003</td>\n",
       "      <td>0.45227111065948583</td>\n",
       "      <td>0.9015867092691497</td>\n",
       "      <td>49205.0</td>\n",
       "      <td>128631.0</td>\n",
       "    </tr>\n",
       "    <tr>\n",
       "      <td>2</td>\n",
       "      <td>RandomForestClassifier</td>\n",
       "      <td>3 - tuned HALF</td>\n",
       "      <td>0.9380775143164427</td>\n",
       "      <td>0.0</td>\n",
       "      <td>1.0</td>\n",
       "      <td>1</td>\n",
       "      <td>0.9380775143164427</td>\n",
       "      <td>0.0</td>\n",
       "      <td>177593.0</td>\n",
       "    </tr>\n",
       "  </tbody>\n",
       "</table>\n",
       "</div>"
      ],
      "text/plain": [
       "                    model            fold            accuracy  \\\n",
       "0  RandomForestClassifier  1 - tuned HALF  0.6060808835106503   \n",
       "1  RandomForestClassifier  2 - tuned HALF  0.7772666951573359   \n",
       "2  RandomForestClassifier  3 - tuned HALF  0.9380775143164427   \n",
       "\n",
       "    precision (drunk)   precision (sober)       recall (drunk)  \\\n",
       "0  0.6016268941439009  0.6081050134947248  0.41095553615990754   \n",
       "1  0.6374129980236588  0.8114299308019003  0.45227111065948583   \n",
       "2                 0.0                 1.0                    1   \n",
       "\n",
       "       recall (sober) support (drunk) support (sober)  \n",
       "0  0.7705852480593642         81347.0         96489.0  \n",
       "1  0.9015867092691497         49205.0        128631.0  \n",
       "2  0.9380775143164427             0.0        177593.0  "
      ]
     },
     "execution_count": 82,
     "metadata": {},
     "output_type": "execute_result"
    }
   ],
   "source": [
    "forest_tuned_half.set_value(2, 'recall (drunk)', 1)"
   ]
  },
  {
   "cell_type": "code",
   "execution_count": 81,
   "metadata": {},
   "outputs": [],
   "source": [
    "forest_tuned_half.to_pickle('./forest_tuned_half_results.pkl')"
   ]
  },
  {
   "cell_type": "code",
   "execution_count": 83,
   "metadata": {},
   "outputs": [],
   "source": [
    "forest_tuned_half['accuracy'] = forest_tuned_half['accuracy'].astype(float).round(6)\n",
    "forest_tuned_half['precision (drunk)'] = forest_tuned_half['precision (drunk)'].astype(float).round(6)\n",
    "forest_tuned_half['precision (sober)'] = forest_tuned_half['precision (sober)'].astype(float).round(6)\n",
    "forest_tuned_half['recall (drunk)'] = forest_tuned_half['recall (drunk)'].astype(float).round(6)\n",
    "forest_tuned_half['recall (sober)'] = forest_tuned_half['recall (sober)'].astype(float).round(6)\n"
   ]
  },
  {
   "cell_type": "code",
   "execution_count": 84,
   "metadata": {},
   "outputs": [],
   "source": [
    "forest_tuned_half = forest_tuned_half.drop(['fold','support (sober)','support (drunk)'], axis = 1)"
   ]
  },
  {
   "cell_type": "code",
   "execution_count": 94,
   "metadata": {},
   "outputs": [],
   "source": [
    "checktwo = forest_tuned_half.groupby('model', as_index = False).agg(np.mean)"
   ]
  },
  {
   "cell_type": "code",
   "execution_count": 93,
   "metadata": {},
   "outputs": [
    {
     "data": {
      "text/html": [
       "<div>\n",
       "<style scoped>\n",
       "    .dataframe tbody tr th:only-of-type {\n",
       "        vertical-align: middle;\n",
       "    }\n",
       "\n",
       "    .dataframe tbody tr th {\n",
       "        vertical-align: top;\n",
       "    }\n",
       "\n",
       "    .dataframe thead th {\n",
       "        text-align: right;\n",
       "    }\n",
       "</style>\n",
       "<table border=\"1\" class=\"dataframe\">\n",
       "  <thead>\n",
       "    <tr style=\"text-align: right;\">\n",
       "      <th></th>\n",
       "      <th>model</th>\n",
       "      <th>accuracy</th>\n",
       "      <th>precision (drunk)</th>\n",
       "      <th>precision (sober)</th>\n",
       "      <th>recall (drunk)</th>\n",
       "      <th>recall (sober)</th>\n",
       "    </tr>\n",
       "  </thead>\n",
       "  <tbody>\n",
       "    <tr>\n",
       "      <td>0</td>\n",
       "      <td>RandomForestClassifier</td>\n",
       "      <td>0.777146</td>\n",
       "      <td>0.407094</td>\n",
       "      <td>0.802922</td>\n",
       "      <td>0.605872</td>\n",
       "      <td>0.874467</td>\n",
       "    </tr>\n",
       "  </tbody>\n",
       "</table>\n",
       "</div>"
      ],
      "text/plain": [
       "                    model  accuracy  precision (drunk)  precision (sober)  \\\n",
       "0  RandomForestClassifier  0.777146           0.407094           0.802922   \n",
       "\n",
       "   recall (drunk)  recall (sober)  \n",
       "0        0.605872        0.874467  "
      ]
     },
     "execution_count": 93,
     "metadata": {},
     "output_type": "execute_result"
    }
   ],
   "source": [
    "checkone"
   ]
  },
  {
   "cell_type": "code",
   "execution_count": 95,
   "metadata": {},
   "outputs": [
    {
     "data": {
      "text/html": [
       "<div>\n",
       "<style scoped>\n",
       "    .dataframe tbody tr th:only-of-type {\n",
       "        vertical-align: middle;\n",
       "    }\n",
       "\n",
       "    .dataframe tbody tr th {\n",
       "        vertical-align: top;\n",
       "    }\n",
       "\n",
       "    .dataframe thead th {\n",
       "        text-align: right;\n",
       "    }\n",
       "</style>\n",
       "<table border=\"1\" class=\"dataframe\">\n",
       "  <thead>\n",
       "    <tr style=\"text-align: right;\">\n",
       "      <th></th>\n",
       "      <th>model</th>\n",
       "      <th>accuracy</th>\n",
       "      <th>precision (drunk)</th>\n",
       "      <th>precision (sober)</th>\n",
       "      <th>recall (drunk)</th>\n",
       "      <th>recall (sober)</th>\n",
       "    </tr>\n",
       "  </thead>\n",
       "  <tbody>\n",
       "    <tr>\n",
       "      <td>0</td>\n",
       "      <td>RandomForestClassifier</td>\n",
       "      <td>0.773809</td>\n",
       "      <td>0.413013</td>\n",
       "      <td>0.806512</td>\n",
       "      <td>0.621076</td>\n",
       "      <td>0.870083</td>\n",
       "    </tr>\n",
       "  </tbody>\n",
       "</table>\n",
       "</div>"
      ],
      "text/plain": [
       "                    model  accuracy  precision (drunk)  precision (sober)  \\\n",
       "0  RandomForestClassifier  0.773809           0.413013           0.806512   \n",
       "\n",
       "   recall (drunk)  recall (sober)  \n",
       "0        0.621076        0.870083  "
      ]
     },
     "execution_count": 95,
     "metadata": {},
     "output_type": "execute_result"
    }
   ],
   "source": [
    "checktwo"
   ]
  },
  {
   "cell_type": "code",
   "execution_count": null,
   "metadata": {},
   "outputs": [],
   "source": []
  }
 ],
 "metadata": {
  "kernelspec": {
   "display_name": "Python 3",
   "language": "python",
   "name": "python3"
  },
  "language_info": {
   "codemirror_mode": {
    "name": "ipython",
    "version": 3
   },
   "file_extension": ".py",
   "mimetype": "text/x-python",
   "name": "python",
   "nbconvert_exporter": "python",
   "pygments_lexer": "ipython3",
   "version": "3.7.4"
  }
 },
 "nbformat": 4,
 "nbformat_minor": 4
}
