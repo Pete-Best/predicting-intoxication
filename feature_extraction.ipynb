{
 "cells": [
  {
   "cell_type": "code",
   "execution_count": 1,
   "metadata": {
    "collapsed": true
   },
   "outputs": [
    {
     "name": "stdout",
     "output_type": "stream",
     "text": [
      "Collecting pyAudioAnalysis\n",
      "  Downloading pyAudioAnalysis-0.3.4.tar.gz (41.2 MB)\n",
      "Building wheels for collected packages: pyAudioAnalysis\n",
      "  Building wheel for pyAudioAnalysis (setup.py): started\n",
      "  Building wheel for pyAudioAnalysis (setup.py): finished with status 'done'\n",
      "  Created wheel for pyAudioAnalysis: filename=pyAudioAnalysis-0.3.4-py3-none-any.whl size=41160934 sha256=0c27607e215f20be7258a213663232bbef8e3972dce93e865a968902c56240af\n",
      "  Stored in directory: c:\\users\\peter\\appdata\\local\\pip\\cache\\wheels\\f6\\a9\\31\\905e34d3a445482bc61a947a155ee304850d5608bc80c73c5e\n",
      "Successfully built pyAudioAnalysis\n",
      "Installing collected packages: pyAudioAnalysis\n",
      "Successfully installed pyAudioAnalysis-0.3.4\n"
     ]
    }
   ],
   "source": [
    "!pip install pyAudioAnalysis"
   ]
  },
  {
   "cell_type": "code",
   "execution_count": 2,
   "metadata": {
    "collapsed": true
   },
   "outputs": [
    {
     "name": "stdout",
     "output_type": "stream",
     "text": [
      "Collecting ffmpeg\n",
      "  Downloading ffmpeg-1.4.tar.gz (5.1 kB)\n",
      "Building wheels for collected packages: ffmpeg\n",
      "  Building wheel for ffmpeg (setup.py): started\n",
      "  Building wheel for ffmpeg (setup.py): finished with status 'done'\n",
      "  Created wheel for ffmpeg: filename=ffmpeg-1.4-py3-none-any.whl size=6086 sha256=d7b676754c598f9181bc2e69e3a7766dc543cda26e79e6763b7968c9a5748c34\n",
      "  Stored in directory: c:\\users\\peter\\appdata\\local\\pip\\cache\\wheels\\64\\80\\6e\\caa3e16deb0267c3cbfd36862058a724144e19fdb9eb03af0f\n",
      "Successfully built ffmpeg\n",
      "Installing collected packages: ffmpeg\n",
      "Successfully installed ffmpeg-1.4\n"
     ]
    }
   ],
   "source": [
    "!pip install ffmpeg"
   ]
  },
  {
   "cell_type": "code",
   "execution_count": 4,
   "metadata": {
    "collapsed": true
   },
   "outputs": [
    {
     "name": "stdout",
     "output_type": "stream",
     "text": [
      "Collecting python-magic\n",
      "  Using cached python_magic-0.4.18-py2.py3-none-any.whl (8.6 kB)\n",
      "Installing collected packages: python-magic\n",
      "Successfully installed python-magic-0.4.18\n"
     ]
    }
   ],
   "source": [
    "!pip install python-magic"
   ]
  },
  {
   "cell_type": "code",
   "execution_count": null,
   "metadata": {},
   "outputs": [],
   "source": [
    "!pip install librosa"
   ]
  },
  {
   "cell_type": "code",
   "execution_count": 6,
   "metadata": {},
   "outputs": [],
   "source": [
    "import pandas as pd\n",
    "import numpy as np\n",
    "from datetime import datetime\n",
    "import scipy\n",
    "from pyAudioAnalysis import audioBasicIO #don't really need pyaudioanalysis\n",
    "from pyAudioAnalysis import ShortTermFeatures\n",
    "import matplotlib.pyplot as plt\n",
    "import librosa"
   ]
  },
  {
   "cell_type": "code",
   "execution_count": 28,
   "metadata": {},
   "outputs": [
    {
     "data": {
      "image/png": "[encoded data removed]",
      "text/plain": [
       "<Figure size 432x288 with 2 Axes>"
      ]
     },
     "metadata": {
      "needs_background": "light"
     },
     "output_type": "display_data"
    }
   ],
   "source": [
    "F, f_names = ShortTermFeatures.feature_extraction(x, Fs, 0.050*Fs, 0.025*Fs)\n",
    "plt.subplot(2,1,1); plt.plot(F[0,:]); plt.xlabel('Frame no'); plt.ylabel(f_names[0]) \n",
    "plt.subplot(2,1,2); plt.plot(F[1,:]); plt.xlabel('Frame no'); plt.ylabel(f_names[1]); plt.show()"
   ]
  },
  {
   "cell_type": "code",
   "execution_count": 184,
   "metadata": {},
   "outputs": [
    {
     "data": {
      "text/plain": [
       "array([1617.7356  ,    9.504004,    9.501856,    9.498279,    9.493274,\n",
       "          9.486832,    9.478965,    9.469671,    9.458947,    9.446806,\n",
       "          9.433239,    9.418251,    9.401849,    9.384023,    9.364787,\n",
       "          9.344141,    9.3221  ,    9.298632,    9.273774,    9.24752 ],\n",
       "      dtype=float32)"
      ]
     },
     "execution_count": 184,
     "metadata": {},
     "output_type": "execute_result"
    }
   ],
   "source": [
    "mfcc_y[1142]"
   ]
  },
  {
   "cell_type": "code",
   "execution_count": 133,
   "metadata": {},
   "outputs": [
    {
     "data": {
      "text/plain": [
       "1177748"
      ]
     },
     "execution_count": 133,
     "metadata": {},
     "output_type": "execute_result"
    }
   ],
   "source": [
    "len(np.array(dummy['x']))"
   ]
  },
  {
   "cell_type": "code",
   "execution_count": 132,
   "metadata": {},
   "outputs": [
    {
     "data": {
      "text/plain": [
       "1177748"
      ]
     },
     "execution_count": 132,
     "metadata": {},
     "output_type": "execute_result"
    }
   ],
   "source": [
    "len(np.array(dummy['z']))"
   ]
  },
  {
   "cell_type": "markdown",
   "metadata": {},
   "source": [
    "covariance:\n",
    "\n",
    "6 combinations:\n",
    "X X\n",
    "X Y\n",
    "X Z\n",
    "Y Y\n",
    "Z Z\n",
    "Y Z"
   ]
  },
  {
   "cell_type": "code",
   "execution_count": null,
   "metadata": {},
   "outputs": [],
   "source": [
    "#how merge_asof works: essentially a left join\n",
    "right = pd.DataFrame({'a': [1, 5, 10], 'left_val': ['a', 'b', 'c']})\n",
    "left = pd.DataFrame({'a': [1, 2, 3, 6, 7],\n",
    "                      'right_val': [1, 2, 3, 6, 7]})\n",
    "pd.merge_asof(left, right, on='a', direction = 'nearest')"
   ]
  },
  {
   "cell_type": "code",
   "execution_count": 337,
   "metadata": {},
   "outputs": [
    {
     "data": {
      "text/plain": [
       "(2301, 20)"
      ]
     },
     "execution_count": 337,
     "metadata": {},
     "output_type": "execute_result"
    }
   ],
   "source": [
    "mfcc_x.shape"
   ]
  },
  {
   "cell_type": "code",
   "execution_count": 338,
   "metadata": {},
   "outputs": [
    {
     "name": "stdout",
     "output_type": "stream",
     "text": [
      "[ 11824.1816815   38229.63696712 129335.25478723]\n",
      "[ 4.8180322e+02  9.6060875e+01  2.2163577e+00 -3.4836602e+00\n",
      " -7.6950169e+00 -7.3327274e+00  5.9715122e-02 -4.0648327e+00\n",
      " -8.5183537e-01  2.8544383e+00 -2.9366438e+00  2.1930202e+01\n",
      "  2.8203611e+01  1.6050758e+00  1.8779637e+00 -1.7232039e+00\n",
      "  2.2548590e+00  2.4042110e+00 -2.6607952e+00 -6.9043326e+00]\n",
      "[1617.7356      9.504004    9.501856    9.498279    9.493274    9.486832\n",
      "    9.478965    9.469671    9.458947    9.446806    9.433239    9.418251\n",
      "    9.401849    9.384023    9.364787    9.344141    9.3221      9.298632\n",
      "    9.273774    9.24752 ]\n",
      "[1617.7356      9.504004    9.501856    9.498279    9.493274    9.486832\n",
      "    9.478965    9.469671    9.458947    9.446806    9.433239    9.418251\n",
      "    9.401849    9.384023    9.364787    9.344141    9.3221      9.298632\n",
      "    9.273774    9.24752 ]\n"
     ]
    },
    {
     "data": {
      "text/plain": [
       "[array([[11824.1816815, 11824.1816815],\n",
       "        [11824.1816815, 11824.1816815]]),\n",
       " array([[ 11824.1816815 ,  38229.63696712],\n",
       "        [ 38229.63696712, 129335.25478723]]),\n",
       " array([[ 11824.1816815 ,  38229.63696712],\n",
       "        [ 38229.63696712, 129335.25478723]]),\n",
       " array([[129335.25478723, 129335.25478723],\n",
       "        [129335.25478723, 129335.25478723]]),\n",
       " array([[129335.25478723, 129335.25478723],\n",
       "        [129335.25478723, 129335.25478723]]),\n",
       " array([[129335.25478723, 129335.25478723],\n",
       "        [129335.25478723, 129335.25478723]])]"
      ]
     },
     "execution_count": 338,
     "metadata": {},
     "output_type": "execute_result"
    }
   ],
   "source": [
    "#this doesn't really mean anything, just use the raw mfcc values\n",
    "i = 1120\n",
    "xx = numpy.cov(mfcc_x[i],mfcc_x[i])\n",
    "xy = numpy.cov(mfcc_x[i],mfcc_y[i])\n",
    "xz = numpy.cov(mfcc_x[i],mfcc_z[i])\n",
    "yy = numpy.cov(mfcc_y[i],mfcc_y[i])\n",
    "zz = numpy.cov(mfcc_z[i],mfcc_z[i])\n",
    "yz = numpy.cov(mfcc_y[i],mfcc_z[i])\n",
    "\n",
    "print(np.unique(np.array([xx,xy,xz,yy,zz,yz])))\n",
    "\n",
    "print(mfcc_x[i])\n",
    "print(mfcc_y[i])\n",
    "print(mfcc_z[i])\n",
    "\n",
    "[xx,xy,xz,yy,zz,yz]"
   ]
  },
  {
   "cell_type": "code",
   "execution_count": 99,
   "metadata": {},
   "outputs": [
    {
     "data": {
      "text/plain": [
       "array([  1871.3346843 ,  13928.80987948, 129768.44920543])"
      ]
     },
     "execution_count": 99,
     "metadata": {},
     "output_type": "execute_result"
    }
   ],
   "source": [
    "np.unique(np.arraynumpy.cov(mfcc_x[0],mfcc_y[0]))"
   ]
  },
  {
   "cell_type": "code",
   "execution_count": 82,
   "metadata": {},
   "outputs": [
    {
     "data": {
      "text/plain": [
       "20"
      ]
     },
     "execution_count": 82,
     "metadata": {},
     "output_type": "execute_result"
    }
   ],
   "source": [
    "len(mfcc[0])"
   ]
  },
  {
   "cell_type": "code",
   "execution_count": 58,
   "metadata": {
    "collapsed": true
   },
   "outputs": [
    {
     "data": {
      "text/plain": [
       "(array([[ 1.00200401e-02,  0.00000000e+00,  0.00000000e+00, ...,\n",
       "          2.96593186e-01,  2.86573146e-01,  2.48496994e-01],\n",
       "        [ 1.09568086e-04,  9.93730690e-06,  1.18593335e-05, ...,\n",
       "          4.14436583e-05,  1.70556968e-04,  1.98719511e-04],\n",
       "        [ 5.67684071e-01,  3.26405840e+00,  3.32087331e+00, ...,\n",
       "          2.61296607e+00,  1.59050513e+00,  2.09756619e+00],\n",
       "        ...,\n",
       "        [ 0.00000000e+00, -4.44823262e-02, -5.68914087e-05, ...,\n",
       "         -1.35077170e-02,  1.03252774e-02, -6.69548704e-03],\n",
       "        [ 0.00000000e+00, -1.31814561e-03, -8.32165241e-06, ...,\n",
       "          5.56672170e-03, -3.89243928e-03, -9.96017744e-04],\n",
       "        [ 0.00000000e+00,  1.74909660e-02,  9.30680352e-04, ...,\n",
       "         -1.92838833e-03, -5.92487500e-04, -1.29502064e-03]]),\n",
       " ['zcr',\n",
       "  'energy',\n",
       "  'energy_entropy',\n",
       "  'spectral_centroid',\n",
       "  'spectral_spread',\n",
       "  'spectral_entropy',\n",
       "  'spectral_flux',\n",
       "  'spectral_rolloff',\n",
       "  'mfcc_1',\n",
       "  'mfcc_2',\n",
       "  'mfcc_3',\n",
       "  'mfcc_4',\n",
       "  'mfcc_5',\n",
       "  'mfcc_6',\n",
       "  'mfcc_7',\n",
       "  'mfcc_8',\n",
       "  'mfcc_9',\n",
       "  'mfcc_10',\n",
       "  'mfcc_11',\n",
       "  'mfcc_12',\n",
       "  'mfcc_13',\n",
       "  'chroma_1',\n",
       "  'chroma_2',\n",
       "  'chroma_3',\n",
       "  'chroma_4',\n",
       "  'chroma_5',\n",
       "  'chroma_6',\n",
       "  'chroma_7',\n",
       "  'chroma_8',\n",
       "  'chroma_9',\n",
       "  'chroma_10',\n",
       "  'chroma_11',\n",
       "  'chroma_12',\n",
       "  'chroma_std',\n",
       "  'delta zcr',\n",
       "  'delta energy',\n",
       "  'delta energy_entropy',\n",
       "  'delta spectral_centroid',\n",
       "  'delta spectral_spread',\n",
       "  'delta spectral_entropy',\n",
       "  'delta spectral_flux',\n",
       "  'delta spectral_rolloff',\n",
       "  'delta mfcc_1',\n",
       "  'delta mfcc_2',\n",
       "  'delta mfcc_3',\n",
       "  'delta mfcc_4',\n",
       "  'delta mfcc_5',\n",
       "  'delta mfcc_6',\n",
       "  'delta mfcc_7',\n",
       "  'delta mfcc_8',\n",
       "  'delta mfcc_9',\n",
       "  'delta mfcc_10',\n",
       "  'delta mfcc_11',\n",
       "  'delta mfcc_12',\n",
       "  'delta mfcc_13',\n",
       "  'delta chroma_1',\n",
       "  'delta chroma_2',\n",
       "  'delta chroma_3',\n",
       "  'delta chroma_4',\n",
       "  'delta chroma_5',\n",
       "  'delta chroma_6',\n",
       "  'delta chroma_7',\n",
       "  'delta chroma_8',\n",
       "  'delta chroma_9',\n",
       "  'delta chroma_10',\n",
       "  'delta chroma_11',\n",
       "  'delta chroma_12',\n",
       "  'delta chroma_std'])"
      ]
     },
     "execution_count": 58,
     "metadata": {},
     "output_type": "execute_result"
    }
   ],
   "source": [
    "#true sampling rate is 40hz, but pyaudioanalysis wont take anything less than 10000\n",
    "Fsamp = 10000\n",
    "ShortTermFeatures.feature_extraction(np.array(dummy['x']), Fsamp, 0.050*Fsamp, 0.025*Fsamp)"
   ]
  },
  {
   "cell_type": "code",
   "execution_count": 27,
   "metadata": {},
   "outputs": [],
   "source": [
    "[Fs, x] = audioBasicIO.read_audio_file('scottish.wav')"
   ]
  },
  {
   "cell_type": "code",
   "execution_count": 51,
   "metadata": {},
   "outputs": [
    {
     "data": {
      "text/plain": [
       "16000"
      ]
     },
     "execution_count": 51,
     "metadata": {},
     "output_type": "execute_result"
    }
   ],
   "source": [
    "Fs"
   ]
  },
  {
   "cell_type": "code",
   "execution_count": 430,
   "metadata": {},
   "outputs": [],
   "source": [
    "original = pd.read_pickle('joined.pkl')"
   ]
  },
  {
   "cell_type": "code",
   "execution_count": 431,
   "metadata": {},
   "outputs": [],
   "source": [
    "ids = original.pid.unique()\n",
    "\n",
    "dummy = original[original['pid'] == ids[0]]\n",
    "\n",
    "df = original"
   ]
  },
  {
   "cell_type": "code",
   "execution_count": 220,
   "metadata": {},
   "outputs": [
    {
     "name": "stdout",
     "output_type": "stream",
     "text": [
      "1493739732016\n",
      "1493739733023\n",
      "1493739733043\n",
      "1493739734049\n",
      "1493739734070\n",
      "1493739735083\n",
      "1493739735103\n",
      "1493739736097\n"
     ]
    }
   ],
   "source": [
    "#51 rows ~ 1 second, where time is in milliseconds\n",
    "\n",
    "print(dummy['time'].iloc[0])\n",
    "print(dummy['time'].iloc[50])\n",
    "\n",
    "print(dummy['time'].iloc[51])\n",
    "print(dummy['time'].iloc[101])\n",
    "\n",
    "print(dummy['time'].iloc[102])\n",
    "print(dummy['time'].iloc[152])\n",
    "\n",
    "print(dummy['time'].iloc[153])\n",
    "print(dummy['time'].iloc[203])"
   ]
  },
  {
   "cell_type": "code",
   "execution_count": 462,
   "metadata": {},
   "outputs": [],
   "source": [
    "#calculate mfcc for each pid\n",
    "\n",
    "start = datetime.now()\n",
    "\n",
    "mfcc_df = pd.DataFrame(columns = (mfcc(df, ids[0])).columns)\n",
    "\n",
    "for i in range(len(ids)):\n",
    "    mfcc_df = mfcc_df.append(mfcc(df,ids[i]))\n",
    "    \n",
    "df = mfcc_df\n",
    "    \n",
    "end = datetime.now()\n",
    "\n",
    "end - start"
   ]
  },
  {
   "cell_type": "code",
   "execution_count": 465,
   "metadata": {},
   "outputs": [],
   "source": [
    "#calculate rms for x, y, and z for each pid\n",
    "\n",
    "start = datetime.now()\n",
    "\n",
    "rms_df = pd.DataFrame(columns = (rms(df, ids[0])).columns)\n",
    "\n",
    "for i in range(len(ids)):\n",
    "    rms_df = rms_df.append(rms(df,ids[i]))\n",
    "    \n",
    "df = rms_df\n",
    "    \n",
    "end = datetime.now()\n",
    "\n",
    "end - start"
   ]
  },
  {
   "cell_type": "code",
   "execution_count": 467,
   "metadata": {},
   "outputs": [
    {
     "ename": "MemoryError",
     "evalue": "Unable to allocate 5.69 GiB for an array with shape (81, 9424032) and data type float64",
     "output_type": "error",
     "traceback": [
      "\u001b[1;31m---------------------------------------------------------------------------\u001b[0m",
      "\u001b[1;31mMemoryError\u001b[0m                               Traceback (most recent call last)",
      "\u001b[1;32m<ipython-input-467-196400d3e7bc>\u001b[0m in \u001b[0;36m<module>\u001b[1;34m\u001b[0m\n\u001b[0;32m      9\u001b[0m \u001b[1;33m\u001b[0m\u001b[0m\n\u001b[0;32m     10\u001b[0m     \u001b[1;32mfor\u001b[0m \u001b[0mi\u001b[0m \u001b[1;32min\u001b[0m \u001b[0mrange\u001b[0m\u001b[1;33m(\u001b[0m\u001b[0mlen\u001b[0m\u001b[1;33m(\u001b[0m\u001b[0mids\u001b[0m\u001b[1;33m)\u001b[0m\u001b[1;33m)\u001b[0m\u001b[1;33m:\u001b[0m\u001b[1;33m\u001b[0m\u001b[1;33m\u001b[0m\u001b[0m\n\u001b[1;32m---> 11\u001b[1;33m         \u001b[0mextract_df\u001b[0m \u001b[1;33m=\u001b[0m \u001b[0mextract_df\u001b[0m\u001b[1;33m.\u001b[0m\u001b[0mappend\u001b[0m\u001b[1;33m(\u001b[0m\u001b[0mextract\u001b[0m\u001b[1;33m(\u001b[0m\u001b[0mdf\u001b[0m\u001b[1;33m,\u001b[0m\u001b[0mids\u001b[0m\u001b[1;33m[\u001b[0m\u001b[0mi\u001b[0m\u001b[1;33m]\u001b[0m\u001b[1;33m,\u001b[0m \u001b[0mii\u001b[0m\u001b[1;33m)\u001b[0m\u001b[1;33m)\u001b[0m\u001b[1;33m\u001b[0m\u001b[1;33m\u001b[0m\u001b[0m\n\u001b[0m\u001b[0;32m     12\u001b[0m \u001b[1;33m\u001b[0m\u001b[0m\n\u001b[0;32m     13\u001b[0m     \u001b[0mdf\u001b[0m \u001b[1;33m=\u001b[0m \u001b[0mextract_df\u001b[0m\u001b[1;33m\u001b[0m\u001b[1;33m\u001b[0m\u001b[0m\n",
      "\u001b[1;32m~\\Anaconda3\\lib\\site-packages\\pandas\\core\\frame.py\u001b[0m in \u001b[0;36mappend\u001b[1;34m(self, other, ignore_index, verify_integrity, sort)\u001b[0m\n\u001b[0;32m   7083\u001b[0m             \u001b[0mignore_index\u001b[0m\u001b[1;33m=\u001b[0m\u001b[0mignore_index\u001b[0m\u001b[1;33m,\u001b[0m\u001b[1;33m\u001b[0m\u001b[1;33m\u001b[0m\u001b[0m\n\u001b[0;32m   7084\u001b[0m             \u001b[0mverify_integrity\u001b[0m\u001b[1;33m=\u001b[0m\u001b[0mverify_integrity\u001b[0m\u001b[1;33m,\u001b[0m\u001b[1;33m\u001b[0m\u001b[1;33m\u001b[0m\u001b[0m\n\u001b[1;32m-> 7085\u001b[1;33m             \u001b[0msort\u001b[0m\u001b[1;33m=\u001b[0m\u001b[0msort\u001b[0m\u001b[1;33m,\u001b[0m\u001b[1;33m\u001b[0m\u001b[1;33m\u001b[0m\u001b[0m\n\u001b[0m\u001b[0;32m   7086\u001b[0m         )\n\u001b[0;32m   7087\u001b[0m \u001b[1;33m\u001b[0m\u001b[0m\n",
      "\u001b[1;32m~\\Anaconda3\\lib\\site-packages\\pandas\\core\\reshape\\concat.py\u001b[0m in \u001b[0;36mconcat\u001b[1;34m(objs, axis, join, ignore_index, keys, levels, names, verify_integrity, sort, copy)\u001b[0m\n\u001b[0;32m    282\u001b[0m     )\n\u001b[0;32m    283\u001b[0m \u001b[1;33m\u001b[0m\u001b[0m\n\u001b[1;32m--> 284\u001b[1;33m     \u001b[1;32mreturn\u001b[0m \u001b[0mop\u001b[0m\u001b[1;33m.\u001b[0m\u001b[0mget_result\u001b[0m\u001b[1;33m(\u001b[0m\u001b[1;33m)\u001b[0m\u001b[1;33m\u001b[0m\u001b[1;33m\u001b[0m\u001b[0m\n\u001b[0m\u001b[0;32m    285\u001b[0m \u001b[1;33m\u001b[0m\u001b[0m\n\u001b[0;32m    286\u001b[0m \u001b[1;33m\u001b[0m\u001b[0m\n",
      "\u001b[1;32m~\\Anaconda3\\lib\\site-packages\\pandas\\core\\reshape\\concat.py\u001b[0m in \u001b[0;36mget_result\u001b[1;34m(self)\u001b[0m\n\u001b[0;32m    495\u001b[0m \u001b[1;33m\u001b[0m\u001b[0m\n\u001b[0;32m    496\u001b[0m             new_data = concatenate_block_managers(\n\u001b[1;32m--> 497\u001b[1;33m                 \u001b[0mmgrs_indexers\u001b[0m\u001b[1;33m,\u001b[0m \u001b[0mself\u001b[0m\u001b[1;33m.\u001b[0m\u001b[0mnew_axes\u001b[0m\u001b[1;33m,\u001b[0m \u001b[0mconcat_axis\u001b[0m\u001b[1;33m=\u001b[0m\u001b[0mself\u001b[0m\u001b[1;33m.\u001b[0m\u001b[0maxis\u001b[0m\u001b[1;33m,\u001b[0m \u001b[0mcopy\u001b[0m\u001b[1;33m=\u001b[0m\u001b[0mself\u001b[0m\u001b[1;33m.\u001b[0m\u001b[0mcopy\u001b[0m\u001b[1;33m\u001b[0m\u001b[1;33m\u001b[0m\u001b[0m\n\u001b[0m\u001b[0;32m    498\u001b[0m             )\n\u001b[0;32m    499\u001b[0m             \u001b[1;32mif\u001b[0m \u001b[1;32mnot\u001b[0m \u001b[0mself\u001b[0m\u001b[1;33m.\u001b[0m\u001b[0mcopy\u001b[0m\u001b[1;33m:\u001b[0m\u001b[1;33m\u001b[0m\u001b[1;33m\u001b[0m\u001b[0m\n",
      "\u001b[1;32m~\\Anaconda3\\lib\\site-packages\\pandas\\core\\internals\\managers.py\u001b[0m in \u001b[0;36mconcatenate_block_managers\u001b[1;34m(mgrs_indexers, axes, concat_axis, copy)\u001b[0m\n\u001b[0;32m   2020\u001b[0m         \u001b[1;32melse\u001b[0m\u001b[1;33m:\u001b[0m\u001b[1;33m\u001b[0m\u001b[1;33m\u001b[0m\u001b[0m\n\u001b[0;32m   2021\u001b[0m             b = make_block(\n\u001b[1;32m-> 2022\u001b[1;33m                 \u001b[0mconcatenate_join_units\u001b[0m\u001b[1;33m(\u001b[0m\u001b[0mjoin_units\u001b[0m\u001b[1;33m,\u001b[0m \u001b[0mconcat_axis\u001b[0m\u001b[1;33m,\u001b[0m \u001b[0mcopy\u001b[0m\u001b[1;33m=\u001b[0m\u001b[0mcopy\u001b[0m\u001b[1;33m)\u001b[0m\u001b[1;33m,\u001b[0m\u001b[1;33m\u001b[0m\u001b[1;33m\u001b[0m\u001b[0m\n\u001b[0m\u001b[0;32m   2023\u001b[0m                 \u001b[0mplacement\u001b[0m\u001b[1;33m=\u001b[0m\u001b[0mplacement\u001b[0m\u001b[1;33m,\u001b[0m\u001b[1;33m\u001b[0m\u001b[1;33m\u001b[0m\u001b[0m\n\u001b[0;32m   2024\u001b[0m             )\n",
      "\u001b[1;32m~\\Anaconda3\\lib\\site-packages\\pandas\\core\\internals\\concat.py\u001b[0m in \u001b[0;36mconcatenate_join_units\u001b[1;34m(join_units, concat_axis, copy)\u001b[0m\n\u001b[0;32m    261\u001b[0m                 \u001b[0mconcat_values\u001b[0m \u001b[1;33m=\u001b[0m \u001b[0mconcat_values\u001b[0m\u001b[1;33m.\u001b[0m\u001b[0mcopy\u001b[0m\u001b[1;33m(\u001b[0m\u001b[1;33m)\u001b[0m\u001b[1;33m\u001b[0m\u001b[1;33m\u001b[0m\u001b[0m\n\u001b[0;32m    262\u001b[0m     \u001b[1;32melse\u001b[0m\u001b[1;33m:\u001b[0m\u001b[1;33m\u001b[0m\u001b[1;33m\u001b[0m\u001b[0m\n\u001b[1;32m--> 263\u001b[1;33m         \u001b[0mconcat_values\u001b[0m \u001b[1;33m=\u001b[0m \u001b[0mconcat_compat\u001b[0m\u001b[1;33m(\u001b[0m\u001b[0mto_concat\u001b[0m\u001b[1;33m,\u001b[0m \u001b[0maxis\u001b[0m\u001b[1;33m=\u001b[0m\u001b[0mconcat_axis\u001b[0m\u001b[1;33m)\u001b[0m\u001b[1;33m\u001b[0m\u001b[1;33m\u001b[0m\u001b[0m\n\u001b[0m\u001b[0;32m    264\u001b[0m \u001b[1;33m\u001b[0m\u001b[0m\n\u001b[0;32m    265\u001b[0m     \u001b[1;32mreturn\u001b[0m \u001b[0mconcat_values\u001b[0m\u001b[1;33m\u001b[0m\u001b[1;33m\u001b[0m\u001b[0m\n",
      "\u001b[1;32m~\\Anaconda3\\lib\\site-packages\\pandas\\core\\dtypes\\concat.py\u001b[0m in \u001b[0;36mconcat_compat\u001b[1;34m(to_concat, axis)\u001b[0m\n\u001b[0;32m    135\u001b[0m                 \u001b[0mto_concat\u001b[0m \u001b[1;33m=\u001b[0m \u001b[1;33m[\u001b[0m\u001b[0mx\u001b[0m\u001b[1;33m.\u001b[0m\u001b[0mastype\u001b[0m\u001b[1;33m(\u001b[0m\u001b[1;34m\"object\"\u001b[0m\u001b[1;33m)\u001b[0m \u001b[1;32mfor\u001b[0m \u001b[0mx\u001b[0m \u001b[1;32min\u001b[0m \u001b[0mto_concat\u001b[0m\u001b[1;33m]\u001b[0m\u001b[1;33m\u001b[0m\u001b[1;33m\u001b[0m\u001b[0m\n\u001b[0;32m    136\u001b[0m \u001b[1;33m\u001b[0m\u001b[0m\n\u001b[1;32m--> 137\u001b[1;33m     \u001b[1;32mreturn\u001b[0m \u001b[0mnp\u001b[0m\u001b[1;33m.\u001b[0m\u001b[0mconcatenate\u001b[0m\u001b[1;33m(\u001b[0m\u001b[0mto_concat\u001b[0m\u001b[1;33m,\u001b[0m \u001b[0maxis\u001b[0m\u001b[1;33m=\u001b[0m\u001b[0maxis\u001b[0m\u001b[1;33m)\u001b[0m\u001b[1;33m\u001b[0m\u001b[1;33m\u001b[0m\u001b[0m\n\u001b[0m\u001b[0;32m    138\u001b[0m \u001b[1;33m\u001b[0m\u001b[0m\n\u001b[0;32m    139\u001b[0m \u001b[1;33m\u001b[0m\u001b[0m\n",
      "\u001b[1;32m<__array_function__ internals>\u001b[0m in \u001b[0;36mconcatenate\u001b[1;34m(*args, **kwargs)\u001b[0m\n",
      "\u001b[1;31mMemoryError\u001b[0m: Unable to allocate 5.69 GiB for an array with shape (81, 9424032) and data type float64"
     ]
    }
   ],
   "source": [
    "#this may give you a memory error.  it's really big.\n",
    "\n",
    "#perform 2 tier rolling window analysis on \n",
    "#mean, median, and std of x, y, and z for each pid\n",
    "\n",
    "start = datetime.now()\n",
    "\n",
    "for ii in ['x','y','z']:\n",
    "\n",
    "    extract_df = pd.DataFrame(columns = (extract(df, ids[0], ii)).columns)\n",
    "\n",
    "    for i in range(len(ids)):\n",
    "        extract_df = extract_df.append(extract(df,ids[i], ii))\n",
    "\n",
    "    df = extract_df\n",
    "    \n",
    "end = datetime.now()"
   ]
  },
  {
   "cell_type": "code",
   "execution_count": 470,
   "metadata": {},
   "outputs": [
    {
     "data": {
      "text/html": [
       "<div>\n",
       "<style scoped>\n",
       "    .dataframe tbody tr th:only-of-type {\n",
       "        vertical-align: middle;\n",
       "    }\n",
       "\n",
       "    .dataframe tbody tr th {\n",
       "        vertical-align: top;\n",
       "    }\n",
       "\n",
       "    .dataframe thead th {\n",
       "        text-align: right;\n",
       "    }\n",
       "</style>\n",
       "<table border=\"1\" class=\"dataframe\">\n",
       "  <thead>\n",
       "    <tr style=\"text-align: right;\">\n",
       "      <th></th>\n",
       "      <th>index</th>\n",
       "      <th>time</th>\n",
       "      <th>pid</th>\n",
       "      <th>x</th>\n",
       "      <th>y</th>\n",
       "      <th>z</th>\n",
       "      <th>TAC_Reading</th>\n",
       "      <th>0_x</th>\n",
       "      <th>1_x</th>\n",
       "      <th>2_x</th>\n",
       "      <th>...</th>\n",
       "      <th>x_std_mean</th>\n",
       "      <th>x_std_var</th>\n",
       "      <th>x_std_max</th>\n",
       "      <th>x_std_min</th>\n",
       "      <th>x_std_first_diff</th>\n",
       "      <th>x_std_fifth_diff</th>\n",
       "      <th>x_std_mean_diff</th>\n",
       "      <th>x_std_var_diff</th>\n",
       "      <th>x_std_max_diff</th>\n",
       "      <th>x_std_min_diff</th>\n",
       "    </tr>\n",
       "  </thead>\n",
       "  <tbody>\n",
       "    <tr>\n",
       "      <th>0</th>\n",
       "      <td>0</td>\n",
       "      <td>1493739732016</td>\n",
       "      <td>JB3156</td>\n",
       "      <td>-2.556815</td>\n",
       "      <td>8.312009</td>\n",
       "      <td>14.090558</td>\n",
       "      <td>0.035549</td>\n",
       "      <td>189.120316</td>\n",
       "      <td>53.257515</td>\n",
       "      <td>53.779331</td>\n",
       "      <td>...</td>\n",
       "      <td>NaN</td>\n",
       "      <td>NaN</td>\n",
       "      <td>NaN</td>\n",
       "      <td>NaN</td>\n",
       "      <td>NaN</td>\n",
       "      <td>NaN</td>\n",
       "      <td>NaN</td>\n",
       "      <td>NaN</td>\n",
       "      <td>NaN</td>\n",
       "      <td>NaN</td>\n",
       "    </tr>\n",
       "    <tr>\n",
       "      <th>1</th>\n",
       "      <td>1</td>\n",
       "      <td>1493739732035</td>\n",
       "      <td>JB3156</td>\n",
       "      <td>-2.499538</td>\n",
       "      <td>8.636412</td>\n",
       "      <td>13.906186</td>\n",
       "      <td>0.035549</td>\n",
       "      <td>189.120316</td>\n",
       "      <td>53.257515</td>\n",
       "      <td>53.779331</td>\n",
       "      <td>...</td>\n",
       "      <td>NaN</td>\n",
       "      <td>NaN</td>\n",
       "      <td>NaN</td>\n",
       "      <td>NaN</td>\n",
       "      <td>NaN</td>\n",
       "      <td>NaN</td>\n",
       "      <td>NaN</td>\n",
       "      <td>NaN</td>\n",
       "      <td>NaN</td>\n",
       "      <td>NaN</td>\n",
       "    </tr>\n",
       "    <tr>\n",
       "      <th>2</th>\n",
       "      <td>2</td>\n",
       "      <td>1493739732055</td>\n",
       "      <td>JB3156</td>\n",
       "      <td>-2.471458</td>\n",
       "      <td>8.687223</td>\n",
       "      <td>13.677473</td>\n",
       "      <td>0.035549</td>\n",
       "      <td>189.120316</td>\n",
       "      <td>53.257515</td>\n",
       "      <td>53.779331</td>\n",
       "      <td>...</td>\n",
       "      <td>NaN</td>\n",
       "      <td>NaN</td>\n",
       "      <td>NaN</td>\n",
       "      <td>NaN</td>\n",
       "      <td>NaN</td>\n",
       "      <td>NaN</td>\n",
       "      <td>NaN</td>\n",
       "      <td>NaN</td>\n",
       "      <td>NaN</td>\n",
       "      <td>NaN</td>\n",
       "    </tr>\n",
       "    <tr>\n",
       "      <th>3</th>\n",
       "      <td>3</td>\n",
       "      <td>1493739732075</td>\n",
       "      <td>JB3156</td>\n",
       "      <td>-2.244561</td>\n",
       "      <td>8.832140</td>\n",
       "      <td>13.288850</td>\n",
       "      <td>0.035549</td>\n",
       "      <td>189.120316</td>\n",
       "      <td>53.257515</td>\n",
       "      <td>53.779331</td>\n",
       "      <td>...</td>\n",
       "      <td>NaN</td>\n",
       "      <td>NaN</td>\n",
       "      <td>NaN</td>\n",
       "      <td>NaN</td>\n",
       "      <td>NaN</td>\n",
       "      <td>NaN</td>\n",
       "      <td>NaN</td>\n",
       "      <td>NaN</td>\n",
       "      <td>NaN</td>\n",
       "      <td>NaN</td>\n",
       "    </tr>\n",
       "    <tr>\n",
       "      <th>4</th>\n",
       "      <td>4</td>\n",
       "      <td>1493739732095</td>\n",
       "      <td>JB3156</td>\n",
       "      <td>-2.453742</td>\n",
       "      <td>9.053032</td>\n",
       "      <td>12.610379</td>\n",
       "      <td>0.035549</td>\n",
       "      <td>189.120316</td>\n",
       "      <td>53.257515</td>\n",
       "      <td>53.779331</td>\n",
       "      <td>...</td>\n",
       "      <td>NaN</td>\n",
       "      <td>NaN</td>\n",
       "      <td>NaN</td>\n",
       "      <td>NaN</td>\n",
       "      <td>NaN</td>\n",
       "      <td>NaN</td>\n",
       "      <td>NaN</td>\n",
       "      <td>NaN</td>\n",
       "      <td>NaN</td>\n",
       "      <td>NaN</td>\n",
       "    </tr>\n",
       "    <tr>\n",
       "      <th>...</th>\n",
       "      <td>...</td>\n",
       "      <td>...</td>\n",
       "      <td>...</td>\n",
       "      <td>...</td>\n",
       "      <td>...</td>\n",
       "      <td>...</td>\n",
       "      <td>...</td>\n",
       "      <td>...</td>\n",
       "      <td>...</td>\n",
       "      <td>...</td>\n",
       "      <td>...</td>\n",
       "      <td>...</td>\n",
       "      <td>...</td>\n",
       "      <td>...</td>\n",
       "      <td>...</td>\n",
       "      <td>...</td>\n",
       "      <td>...</td>\n",
       "      <td>...</td>\n",
       "      <td>...</td>\n",
       "      <td>...</td>\n",
       "      <td>...</td>\n",
       "    </tr>\n",
       "    <tr>\n",
       "      <th>1339617</th>\n",
       "      <td>14057560</td>\n",
       "      <td>1493809885629</td>\n",
       "      <td>DK3500</td>\n",
       "      <td>-0.000800</td>\n",
       "      <td>0.000500</td>\n",
       "      <td>0.006300</td>\n",
       "      <td>0.011943</td>\n",
       "      <td>-216.527130</td>\n",
       "      <td>-8.199280</td>\n",
       "      <td>-10.006081</td>\n",
       "      <td>...</td>\n",
       "      <td>0.000600</td>\n",
       "      <td>1.667797e-10</td>\n",
       "      <td>0.000620</td>\n",
       "      <td>0.000587</td>\n",
       "      <td>0.000085</td>\n",
       "      <td>0.000035</td>\n",
       "      <td>0.000066</td>\n",
       "      <td>-4.237393e-10</td>\n",
       "      <td>0.000050</td>\n",
       "      <td>0.000050</td>\n",
       "    </tr>\n",
       "    <tr>\n",
       "      <th>1339618</th>\n",
       "      <td>14057561</td>\n",
       "      <td>1493809885654</td>\n",
       "      <td>DK3500</td>\n",
       "      <td>0.001000</td>\n",
       "      <td>-0.000300</td>\n",
       "      <td>0.006100</td>\n",
       "      <td>0.011943</td>\n",
       "      <td>-216.527130</td>\n",
       "      <td>-8.199280</td>\n",
       "      <td>-10.006081</td>\n",
       "      <td>...</td>\n",
       "      <td>0.000600</td>\n",
       "      <td>1.637669e-10</td>\n",
       "      <td>0.000620</td>\n",
       "      <td>0.000586</td>\n",
       "      <td>0.000085</td>\n",
       "      <td>0.000035</td>\n",
       "      <td>0.000066</td>\n",
       "      <td>-4.289522e-10</td>\n",
       "      <td>0.000050</td>\n",
       "      <td>0.000050</td>\n",
       "    </tr>\n",
       "    <tr>\n",
       "      <th>1339619</th>\n",
       "      <td>14057562</td>\n",
       "      <td>1493809885679</td>\n",
       "      <td>DK3500</td>\n",
       "      <td>-0.000200</td>\n",
       "      <td>-0.000100</td>\n",
       "      <td>0.006300</td>\n",
       "      <td>0.011943</td>\n",
       "      <td>-216.527130</td>\n",
       "      <td>-8.199280</td>\n",
       "      <td>-10.006081</td>\n",
       "      <td>...</td>\n",
       "      <td>0.000600</td>\n",
       "      <td>1.608379e-10</td>\n",
       "      <td>0.000620</td>\n",
       "      <td>0.000586</td>\n",
       "      <td>0.000085</td>\n",
       "      <td>0.000035</td>\n",
       "      <td>0.000066</td>\n",
       "      <td>-4.341753e-10</td>\n",
       "      <td>0.000049</td>\n",
       "      <td>0.000049</td>\n",
       "    </tr>\n",
       "    <tr>\n",
       "      <th>1339620</th>\n",
       "      <td>14057563</td>\n",
       "      <td>1493809885705</td>\n",
       "      <td>DK3500</td>\n",
       "      <td>-0.001100</td>\n",
       "      <td>0.000100</td>\n",
       "      <td>0.006700</td>\n",
       "      <td>0.011943</td>\n",
       "      <td>-216.527130</td>\n",
       "      <td>-8.199280</td>\n",
       "      <td>-10.006081</td>\n",
       "      <td>...</td>\n",
       "      <td>0.000600</td>\n",
       "      <td>1.580380e-10</td>\n",
       "      <td>0.000620</td>\n",
       "      <td>0.000586</td>\n",
       "      <td>0.000085</td>\n",
       "      <td>0.000034</td>\n",
       "      <td>0.000066</td>\n",
       "      <td>-4.393217e-10</td>\n",
       "      <td>0.000049</td>\n",
       "      <td>0.000049</td>\n",
       "    </tr>\n",
       "    <tr>\n",
       "      <th>1339621</th>\n",
       "      <td>14057564</td>\n",
       "      <td>1493809885731</td>\n",
       "      <td>DK3500</td>\n",
       "      <td>-0.000000</td>\n",
       "      <td>0.000100</td>\n",
       "      <td>0.006200</td>\n",
       "      <td>0.011943</td>\n",
       "      <td>-216.527130</td>\n",
       "      <td>-8.199280</td>\n",
       "      <td>-10.006081</td>\n",
       "      <td>...</td>\n",
       "      <td>0.000601</td>\n",
       "      <td>1.554321e-10</td>\n",
       "      <td>0.000619</td>\n",
       "      <td>0.000586</td>\n",
       "      <td>0.000086</td>\n",
       "      <td>0.000034</td>\n",
       "      <td>0.000066</td>\n",
       "      <td>-4.440646e-10</td>\n",
       "      <td>0.000049</td>\n",
       "      <td>0.000049</td>\n",
       "    </tr>\n",
       "  </tbody>\n",
       "</table>\n",
       "<p>14057565 rows × 109 columns</p>\n",
       "</div>"
      ],
      "text/plain": [
       "            index           time     pid         x         y          z  \\\n",
       "0               0  1493739732016  JB3156 -2.556815  8.312009  14.090558   \n",
       "1               1  1493739732035  JB3156 -2.499538  8.636412  13.906186   \n",
       "2               2  1493739732055  JB3156 -2.471458  8.687223  13.677473   \n",
       "3               3  1493739732075  JB3156 -2.244561  8.832140  13.288850   \n",
       "4               4  1493739732095  JB3156 -2.453742  9.053032  12.610379   \n",
       "...           ...            ...     ...       ...       ...        ...   \n",
       "1339617  14057560  1493809885629  DK3500 -0.000800  0.000500   0.006300   \n",
       "1339618  14057561  1493809885654  DK3500  0.001000 -0.000300   0.006100   \n",
       "1339619  14057562  1493809885679  DK3500 -0.000200 -0.000100   0.006300   \n",
       "1339620  14057563  1493809885705  DK3500 -0.001100  0.000100   0.006700   \n",
       "1339621  14057564  1493809885731  DK3500 -0.000000  0.000100   0.006200   \n",
       "\n",
       "         TAC_Reading         0_x        1_x        2_x  ...  x_std_mean  \\\n",
       "0           0.035549  189.120316  53.257515  53.779331  ...         NaN   \n",
       "1           0.035549  189.120316  53.257515  53.779331  ...         NaN   \n",
       "2           0.035549  189.120316  53.257515  53.779331  ...         NaN   \n",
       "3           0.035549  189.120316  53.257515  53.779331  ...         NaN   \n",
       "4           0.035549  189.120316  53.257515  53.779331  ...         NaN   \n",
       "...              ...         ...        ...        ...  ...         ...   \n",
       "1339617     0.011943 -216.527130  -8.199280 -10.006081  ...    0.000600   \n",
       "1339618     0.011943 -216.527130  -8.199280 -10.006081  ...    0.000600   \n",
       "1339619     0.011943 -216.527130  -8.199280 -10.006081  ...    0.000600   \n",
       "1339620     0.011943 -216.527130  -8.199280 -10.006081  ...    0.000600   \n",
       "1339621     0.011943 -216.527130  -8.199280 -10.006081  ...    0.000601   \n",
       "\n",
       "            x_std_var  x_std_max  x_std_min  x_std_first_diff  \\\n",
       "0                 NaN        NaN        NaN               NaN   \n",
       "1                 NaN        NaN        NaN               NaN   \n",
       "2                 NaN        NaN        NaN               NaN   \n",
       "3                 NaN        NaN        NaN               NaN   \n",
       "4                 NaN        NaN        NaN               NaN   \n",
       "...               ...        ...        ...               ...   \n",
       "1339617  1.667797e-10   0.000620   0.000587          0.000085   \n",
       "1339618  1.637669e-10   0.000620   0.000586          0.000085   \n",
       "1339619  1.608379e-10   0.000620   0.000586          0.000085   \n",
       "1339620  1.580380e-10   0.000620   0.000586          0.000085   \n",
       "1339621  1.554321e-10   0.000619   0.000586          0.000086   \n",
       "\n",
       "         x_std_fifth_diff  x_std_mean_diff  x_std_var_diff  x_std_max_diff  \\\n",
       "0                     NaN              NaN             NaN             NaN   \n",
       "1                     NaN              NaN             NaN             NaN   \n",
       "2                     NaN              NaN             NaN             NaN   \n",
       "3                     NaN              NaN             NaN             NaN   \n",
       "4                     NaN              NaN             NaN             NaN   \n",
       "...                   ...              ...             ...             ...   \n",
       "1339617          0.000035         0.000066   -4.237393e-10        0.000050   \n",
       "1339618          0.000035         0.000066   -4.289522e-10        0.000050   \n",
       "1339619          0.000035         0.000066   -4.341753e-10        0.000049   \n",
       "1339620          0.000034         0.000066   -4.393217e-10        0.000049   \n",
       "1339621          0.000034         0.000066   -4.440646e-10        0.000049   \n",
       "\n",
       "         x_std_min_diff  \n",
       "0                   NaN  \n",
       "1                   NaN  \n",
       "2                   NaN  \n",
       "3                   NaN  \n",
       "4                   NaN  \n",
       "...                 ...  \n",
       "1339617        0.000050  \n",
       "1339618        0.000050  \n",
       "1339619        0.000049  \n",
       "1339620        0.000049  \n",
       "1339621        0.000049  \n",
       "\n",
       "[14057565 rows x 109 columns]"
      ]
     },
     "execution_count": 470,
     "metadata": {},
     "output_type": "execute_result"
    }
   ],
   "source": [
    "df"
   ]
  },
  {
   "cell_type": "code",
   "execution_count": 454,
   "metadata": {},
   "outputs": [],
   "source": [
    "second = df[df['pid'] == ids[1]].copy().reset_index()"
   ]
  },
  {
   "cell_type": "code",
   "execution_count": 458,
   "metadata": {},
   "outputs": [
    {
     "data": {
      "text/plain": [
       "RangeIndex(start=0, stop=1178112, step=512)"
      ]
     },
     "execution_count": 458,
     "metadata": {},
     "output_type": "execute_result"
    }
   ],
   "source": [
    "pd.DataFrame(mfcc_z).index * expansion_z"
   ]
  },
  {
   "cell_type": "code",
   "execution_count": 460,
   "metadata": {},
   "outputs": [],
   "source": [
    "def mfcc(df, pid):\n",
    "    \n",
    "    #give whole df, one pid at a time\n",
    "    \n",
    "    df = df[df['pid'] == pid].copy().reset_index()\n",
    "    \n",
    "    Fs = 40\n",
    "    mfcc_x_array = librosa.feature.mfcc(np.array(df['x']), sr=Fs).T\n",
    "    mfcc_y_array = librosa.feature.mfcc(np.array(df['y']), sr=Fs).T\n",
    "    mfcc_z_array = librosa.feature.mfcc(np.array(df['z']), sr=Fs).T\n",
    "\n",
    "    x_mfcc = pd.DataFrame(mfcc_x_array)\n",
    "    y_mfcc = pd.DataFrame(mfcc_y_array)\n",
    "    z_mfcc = pd.DataFrame(mfcc_z_array)\n",
    "\n",
    "    expansion_x = round(len(df)/len(x_mfcc))\n",
    "    new_index_x = (pd.DataFrame(x_mfcc).index * expansion_x)\n",
    "    x_mfcc.index = new_index_x\n",
    "\n",
    "    expansion_y = round(len(df)/len(y_mfcc))\n",
    "    new_index_y = (pd.DataFrame(y_mfcc).index * expansion_y)\n",
    "    y_mfcc.index = new_index_x\n",
    "\n",
    "    expansion_z = round(len(df)/len(z_mfcc))\n",
    "    new_index_z = (pd.DataFrame(z_mfcc).index * expansion_z)\n",
    "    z_mfcc.index = new_index_z\n",
    "\n",
    "    df = pd.merge_asof(df,x_mfcc, left_index = True, right_index = True)\n",
    "    df = pd.merge_asof(df,y_mfcc, left_index = True, right_index = True)\n",
    "    df = pd.merge_asof(df,z_mfcc, left_index = True, right_index = True)\n",
    " \n",
    "    #new_names = [(i,i+'_z') for i in df.iloc[:, 6:].columns.values]\n",
    "    #df.rename(columns = dict(new_names), inplace=True)\n",
    "\n",
    "    return df"
   ]
  },
  {
   "cell_type": "code",
   "execution_count": 374,
   "metadata": {},
   "outputs": [],
   "source": [
    "def rms(df,pid):\n",
    "    \n",
    "    #give whole df, one pid at a time\n",
    "    \n",
    "    df = df[df['pid'] == pid].copy()\n",
    "    \n",
    "    sec = 51\n",
    "    short = sec*2\n",
    "    full = sec*10\n",
    "    \n",
    "    df['x_rms'] = ((df['x']**2)**.5).rolling(window=short).mean()\n",
    "    df['y_rms'] = ((df['y']**2)**.5).rolling(window=short).mean()\n",
    "    df['z_rms'] = ((df['z']**2)**.5).rolling(window=short).mean()\n",
    "    \n",
    "    return df"
   ]
  },
  {
   "cell_type": "code",
   "execution_count": 375,
   "metadata": {},
   "outputs": [],
   "source": [
    "def extract(df,pid,feature):\n",
    "    \n",
    "    #give this x, y, z, for each pid\n",
    "    \n",
    "    df = df[df['pid'] == pid].copy()\n",
    "    \n",
    "    df[feature + '_mean'] = df[feature].rolling(window=full).mean()\n",
    "    df[feature + '_median'] = df[feature].rolling(window=full).median()\n",
    "    df[feature + '_std'] = df[feature].rolling(window=full).std()\n",
    "    \n",
    "    df = summarize(df,pid,feature + '_mean')\n",
    "    df = summarize(df,pid,feature + '_median')\n",
    "    df = summarize(df,pid,feature + '_std')\n",
    "    \n",
    "    return df"
   ]
  },
  {
   "cell_type": "code",
   "execution_count": 376,
   "metadata": {},
   "outputs": [],
   "source": [
    "def summarize(df,pid,feature):\n",
    "    \n",
    "    #called by extract, don't call separately\n",
    "    \n",
    "    #feature: mean over rolling window of 10 seconds\n",
    "    #break into windows of 2 seconds\n",
    "    #take mean, variance, max, min of those 5 windows as new features\n",
    "    #take mean of bottom 2 seconds and mean of top 2 seconds as new features\n",
    "    \n",
    "    df = df[df['pid'] == pid].copy()\n",
    "    \n",
    "    sec = 51\n",
    "    short = sec*2\n",
    "    full = sec*10\n",
    "    \n",
    "    df[feature + '_first'] = df[feature].shift(short*4).rolling(window=short).mean()\n",
    "    df['second'] = df[feature].shift(short*3).rolling(window=short).mean()\n",
    "    df['third'] = df[feature].shift(short*2).rolling(window=short).mean()\n",
    "    df['fourth'] = df[feature].shift(short*1).rolling(window=short).mean()\n",
    "    df[feature + '_fifth'] = df[feature].rolling(window=short).mean()\n",
    "    \n",
    "    df[feature + '_mean'] = df[[feature + '_first', 'second', \n",
    "                                'third', 'fourth', feature + '_fifth']].mean(axis=1)\n",
    "    \n",
    "    df[feature + '_var'] = df[[feature + '_first', 'second', \n",
    "                                'third', 'fourth', feature + '_fifth']].var(axis=1)\n",
    "    \n",
    "    df[feature + '_max'] = df[[feature + '_first', 'second', \n",
    "                                'third', 'fourth', feature + '_fifth']].max(axis=1)\n",
    "    \n",
    "    df[feature + '_min'] = df[[feature + '_first', 'second', \n",
    "                                'third', 'fourth', feature + '_fifth']].min(axis=1)\n",
    "    \n",
    "    df.drop(['second','third','fourth'],axis = 1, inplace = True)\n",
    "    \n",
    "    df[feature + '_first' + '_diff'] = df[feature + '_first'].diff(periods = full)\n",
    "    df[feature + '_fifth' + '_diff'] = df[feature + '_fifth'].diff(periods = full)\n",
    "    df[feature + '_mean' + '_diff'] = df[feature + '_mean'].diff(periods = full)\n",
    "    df[feature + '_var' + '_diff'] = df[feature + '_var'].diff(periods = full)\n",
    "    df[feature + '_max' + '_diff'] = df[feature + '_max'].diff(periods = full)\n",
    "    df[feature + '_min' + '_diff'] = df[feature + '_max'].diff(periods = full)\n",
    "\n",
    "    return df\n",
    "    "
   ]
  },
  {
   "cell_type": "code",
   "execution_count": 471,
   "metadata": {},
   "outputs": [],
   "source": [
    " def getZeroCrossingRate(arr):\n",
    "        my_array = np.array(arr)\n",
    "        return float(\"{0:.2f}\".format((((my_array[:-1] * my_array[1:]) < 0).sum())/len(arr)))"
   ]
  },
  {
   "cell_type": "code",
   "execution_count": null,
   "metadata": {},
   "outputs": [],
   "source": [
    "def zerocross(df,pid):\n",
    "    \n",
    "    #takes full df and specific pid to work on\n",
    "    #apply to windows (rolling.apply didn't seem to work)\n",
    "    \n",
    "    df = df[df['pid'] == pid].copy()\n",
    "    \n",
    "    sec = 51\n",
    "    short = sec*2\n",
    "    full = sec*10\n",
    "    \n",
    "    #df['x_cross'] ="
   ]
  },
  {
   "cell_type": "code",
   "execution_count": 474,
   "metadata": {},
   "outputs": [
    {
     "data": {
      "text/plain": [
       "0.13"
      ]
     },
     "execution_count": 474,
     "metadata": {},
     "output_type": "execute_result"
    }
   ],
   "source": [
    "getZeroCrossingRate(np.array(dummy['x']))"
   ]
  },
  {
   "cell_type": "code",
   "execution_count": 480,
   "metadata": {},
   "outputs": [
    {
     "ename": "MemoryError",
     "evalue": "",
     "output_type": "error",
     "traceback": [
      "\u001b[1;31m---------------------------------------------------------------------------\u001b[0m",
      "\u001b[1;31mMemoryError\u001b[0m                               Traceback (most recent call last)",
      "\u001b[1;32m<ipython-input-480-1a4847647633>\u001b[0m in \u001b[0;36m<module>\u001b[1;34m\u001b[0m\n\u001b[1;32m----> 1\u001b[1;33m \u001b[0mdf\u001b[0m\u001b[1;33m.\u001b[0m\u001b[0mto_pickle\u001b[0m\u001b[1;33m(\u001b[0m\u001b[1;34m'./semi_processed.pkl'\u001b[0m\u001b[1;33m)\u001b[0m\u001b[1;33m\u001b[0m\u001b[1;33m\u001b[0m\u001b[0m\n\u001b[0m",
      "\u001b[1;32m~\\Anaconda3\\lib\\site-packages\\pandas\\core\\generic.py\u001b[0m in \u001b[0;36mto_pickle\u001b[1;34m(self, path, compression, protocol)\u001b[0m\n\u001b[0;32m   2723\u001b[0m         \u001b[1;32mfrom\u001b[0m \u001b[0mpandas\u001b[0m\u001b[1;33m.\u001b[0m\u001b[0mio\u001b[0m\u001b[1;33m.\u001b[0m\u001b[0mpickle\u001b[0m \u001b[1;32mimport\u001b[0m \u001b[0mto_pickle\u001b[0m\u001b[1;33m\u001b[0m\u001b[1;33m\u001b[0m\u001b[0m\n\u001b[0;32m   2724\u001b[0m \u001b[1;33m\u001b[0m\u001b[0m\n\u001b[1;32m-> 2725\u001b[1;33m         \u001b[0mto_pickle\u001b[0m\u001b[1;33m(\u001b[0m\u001b[0mself\u001b[0m\u001b[1;33m,\u001b[0m \u001b[0mpath\u001b[0m\u001b[1;33m,\u001b[0m \u001b[0mcompression\u001b[0m\u001b[1;33m=\u001b[0m\u001b[0mcompression\u001b[0m\u001b[1;33m,\u001b[0m \u001b[0mprotocol\u001b[0m\u001b[1;33m=\u001b[0m\u001b[0mprotocol\u001b[0m\u001b[1;33m)\u001b[0m\u001b[1;33m\u001b[0m\u001b[1;33m\u001b[0m\u001b[0m\n\u001b[0m\u001b[0;32m   2726\u001b[0m \u001b[1;33m\u001b[0m\u001b[0m\n\u001b[0;32m   2727\u001b[0m     def to_clipboard(\n",
      "\u001b[1;32m~\\Anaconda3\\lib\\site-packages\\pandas\\io\\pickle.py\u001b[0m in \u001b[0;36mto_pickle\u001b[1;34m(obj, filepath_or_buffer, compression, protocol)\u001b[0m\n\u001b[0;32m     86\u001b[0m         \u001b[0mprotocol\u001b[0m \u001b[1;33m=\u001b[0m \u001b[0mpickle\u001b[0m\u001b[1;33m.\u001b[0m\u001b[0mHIGHEST_PROTOCOL\u001b[0m\u001b[1;33m\u001b[0m\u001b[1;33m\u001b[0m\u001b[0m\n\u001b[0;32m     87\u001b[0m     \u001b[1;32mtry\u001b[0m\u001b[1;33m:\u001b[0m\u001b[1;33m\u001b[0m\u001b[1;33m\u001b[0m\u001b[0m\n\u001b[1;32m---> 88\u001b[1;33m         \u001b[0mf\u001b[0m\u001b[1;33m.\u001b[0m\u001b[0mwrite\u001b[0m\u001b[1;33m(\u001b[0m\u001b[0mpickle\u001b[0m\u001b[1;33m.\u001b[0m\u001b[0mdumps\u001b[0m\u001b[1;33m(\u001b[0m\u001b[0mobj\u001b[0m\u001b[1;33m,\u001b[0m \u001b[0mprotocol\u001b[0m\u001b[1;33m=\u001b[0m\u001b[0mprotocol\u001b[0m\u001b[1;33m)\u001b[0m\u001b[1;33m)\u001b[0m\u001b[1;33m\u001b[0m\u001b[1;33m\u001b[0m\u001b[0m\n\u001b[0m\u001b[0;32m     89\u001b[0m     \u001b[1;32mfinally\u001b[0m\u001b[1;33m:\u001b[0m\u001b[1;33m\u001b[0m\u001b[1;33m\u001b[0m\u001b[0m\n\u001b[0;32m     90\u001b[0m         \u001b[0mf\u001b[0m\u001b[1;33m.\u001b[0m\u001b[0mclose\u001b[0m\u001b[1;33m(\u001b[0m\u001b[1;33m)\u001b[0m\u001b[1;33m\u001b[0m\u001b[1;33m\u001b[0m\u001b[0m\n",
      "\u001b[1;31mMemoryError\u001b[0m: "
     ]
    }
   ],
   "source": [
    "df.to_pickle('./semi_processed.pkl')"
   ]
  }
 ],
 "metadata": {
  "kernelspec": {
   "display_name": "Python 3",
   "language": "python",
   "name": "python3"
  },
  "language_info": {
   "codemirror_mode": {
    "name": "ipython",
    "version": 3
   },
   "file_extension": ".py",
   "mimetype": "text/x-python",
   "name": "python",
   "nbconvert_exporter": "python",
   "pygments_lexer": "ipython3",
   "version": "3.7.3"
  }
 },
 "nbformat": 4,
 "nbformat_minor": 4
}
