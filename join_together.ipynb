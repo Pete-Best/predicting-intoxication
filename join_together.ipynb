{
 "cells": [
  {
   "cell_type": "markdown",
   "metadata": {},
   "source": [
    "https://www.youtube.com/watch?v=_HDMCCLlGl4"
   ]
  },
  {
   "cell_type": "code",
   "execution_count": 1,
   "metadata": {},
   "outputs": [],
   "source": [
    "from os import listdir\n",
    "from os.path import isfile, join\n",
    "import pathlib\n",
    "import pandas as pd"
   ]
  },
  {
   "cell_type": "code",
   "execution_count": 2,
   "metadata": {},
   "outputs": [],
   "source": [
    "tac_path = 'C:/Users/peter/Desktop/Spring_2020/Machine_Learning/project/clean_tac'"
   ]
  },
  {
   "cell_type": "code",
   "execution_count": 3,
   "metadata": {},
   "outputs": [],
   "source": [
    "tac_files = [f for f in listdir(tac_path) if isfile(join(tac_path, f))]"
   ]
  },
  {
   "cell_type": "code",
   "execution_count": 4,
   "metadata": {},
   "outputs": [],
   "source": [
    "#read in tac data, add 3 zeros to each to match size of accelerometer timestamp ints\n",
    "tac = pd.DataFrame(columns = ['timestamp','TAC_Reading','pid'])\n",
    "\n",
    "for i in range(len(tac_files)):\n",
    "    tac_temp = pd.read_csv(tac_path + '/' + tac_files[i])\n",
    "    tac_temp['pid'] = tac_files[i][0:6]\n",
    "    tac = tac.append(tac_temp)\n",
    "    \n",
    "tac['time'] = pd.to_numeric(tac['timestamp'].astype(str) + '000')\n",
    "tac = tac.drop('timestamp', axis = 1)"
   ]
  },
  {
   "cell_type": "code",
   "execution_count": 5,
   "metadata": {},
   "outputs": [],
   "source": [
    "#acc data is in same path as this notebook\n",
    "#read acc data\n",
    "acc = pd.read_csv('all_accelerometer_data_pids_13.csv')\n",
    "ids = acc['pid'].unique()"
   ]
  },
  {
   "cell_type": "code",
   "execution_count": 6,
   "metadata": {},
   "outputs": [],
   "source": [
    "comb = pd.DataFrame(columns = pd.merge_asof(acc[acc['pid'] == ids[0]],tac[tac['pid'] == ids[0]], on = 'time').columns)\n",
    "\n",
    "for i in range(len(ids)):\n",
    "    comb = comb.append(pd.merge_asof(acc[acc['pid'] == ids[i]],tac[tac['pid'] == ids[i]], on = 'time', direction = 'nearest'))"
   ]
  },
  {
   "cell_type": "code",
   "execution_count": 7,
   "metadata": {},
   "outputs": [],
   "source": [
    "#dropping two instances where accelerometer output is zero for all readings\n",
    "comb = comb[comb['time'] != 0]\n",
    "\n",
    "#shouldn't be any NAs but whatever\n",
    "comb = comb.dropna(axis = 0)"
   ]
  },
  {
   "cell_type": "code",
   "execution_count": 8,
   "metadata": {},
   "outputs": [
    {
     "data": {
      "text/plain": [
       "0"
      ]
     },
     "execution_count": 8,
     "metadata": {},
     "output_type": "execute_result"
    }
   ],
   "source": [
    "#confirm pids match\n",
    "(comb['pid_x'] != comb['pid_y']).sum()"
   ]
  },
  {
   "cell_type": "code",
   "execution_count": 9,
   "metadata": {},
   "outputs": [],
   "source": [
    "#drop redundant pid column\n",
    "comb = comb.rename(columns={'pid_x': 'pid'})\n",
    "comb = comb.drop('pid_y', axis = 1)"
   ]
  },
  {
   "cell_type": "code",
   "execution_count": 10,
   "metadata": {
    "scrolled": true
   },
   "outputs": [
    {
     "data": {
      "text/html": [
       "<div>\n",
       "<style scoped>\n",
       "    .dataframe tbody tr th:only-of-type {\n",
       "        vertical-align: middle;\n",
       "    }\n",
       "\n",
       "    .dataframe tbody tr th {\n",
       "        vertical-align: top;\n",
       "    }\n",
       "\n",
       "    .dataframe thead th {\n",
       "        text-align: right;\n",
       "    }\n",
       "</style>\n",
       "<table border=\"1\" class=\"dataframe\">\n",
       "  <thead>\n",
       "    <tr style=\"text-align: right;\">\n",
       "      <th></th>\n",
       "      <th>a</th>\n",
       "      <th>right_val</th>\n",
       "      <th>left_val</th>\n",
       "    </tr>\n",
       "  </thead>\n",
       "  <tbody>\n",
       "    <tr>\n",
       "      <th>0</th>\n",
       "      <td>1</td>\n",
       "      <td>1</td>\n",
       "      <td>a</td>\n",
       "    </tr>\n",
       "    <tr>\n",
       "      <th>1</th>\n",
       "      <td>2</td>\n",
       "      <td>2</td>\n",
       "      <td>a</td>\n",
       "    </tr>\n",
       "    <tr>\n",
       "      <th>2</th>\n",
       "      <td>3</td>\n",
       "      <td>3</td>\n",
       "      <td>a</td>\n",
       "    </tr>\n",
       "    <tr>\n",
       "      <th>3</th>\n",
       "      <td>6</td>\n",
       "      <td>6</td>\n",
       "      <td>b</td>\n",
       "    </tr>\n",
       "    <tr>\n",
       "      <th>4</th>\n",
       "      <td>7</td>\n",
       "      <td>7</td>\n",
       "      <td>b</td>\n",
       "    </tr>\n",
       "  </tbody>\n",
       "</table>\n",
       "</div>"
      ],
      "text/plain": [
       "   a  right_val left_val\n",
       "0  1          1        a\n",
       "1  2          2        a\n",
       "2  3          3        a\n",
       "3  6          6        b\n",
       "4  7          7        b"
      ]
     },
     "execution_count": 10,
     "metadata": {},
     "output_type": "execute_result"
    }
   ],
   "source": [
    "#how merge_asof works: essentially a left join\n",
    "right = pd.DataFrame({'a': [1, 5, 10], 'left_val': ['a', 'b', 'c']})\n",
    "left = pd.DataFrame({'a': [1, 2, 3, 6, 7],\n",
    "                      'right_val': [1, 2, 3, 6, 7]})\n",
    "pd.merge_asof(left, right, on='a', direction = 'nearest')"
   ]
  },
  {
   "cell_type": "code",
   "execution_count": 16,
   "metadata": {},
   "outputs": [],
   "source": [
    "comb = comb.reset_index().drop('index',axis = 1)"
   ]
  },
  {
   "cell_type": "code",
   "execution_count": 18,
   "metadata": {},
   "outputs": [],
   "source": [
    "comb.to_pickle('./joined.pkl')"
   ]
  },
  {
   "cell_type": "code",
   "execution_count": 7,
   "metadata": {},
   "outputs": [],
   "source": [
    "df = pd.read_pickle('joined.pkl')"
   ]
  },
  {
   "cell_type": "code",
   "execution_count": 8,
   "metadata": {},
   "outputs": [
    {
     "data": {
      "text/html": [
       "<div>\n",
       "<style scoped>\n",
       "    .dataframe tbody tr th:only-of-type {\n",
       "        vertical-align: middle;\n",
       "    }\n",
       "\n",
       "    .dataframe tbody tr th {\n",
       "        vertical-align: top;\n",
       "    }\n",
       "\n",
       "    .dataframe thead th {\n",
       "        text-align: right;\n",
       "    }\n",
       "</style>\n",
       "<table border=\"1\" class=\"dataframe\">\n",
       "  <thead>\n",
       "    <tr style=\"text-align: right;\">\n",
       "      <th></th>\n",
       "      <th>time</th>\n",
       "      <th>pid</th>\n",
       "      <th>x</th>\n",
       "      <th>y</th>\n",
       "      <th>z</th>\n",
       "      <th>TAC_Reading</th>\n",
       "    </tr>\n",
       "  </thead>\n",
       "  <tbody>\n",
       "    <tr>\n",
       "      <th>1</th>\n",
       "      <td>1493739732016</td>\n",
       "      <td>JB3156</td>\n",
       "      <td>-2.556815</td>\n",
       "      <td>8.312009</td>\n",
       "      <td>14.090558</td>\n",
       "      <td>0.035549</td>\n",
       "    </tr>\n",
       "    <tr>\n",
       "      <th>2</th>\n",
       "      <td>1493739732035</td>\n",
       "      <td>JB3156</td>\n",
       "      <td>-2.499538</td>\n",
       "      <td>8.636412</td>\n",
       "      <td>13.906186</td>\n",
       "      <td>0.035549</td>\n",
       "    </tr>\n",
       "    <tr>\n",
       "      <th>3</th>\n",
       "      <td>1493739732055</td>\n",
       "      <td>JB3156</td>\n",
       "      <td>-2.471458</td>\n",
       "      <td>8.687223</td>\n",
       "      <td>13.677473</td>\n",
       "      <td>0.035549</td>\n",
       "    </tr>\n",
       "    <tr>\n",
       "      <th>4</th>\n",
       "      <td>1493739732075</td>\n",
       "      <td>JB3156</td>\n",
       "      <td>-2.244561</td>\n",
       "      <td>8.832140</td>\n",
       "      <td>13.288850</td>\n",
       "      <td>0.035549</td>\n",
       "    </tr>\n",
       "    <tr>\n",
       "      <th>5</th>\n",
       "      <td>1493739732095</td>\n",
       "      <td>JB3156</td>\n",
       "      <td>-2.453742</td>\n",
       "      <td>9.053032</td>\n",
       "      <td>12.610379</td>\n",
       "      <td>0.035549</td>\n",
       "    </tr>\n",
       "  </tbody>\n",
       "</table>\n",
       "</div>"
      ],
      "text/plain": [
       "            time     pid         x         y          z  TAC_Reading\n",
       "1  1493739732016  JB3156 -2.556815  8.312009  14.090558     0.035549\n",
       "2  1493739732035  JB3156 -2.499538  8.636412  13.906186     0.035549\n",
       "3  1493739732055  JB3156 -2.471458  8.687223  13.677473     0.035549\n",
       "4  1493739732075  JB3156 -2.244561  8.832140  13.288850     0.035549\n",
       "5  1493739732095  JB3156 -2.453742  9.053032  12.610379     0.035549"
      ]
     },
     "execution_count": 8,
     "metadata": {},
     "output_type": "execute_result"
    }
   ],
   "source": [
    "df.head()"
   ]
  }
 ],
 "metadata": {
  "kernelspec": {
   "display_name": "Python 3",
   "language": "python",
   "name": "python3"
  },
  "language_info": {
   "codemirror_mode": {
    "name": "ipython",
    "version": 3
   },
   "file_extension": ".py",
   "mimetype": "text/x-python",
   "name": "python",
   "nbconvert_exporter": "python",
   "pygments_lexer": "ipython3",
   "version": "3.7.3"
  }
 },
 "nbformat": 4,
 "nbformat_minor": 4
}
